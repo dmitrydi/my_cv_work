{
 "cells": [
  {
   "cell_type": "markdown",
   "metadata": {},
   "source": [
    "# Конвертирует разметку из json-файла в набор xml-файлов для обучения darkflow"
   ]
  },
  {
   "cell_type": "code",
   "execution_count": 7,
   "metadata": {
    "collapsed": true
   },
   "outputs": [],
   "source": [
    "img_shape = (1280,720,3) #размер изображения"
   ]
  },
  {
   "cell_type": "code",
   "execution_count": 8,
   "metadata": {
    "collapsed": true
   },
   "outputs": [],
   "source": [
    "import json, os"
   ]
  },
  {
   "cell_type": "code",
   "execution_count": 9,
   "metadata": {
    "collapsed": true
   },
   "outputs": [],
   "source": [
    "from dict2xml import dict2xml"
   ]
  },
  {
   "cell_type": "code",
   "execution_count": 10,
   "metadata": {
    "collapsed": true
   },
   "outputs": [],
   "source": [
    "json_source_path = 'C:\\\\my_cv_work\\\\tpe_recognition\\\\data\\\\cam_1_hand_markup'\n",
    "json_file = 'cam_1_hand_markup.json'\n",
    "images_path = 'D:\\\\data\\\\pics\\\\cam_1_src'"
   ]
  },
  {
   "cell_type": "code",
   "execution_count": 11,
   "metadata": {
    "collapsed": true
   },
   "outputs": [],
   "source": [
    "# папка для хранения xml-разметки\n",
    "xml_path = os.path.join(json_source_path, 'to_xml')\n",
    "if not os.path.exists(xml_path):\n",
    "    os.mkdir(xml_path)"
   ]
  },
  {
   "cell_type": "code",
   "execution_count": 12,
   "metadata": {
    "collapsed": true
   },
   "outputs": [],
   "source": [
    "# загружаем данные из словаря с разметкой\n",
    "data = json.loads(open(os.path.join(json_source_path,json_file), 'r').read())"
   ]
  },
  {
   "cell_type": "code",
   "execution_count": 23,
   "metadata": {},
   "outputs": [
    {
     "name": "stdout",
     "output_type": "stream",
     "text": [
      "1425\n"
     ]
    }
   ],
   "source": [
    "# делаем словарь \"чистой\" разметки:\n",
    "ground_truth = { k:v for k,v in data.items() if v['n_boxes'] > 0}\n",
    "\n",
    "clean_dict = dict()\n",
    "for k,v in ground_truth.items():\n",
    "    good_boxes = []\n",
    "    for bbox in v['bboxes']:\n",
    "        if (bbox['bottomright'][0]-bbox['topleft'][0])*(bbox['bottomright'][1]-bbox['topleft'][1])>0:\n",
    "            good_boxes.append(bbox)\n",
    "    if len(good_boxes)>0:\n",
    "        clean_dict[k] = {'bboxes': good_boxes}\n",
    "        \n",
    "for k,v in clean_dict.items():\n",
    "    for bbox in v['bboxes']:\n",
    "        assert (bbox['bottomright'][0]-bbox['topleft'][0])*(bbox['bottomright'][1]-bbox['topleft'][1])>0, 'file: {}'.format(k)\n",
    "        \n",
    "print(len(clean_dict))"
   ]
  },
  {
   "cell_type": "code",
   "execution_count": 38,
   "metadata": {
    "collapsed": true
   },
   "outputs": [],
   "source": [
    "# делаем xml-файлы\n",
    "for k,v in clean_dict.items():\n",
    "    img_filename = os.path.split(k)[-1]\n",
    "    xml_filename = os.path.splitext(img_filename)[0]+'.xml'\n",
    "    styled_dict = convert_dict_to_xml_style(img_filename, v, size=img_shape)\n",
    "    xml_data = dict2xml(styled_dict)\n",
    "    with open(os.path.join(xml_path, xml_filename), 'w') as f:\n",
    "        f.write(xml_data)"
   ]
  },
  {
   "cell_type": "code",
   "execution_count": 36,
   "metadata": {
    "collapsed": true
   },
   "outputs": [],
   "source": [
    "def convert_dict_to_xml_style(img_filename, bboxes, folder='folder_1', size=None):\n",
    "    objects = []\n",
    "    obj_dict = {}\n",
    "    for bbox in bboxes['bboxes']:\n",
    "        obj_dict['name'] = 'person'\n",
    "        obj_dict['pose'] = 'Left'\n",
    "        obj_dict['truncated'] = 0\n",
    "        obj_dict['difficult'] = 0\n",
    "        obj_dict['bndbox'] = {'xmin': bbox['topleft'][0],\n",
    "                              'ymin': bbox['topleft'][1],\n",
    "                              'xmax': bbox['bottomright'][0],\n",
    "                              'ymax': bbox['bottomright'][1]}\n",
    "        objects.append(obj_dict)\n",
    "    sizes = {'width': size[0], 'height': size[1], 'depth': size[2]}\n",
    "    data = {}\n",
    "    data['folder'] = folder\n",
    "    data['filename'] = img_filename\n",
    "    data['size'] = sizes\n",
    "    data['object'] = objects\n",
    "    return {'annotation': data}"
   ]
  },
  {
   "cell_type": "code",
   "execution_count": null,
   "metadata": {
    "collapsed": true
   },
   "outputs": [],
   "source": []
  }
 ],
 "metadata": {
  "kernelspec": {
   "display_name": "Python 3",
   "language": "python",
   "name": "python3"
  },
  "language_info": {
   "codemirror_mode": {
    "name": "ipython",
    "version": 3
   },
   "file_extension": ".py",
   "mimetype": "text/x-python",
   "name": "python",
   "nbconvert_exporter": "python",
   "pygments_lexer": "ipython3",
   "version": "3.6.1"
  }
 },
 "nbformat": 4,
 "nbformat_minor": 2
}
