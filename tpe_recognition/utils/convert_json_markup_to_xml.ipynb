{
 "cells": [
  {
   "cell_type": "markdown",
   "metadata": {},
   "source": [
    "# Конвертирует разметку из json-файла в набор xml-файлов для обучения darkflow"
   ]
  },
  {
   "cell_type": "code",
   "execution_count": 1,
   "metadata": {
    "collapsed": true
   },
   "outputs": [],
   "source": [
    "img_shape = (1280,720,3) #размер изображения"
   ]
  },
  {
   "cell_type": "code",
   "execution_count": 2,
   "metadata": {
    "collapsed": true
   },
   "outputs": [],
   "source": [
    "import json, os"
   ]
  },
  {
   "cell_type": "code",
   "execution_count": 3,
   "metadata": {
    "collapsed": true
   },
   "outputs": [],
   "source": [
    "from dict2xml import dict2xml"
   ]
  },
  {
   "cell_type": "code",
   "execution_count": 4,
   "metadata": {
    "collapsed": true
   },
   "outputs": [],
   "source": [
    "json_source_path = 'C:\\\\my_cv_work\\\\tpe_recognition\\\\data\\\\cam_1_hand_markup'\n",
    "json_file = 'cam_1_hand_markup_next.json'\n",
    "images_path = 'D:\\\\data\\\\pics\\\\cam_1_src'"
   ]
  },
  {
   "cell_type": "code",
   "execution_count": 5,
   "metadata": {
    "collapsed": true
   },
   "outputs": [],
   "source": [
    "# папка для хранения xml-разметки\n",
    "xml_path = os.path.join(json_source_path, 'to_xml_boundary_2')\n",
    "if not os.path.exists(xml_path):\n",
    "    os.mkdir(xml_path)"
   ]
  },
  {
   "cell_type": "code",
   "execution_count": 6,
   "metadata": {
    "collapsed": true
   },
   "outputs": [],
   "source": [
    "# загружаем данные из словаря с разметкой\n",
    "data = json.loads(open(os.path.join(json_source_path,json_file), 'r').read())"
   ]
  },
  {
   "cell_type": "code",
   "execution_count": 7,
   "metadata": {
    "collapsed": true
   },
   "outputs": [],
   "source": [
    "def check_scaled_box(bbox, scale, img_shape):\n",
    "    x_max, y_max, _ = img_shape\n",
    "    x_min, y_min = 0., 0.\n",
    "    shift_x = (scale-1.)*x_max/2.\n",
    "    shift_y = (scale - 1.)*y_max/2.\n",
    "    x_b_min, y_b_min = bbox['topleft']\n",
    "    x_b_max, y_b_max = bbox['bottomright']\n",
    "    x_b_min, x_b_max = scale*x_b_min - shift_x, scale*x_b_max - shift_x\n",
    "    y_b_min, y_b_max = scale*y_b_min - shift_y, scale*y_b_max - shift_y\n",
    "    return (x_b_min*y_b_min > 0. and (x_b_max-x_max)*(y_b_max-y_max)>0.)"
   ]
  },
  {
   "cell_type": "code",
   "execution_count": 8,
   "metadata": {
    "collapsed": true
   },
   "outputs": [],
   "source": [
    "def convert_dict_to_xml_style(img_filename, bboxes, folder='folder_1', size=None):\n",
    "    objects = []\n",
    "    for bbox in bboxes['bboxes']:\n",
    "        obj_dict = {}\n",
    "        obj_dict['name'] = 'person'\n",
    "        obj_dict['pose'] = 'Left'\n",
    "        obj_dict['truncated'] = 0\n",
    "        obj_dict['difficult'] = 0\n",
    "        obj_dict['bndbox'] = {'xmin': bbox['topleft'][0],\n",
    "                              'ymin': bbox['topleft'][1],\n",
    "                              'xmax': bbox['bottomright'][0],\n",
    "                              'ymax': bbox['bottomright'][1]}\n",
    "        objects.append(obj_dict)\n",
    "    sizes = {'width': size[0], 'height': size[1], 'depth': size[2]}\n",
    "    data = {}\n",
    "    data['folder'] = folder\n",
    "    data['filename'] = img_filename\n",
    "    data['size'] = sizes\n",
    "    data['object'] = objects\n",
    "    return {'annotation': data}"
   ]
  },
  {
   "cell_type": "code",
   "execution_count": 10,
   "metadata": {},
   "outputs": [
    {
     "name": "stdout",
     "output_type": "stream",
     "text": [
      "1203\n"
     ]
    }
   ],
   "source": [
    "# делаем словарь \"чистой\" разметки:\n",
    "ground_truth = { k:v for k,v in data.items() if v['n_boxes'] > 0}\n",
    "# два огранчения: 1) ненулевая площадь ббокса 2) ббокс не расположен на границе изображения (проблемы при аугментации)\n",
    "# отступы от краев изображений\n",
    "scale = 1.1\n",
    "clean_dict = dict()\n",
    "for k,v in ground_truth.items():\n",
    "    good_boxes = []\n",
    "    for bbox in v['bboxes']:\n",
    "        if (bbox['bottomright'][0]-bbox['topleft'][0])*(bbox['bottomright'][1]-bbox['topleft'][1])>0 and check_scaled_box(bbox, scale, img_shape):\n",
    "            good_boxes.append(bbox)\n",
    "    if len(good_boxes)>0:\n",
    "        clean_dict[k] = {'bboxes': good_boxes}\n",
    "        \n",
    "for k,v in clean_dict.items():\n",
    "    for bbox in v['bboxes']:\n",
    "        assert (bbox['bottomright'][0]-bbox['topleft'][0])*(bbox['bottomright'][1]-bbox['topleft'][1])>0, 'file: {}'.format(k)\n",
    "        \n",
    "print(len(clean_dict))"
   ]
  },
  {
   "cell_type": "code",
   "execution_count": 11,
   "metadata": {
    "collapsed": true
   },
   "outputs": [],
   "source": [
    "# делаем xml-файлы\n",
    "for k,v in clean_dict.items():\n",
    "    img_filename = os.path.split(k)[-1]\n",
    "    xml_filename = os.path.splitext(img_filename)[0]+'.xml'\n",
    "    styled_dict = convert_dict_to_xml_style(img_filename, v, size=img_shape)\n",
    "    xml_data = dict2xml(styled_dict)\n",
    "    with open(os.path.join(xml_path, xml_filename), 'w') as f:\n",
    "        f.write(xml_data)"
   ]
  },
  {
   "cell_type": "code",
   "execution_count": 12,
   "metadata": {
    "collapsed": true
   },
   "outputs": [],
   "source": [
    "# случайный выбор файлов train/test\n",
    "train_part = 0.8\n",
    "RAND = 1234\n"
   ]
  },
  {
   "cell_type": "code",
   "execution_count": 13,
   "metadata": {
    "collapsed": true
   },
   "outputs": [],
   "source": [
    "import numpy as np"
   ]
  },
  {
   "cell_type": "code",
   "execution_count": 16,
   "metadata": {},
   "outputs": [],
   "source": [
    "np.random.seed(RAND)"
   ]
  },
  {
   "cell_type": "code",
   "execution_count": 29,
   "metadata": {},
   "outputs": [],
   "source": [
    "flist = [x for x in os.listdir(xml_path) if os.path.splitext(x)[1] == '.xml']\n",
    "n_train = int(len(flist)*train_part)\n",
    "ftrain = np.random.choice(flist, n_train, replace=False)\n",
    "ftest = [x for x in flist if x not in ftrain]"
   ]
  },
  {
   "cell_type": "code",
   "execution_count": 30,
   "metadata": {},
   "outputs": [
    {
     "data": {
      "text/plain": [
       "0.20031116297160637"
      ]
     },
     "execution_count": 30,
     "metadata": {},
     "output_type": "execute_result"
    }
   ],
   "source": [
    "len(ftest)/len(flist)"
   ]
  },
  {
   "cell_type": "code",
   "execution_count": 31,
   "metadata": {},
   "outputs": [],
   "source": [
    "train_folder = '../data/cam_1_hand_markup/to_xml_boundary_2/train'\n",
    "test_folder = '../data/cam_1_hand_markup/to_xml_boundary_2/test'"
   ]
  },
  {
   "cell_type": "code",
   "execution_count": 32,
   "metadata": {
    "collapsed": true
   },
   "outputs": [],
   "source": [
    "from shutil import copyfile"
   ]
  },
  {
   "cell_type": "code",
   "execution_count": 33,
   "metadata": {},
   "outputs": [],
   "source": [
    "for file in ftrain:\n",
    "    src = os.path.join(xml_path, file)\n",
    "    dst = os.path.join(train_folder, file)\n",
    "    copyfile(src, dst)"
   ]
  },
  {
   "cell_type": "code",
   "execution_count": 34,
   "metadata": {},
   "outputs": [],
   "source": [
    "for file in ftest:\n",
    "    src = os.path.join(xml_path, file)\n",
    "    dst = os.path.join(test_folder, file)\n",
    "    copyfile(src, dst)"
   ]
  },
  {
   "cell_type": "code",
   "execution_count": null,
   "metadata": {
    "collapsed": true
   },
   "outputs": [],
   "source": []
  }
 ],
 "metadata": {
  "kernelspec": {
   "display_name": "Python 3",
   "language": "python",
   "name": "python3"
  },
  "language_info": {
   "codemirror_mode": {
    "name": "ipython",
    "version": 3
   },
   "file_extension": ".py",
   "mimetype": "text/x-python",
   "name": "python",
   "nbconvert_exporter": "python",
   "pygments_lexer": "ipython3",
   "version": "3.6.1"
  }
 },
 "nbformat": 4,
 "nbformat_minor": 2
}
