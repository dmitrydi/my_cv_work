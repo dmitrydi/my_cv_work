{
 "cells": [
  {
   "cell_type": "code",
   "execution_count": 1,
   "metadata": {
    "collapsed": true
   },
   "outputs": [],
   "source": [
    "from markup_predict import hand_mark_boxes, detection_scores, detection_scores_in_roi, show_rectangles"
   ]
  },
  {
   "cell_type": "code",
   "execution_count": 2,
   "metadata": {
    "collapsed": true
   },
   "outputs": [],
   "source": [
    "data_path ='C:\\\\my_cv_work\\\\tpe_recognition\\\\data\\\\cam_1_hand_markup'\n",
    "source_path = 'D:\\\\data\\\\pics\\\\cam_1_src'\n",
    "data_filename = 'cam_1_hand_markup_next.json'"
   ]
  },
  {
   "cell_type": "code",
   "execution_count": 3,
   "metadata": {
    "collapsed": true
   },
   "outputs": [],
   "source": [
    "#hand_mark_boxes(source_path, data_path, data_filename)"
   ]
  },
  {
   "cell_type": "code",
   "execution_count": 4,
   "metadata": {
    "collapsed": true
   },
   "outputs": [],
   "source": [
    "import json\n",
    "import os"
   ]
  },
  {
   "cell_type": "code",
   "execution_count": 5,
   "metadata": {
    "collapsed": true
   },
   "outputs": [],
   "source": [
    "data  = json.loads(open(os.path.join(data_path,data_filename), 'r').read())"
   ]
  },
  {
   "cell_type": "code",
   "execution_count": 6,
   "metadata": {
    "collapsed": true
   },
   "outputs": [],
   "source": [
    "markup_path = 'C:\\\\my_cv_work\\\\tpe_recognition\\\\data\\\\cam_1_serial_markup'"
   ]
  },
  {
   "cell_type": "code",
   "execution_count": 7,
   "metadata": {
    "collapsed": true
   },
   "outputs": [],
   "source": [
    "ground_truth = { k:v for k,v in data.items() if v['n_boxes'] > 0}"
   ]
  },
  {
   "cell_type": "code",
   "execution_count": 8,
   "metadata": {
    "collapsed": true,
    "scrolled": true
   },
   "outputs": [],
   "source": [
    "with open(os.path.join(markup_path, 'gt_markup.json'), 'w') as outfile:\n",
    "    json.dump(ground_truth, outfile)"
   ]
  },
  {
   "cell_type": "code",
   "execution_count": 9,
   "metadata": {
    "collapsed": true
   },
   "outputs": [],
   "source": [
    "import numpy as np"
   ]
  },
  {
   "cell_type": "code",
   "execution_count": 10,
   "metadata": {
    "collapsed": true
   },
   "outputs": [],
   "source": [
    "thresholds = np.linspace(0.1, 0.9, 9)"
   ]
  },
  {
   "cell_type": "code",
   "execution_count": 11,
   "metadata": {
    "collapsed": true
   },
   "outputs": [],
   "source": [
    "markup_files = [f for f in os.listdir(markup_path) if f.endswith('.json')]"
   ]
  },
  {
   "cell_type": "code",
   "execution_count": 12,
   "metadata": {
    "collapsed": true
   },
   "outputs": [],
   "source": [
    "scores = []\n",
    "for threshold in thresholds:\n",
    "    for file in markup_files:\n",
    "        if str(threshold) in file:\n",
    "            precision, recall, HITS_TOT, NO_TOT, NR_TOT = detection_scores(os.path.join(markup_path, 'gt_markup.json'), os.path.join(markup_path, file))\n",
    "            scores.append({'threshold': threshold,\n",
    "                           'precision': precision,\n",
    "                           'recall': recall,\n",
    "                           'hits': HITS_TOT,\n",
    "                           'number of detections': NO_TOT,\n",
    "                           'number of relevant objects': NR_TOT})\n",
    "            "
   ]
  },
  {
   "cell_type": "code",
   "execution_count": 13,
   "metadata": {
    "collapsed": true
   },
   "outputs": [],
   "source": [
    "#scores"
   ]
  },
  {
   "cell_type": "code",
   "execution_count": 14,
   "metadata": {
    "collapsed": true
   },
   "outputs": [],
   "source": [
    "prec_x = []\n",
    "rec_y = []\n",
    "for s in scores:\n",
    "    prec_x.append(s['precision'])\n",
    "    rec_y.append(s['recall'])"
   ]
  },
  {
   "cell_type": "code",
   "execution_count": 15,
   "metadata": {
    "collapsed": true
   },
   "outputs": [],
   "source": [
    "% matplotlib inline"
   ]
  },
  {
   "cell_type": "code",
   "execution_count": 16,
   "metadata": {
    "collapsed": true
   },
   "outputs": [],
   "source": [
    "import matplotlib.pyplot as plt"
   ]
  },
  {
   "cell_type": "code",
   "execution_count": 17,
   "metadata": {},
   "outputs": [
    {
     "data": {
      "image/png": "[encoded data removed]",
      "text/plain": [
       "<matplotlib.figure.Figure at 0x1b86949a6d8>"
      ]
     },
     "metadata": {},
     "output_type": "display_data"
    }
   ],
   "source": [
    "fig, ax = plt.subplots()\n",
    "ax.plot(rec_y, prec_x)\n",
    "ax.set_xlabel('recall')\n",
    "ax.set_ylabel('precision')\n",
    "plt.show()\n",
    "fig.savefig('c:/my_cv_work/fig1.png')"
   ]
  },
  {
   "cell_type": "code",
   "execution_count": 19,
   "metadata": {},
   "outputs": [
    {
     "data": {
      "text/plain": [
       "[0.7015849430411094,\n",
       " 0.6456166419019317,\n",
       " 0.5968301139177811,\n",
       " 0.5440812283308568,\n",
       " 0.47052996532937097,\n",
       " 0.35809806835066865,\n",
       " 0.19737493808816245,\n",
       " 0.0354135710747895,\n",
       " 0.0007429420505200594]"
      ]
     },
     "execution_count": 19,
     "metadata": {},
     "output_type": "execute_result"
    }
   ],
   "source": [
    "rec_y"
   ]
  },
  {
   "cell_type": "code",
   "execution_count": 18,
   "metadata": {
    "collapsed": true
   },
   "outputs": [],
   "source": [
    "from sklearn.metrics import auc"
   ]
  },
  {
   "cell_type": "code",
   "execution_count": 19,
   "metadata": {},
   "outputs": [
    {
     "data": {
      "text/plain": [
       "0.62497630274505389"
      ]
     },
     "execution_count": 19,
     "metadata": {},
     "output_type": "execute_result"
    }
   ],
   "source": [
    "auc(rec_y, prec_x)"
   ]
  },
  {
   "cell_type": "code",
   "execution_count": 20,
   "metadata": {
    "collapsed": true
   },
   "outputs": [],
   "source": [
    "import cv2"
   ]
  },
  {
   "cell_type": "code",
   "execution_count": 21,
   "metadata": {},
   "outputs": [
    {
     "name": "stdout",
     "output_type": "stream",
     "text": [
      "388 195 679 573\n"
     ]
    }
   ],
   "source": [
    "img_file = os.listdir(source_path)[0]\n",
    "img = cv2.imread(os.path.join(source_path,img_file))\n",
    "x,y,w,h = cv2.selectROI(img)\n",
    "x1,y1,x2,y2 = x,y,x+w,y+h\n",
    "img = img[y1:y2, x1:x2, :]\n",
    "cv2.imshow('i',img)\n",
    "cv2.waitKey()\n",
    "cv2.destroyAllWindows()\n",
    "print(x1,y1,x2,y2)"
   ]
  },
  {
   "cell_type": "code",
   "execution_count": 22,
   "metadata": {
    "collapsed": true
   },
   "outputs": [],
   "source": [
    "roi = (343,131,877,668)"
   ]
  },
  {
   "cell_type": "code",
   "execution_count": 23,
   "metadata": {
    "collapsed": true
   },
   "outputs": [],
   "source": [
    "scores_roi = []\n",
    "for threshold in thresholds:\n",
    "    for file in markup_files:\n",
    "        if str(threshold) in file:\n",
    "            precision, recall, HITS_TOT, NO_TOT, NR_TOT = detection_scores_in_roi(os.path.join(markup_path, 'gt_markup.json'), os.path.join(markup_path, file), roi)\n",
    "            scores_roi.append({'threshold': threshold,\n",
    "                           'precision': precision,\n",
    "                           'recall': recall,\n",
    "                           'hits': HITS_TOT,\n",
    "                           'number of detections': NO_TOT,\n",
    "                           'number of relevant objects': NR_TOT})"
   ]
  },
  {
   "cell_type": "code",
   "execution_count": 24,
   "metadata": {
    "collapsed": true
   },
   "outputs": [],
   "source": [
    "#scores_roi"
   ]
  },
  {
   "cell_type": "code",
   "execution_count": 25,
   "metadata": {
    "collapsed": true
   },
   "outputs": [],
   "source": [
    "prec_roi = []\n",
    "rec_roi = []\n",
    "for s in scores_roi:\n",
    "    prec_roi.append(s['precision'])\n",
    "    rec_roi.append(s['recall'])"
   ]
  },
  {
   "cell_type": "code",
   "execution_count": 26,
   "metadata": {},
   "outputs": [
    {
     "data": {
      "image/png": "[encoded data removed]",
      "text/plain": [
       "<matplotlib.figure.Figure at 0x1ea6097e940>"
      ]
     },
     "metadata": {},
     "output_type": "display_data"
    }
   ],
   "source": [
    "fig, ax = plt.subplots()\n",
    "ax.plot(rec_roi, prec_roi)\n",
    "ax.set_xlabel('recall')\n",
    "ax.set_ylabel('precision')\n",
    "plt.show()\n",
    "fig.savefig('c:/my_cv_work/fig1.png')"
   ]
  },
  {
   "cell_type": "code",
   "execution_count": 27,
   "metadata": {},
   "outputs": [
    {
     "data": {
      "text/plain": [
       "0.68620136568310119"
      ]
     },
     "execution_count": 27,
     "metadata": {},
     "output_type": "execute_result"
    }
   ],
   "source": [
    "auc(rec_roi, prec_roi)"
   ]
  },
  {
   "cell_type": "code",
   "execution_count": 30,
   "metadata": {},
   "outputs": [
    {
     "ename": "ZeroDivisionError",
     "evalue": "division by zero",
     "output_type": "error",
     "traceback": [
      "\u001b[1;31m---------------------------------------------------------------------------\u001b[0m",
      "\u001b[1;31mZeroDivisionError\u001b[0m                         Traceback (most recent call last)",
      "\u001b[1;32m<ipython-input-30-b6e6b7b94c26>\u001b[0m in \u001b[0;36m<module>\u001b[1;34m()\u001b[0m\n\u001b[0;32m      9\u001b[0m                     \u001b[0msource_path\u001b[0m\u001b[1;33m,\u001b[0m\u001b[1;33m\u001b[0m\u001b[0m\n\u001b[0;32m     10\u001b[0m                     \u001b[0msaving_dir\u001b[0m\u001b[1;33m,\u001b[0m\u001b[1;33m\u001b[0m\u001b[0m\n\u001b[1;32m---> 11\u001b[1;33m                     (343,131,877,668), iou_threshold=0.5)\n\u001b[0m",
      "\u001b[1;32mc:\\my_cv_work\\tpe_recognition\\utils\\markup_predict.py\u001b[0m in \u001b[0;36mshow_rectangles\u001b[1;34m(gt_markup, pred_markup, img_dir, saving_dir, roi, iou_threshold)\u001b[0m\n\u001b[0;32m    220\u001b[0m         \u001b[1;32mfor\u001b[0m \u001b[0mx1\u001b[0m\u001b[1;33m,\u001b[0m \u001b[0my1\u001b[0m\u001b[1;33m,\u001b[0m \u001b[0mx2\u001b[0m\u001b[1;33m,\u001b[0m \u001b[0my2\u001b[0m \u001b[1;32min\u001b[0m \u001b[0mbboxes_gt_roi\u001b[0m\u001b[1;33m:\u001b[0m\u001b[1;33m\u001b[0m\u001b[0m\n\u001b[0;32m    221\u001b[0m             \u001b[0mimg\u001b[0m \u001b[1;33m=\u001b[0m \u001b[0mcv2\u001b[0m\u001b[1;33m.\u001b[0m\u001b[0mrectangle\u001b[0m\u001b[1;33m(\u001b[0m\u001b[0mimg\u001b[0m\u001b[1;33m,\u001b[0m \u001b[1;33m(\u001b[0m\u001b[0mx1\u001b[0m\u001b[1;33m,\u001b[0m\u001b[0my1\u001b[0m\u001b[1;33m)\u001b[0m\u001b[1;33m,\u001b[0m \u001b[1;33m(\u001b[0m\u001b[0mx2\u001b[0m\u001b[1;33m,\u001b[0m\u001b[0my2\u001b[0m\u001b[1;33m)\u001b[0m\u001b[1;33m,\u001b[0m \u001b[1;33m(\u001b[0m\u001b[1;36m255\u001b[0m\u001b[1;33m,\u001b[0m\u001b[1;36m0\u001b[0m\u001b[1;33m,\u001b[0m\u001b[1;36m0\u001b[0m\u001b[1;33m)\u001b[0m\u001b[1;33m)\u001b[0m\u001b[1;33m\u001b[0m\u001b[0m\n\u001b[1;32m--> 222\u001b[1;33m         \u001b[0mmatched_boxes\u001b[0m \u001b[1;33m=\u001b[0m \u001b[0mget_matched\u001b[0m\u001b[1;33m(\u001b[0m\u001b[0mbboxes_gt_roi\u001b[0m\u001b[1;33m,\u001b[0m \u001b[0mbboxes_pred_roi\u001b[0m\u001b[1;33m,\u001b[0m \u001b[0miou_threshold\u001b[0m\u001b[1;33m=\u001b[0m\u001b[0miou_threshold\u001b[0m\u001b[1;33m)\u001b[0m\u001b[1;33m\u001b[0m\u001b[0m\n\u001b[0m\u001b[0;32m    223\u001b[0m         \u001b[1;32mfor\u001b[0m \u001b[0mx1\u001b[0m\u001b[1;33m,\u001b[0m \u001b[0my1\u001b[0m\u001b[1;33m,\u001b[0m \u001b[0mx2\u001b[0m\u001b[1;33m,\u001b[0m \u001b[0my2\u001b[0m \u001b[1;32min\u001b[0m \u001b[0mbboxes_pred_roi\u001b[0m\u001b[1;33m:\u001b[0m\u001b[1;33m\u001b[0m\u001b[0m\n\u001b[0;32m    224\u001b[0m             \u001b[0mimg\u001b[0m \u001b[1;33m=\u001b[0m \u001b[0mcv2\u001b[0m\u001b[1;33m.\u001b[0m\u001b[0mrectangle\u001b[0m\u001b[1;33m(\u001b[0m\u001b[0mimg\u001b[0m\u001b[1;33m,\u001b[0m \u001b[1;33m(\u001b[0m\u001b[0mx1\u001b[0m\u001b[1;33m,\u001b[0m\u001b[0my1\u001b[0m\u001b[1;33m)\u001b[0m\u001b[1;33m,\u001b[0m \u001b[1;33m(\u001b[0m\u001b[0mx2\u001b[0m\u001b[1;33m,\u001b[0m\u001b[0my2\u001b[0m\u001b[1;33m)\u001b[0m\u001b[1;33m,\u001b[0m \u001b[1;33m(\u001b[0m\u001b[1;36m0\u001b[0m\u001b[1;33m,\u001b[0m\u001b[1;36m0\u001b[0m\u001b[1;33m,\u001b[0m\u001b[1;36m255\u001b[0m\u001b[1;33m)\u001b[0m\u001b[1;33m)\u001b[0m\u001b[1;33m\u001b[0m\u001b[0m\n",
      "\u001b[1;32mc:\\my_cv_work\\tpe_recognition\\utils\\markup_predict.py\u001b[0m in \u001b[0;36mget_matched\u001b[1;34m(gt_list, pred_list, iou_threshold)\u001b[0m\n\u001b[0;32m    304\u001b[0m     \u001b[1;32mwhile\u001b[0m\u001b[1;33m(\u001b[0m\u001b[0mlen\u001b[0m\u001b[1;33m(\u001b[0m\u001b[0mgt_list\u001b[0m\u001b[1;33m)\u001b[0m \u001b[1;33m>\u001b[0m \u001b[1;36m0\u001b[0m\u001b[1;33m)\u001b[0m\u001b[1;33m:\u001b[0m\u001b[1;33m\u001b[0m\u001b[0m\n\u001b[0;32m    305\u001b[0m         \u001b[0mbbox\u001b[0m \u001b[1;33m=\u001b[0m \u001b[0mgt_list\u001b[0m\u001b[1;33m.\u001b[0m\u001b[0mpop\u001b[0m\u001b[1;33m(\u001b[0m\u001b[1;33m)\u001b[0m\u001b[1;33m\u001b[0m\u001b[0m\n\u001b[1;32m--> 306\u001b[1;33m         \u001b[0mclosest_box\u001b[0m \u001b[1;33m=\u001b[0m \u001b[0mfind_closest_box\u001b[0m\u001b[1;33m(\u001b[0m\u001b[0mbbox\u001b[0m\u001b[1;33m,\u001b[0m \u001b[0mpred_list\u001b[0m\u001b[1;33m,\u001b[0m \u001b[0miou_threshold\u001b[0m\u001b[1;33m)\u001b[0m\u001b[1;33m\u001b[0m\u001b[0m\n\u001b[0m\u001b[0;32m    307\u001b[0m         \u001b[1;32mif\u001b[0m \u001b[0mclosest_box\u001b[0m \u001b[1;33m!=\u001b[0m \u001b[1;33m(\u001b[0m\u001b[1;33m)\u001b[0m\u001b[1;33m:\u001b[0m\u001b[1;33m\u001b[0m\u001b[0m\n\u001b[0;32m    308\u001b[0m             \u001b[0mmatched\u001b[0m\u001b[1;33m.\u001b[0m\u001b[0mappend\u001b[0m\u001b[1;33m(\u001b[0m\u001b[0mclosest_box\u001b[0m\u001b[1;33m)\u001b[0m\u001b[1;33m\u001b[0m\u001b[0m\n",
      "\u001b[1;32mc:\\my_cv_work\\tpe_recognition\\utils\\markup_predict.py\u001b[0m in \u001b[0;36mfind_closest_box\u001b[1;34m(ref_box, box_list, iou_threshold)\u001b[0m\n\u001b[0;32m    316\u001b[0m     \u001b[0mmax_iou\u001b[0m \u001b[1;33m=\u001b[0m \u001b[0miou_threshold\u001b[0m\u001b[1;33m\u001b[0m\u001b[0m\n\u001b[0;32m    317\u001b[0m     \u001b[1;32mfor\u001b[0m \u001b[0mbox\u001b[0m \u001b[1;32min\u001b[0m \u001b[0mbox_list\u001b[0m\u001b[1;33m:\u001b[0m\u001b[1;33m\u001b[0m\u001b[0m\n\u001b[1;32m--> 318\u001b[1;33m         \u001b[0miou\u001b[0m \u001b[1;33m=\u001b[0m \u001b[0mIoU\u001b[0m\u001b[1;33m(\u001b[0m\u001b[0mref_box\u001b[0m\u001b[1;33m,\u001b[0m \u001b[0mbox\u001b[0m\u001b[1;33m)\u001b[0m\u001b[1;33m\u001b[0m\u001b[0m\n\u001b[0m\u001b[0;32m    319\u001b[0m         \u001b[1;32mif\u001b[0m \u001b[0miou\u001b[0m \u001b[1;33m>=\u001b[0m \u001b[0mmax_iou\u001b[0m\u001b[1;33m:\u001b[0m\u001b[1;33m\u001b[0m\u001b[0m\n\u001b[0;32m    320\u001b[0m             \u001b[0mmax_iou\u001b[0m \u001b[1;33m=\u001b[0m \u001b[0miou\u001b[0m\u001b[1;33m\u001b[0m\u001b[0m\n",
      "\u001b[1;32mc:\\my_cv_work\\tpe_recognition\\utils\\rect_calc.py\u001b[0m in \u001b[0;36mIoU\u001b[1;34m(tup_1, tup_2)\u001b[0m\n\u001b[0;32m     36\u001b[0m   \u001b[0mintersection\u001b[0m \u001b[1;33m=\u001b[0m \u001b[0mrect_intersection\u001b[0m\u001b[1;33m(\u001b[0m\u001b[0mtup_1\u001b[0m\u001b[1;33m,\u001b[0m \u001b[0mtup_2\u001b[0m\u001b[1;33m)\u001b[0m\u001b[1;33m\u001b[0m\u001b[0m\n\u001b[0;32m     37\u001b[0m   \u001b[0munion\u001b[0m \u001b[1;33m=\u001b[0m \u001b[0mrect_union\u001b[0m\u001b[1;33m(\u001b[0m\u001b[0mtup_1\u001b[0m\u001b[1;33m,\u001b[0m \u001b[0mtup_2\u001b[0m\u001b[1;33m)\u001b[0m\u001b[1;33m\u001b[0m\u001b[0m\n\u001b[1;32m---> 38\u001b[1;33m   \u001b[1;32mreturn\u001b[0m \u001b[1;33m(\u001b[0m\u001b[0mintersection\u001b[0m\u001b[1;33m/\u001b[0m\u001b[0munion\u001b[0m\u001b[1;33m)\u001b[0m\u001b[1;33m\u001b[0m\u001b[0m\n\u001b[0m",
      "\u001b[1;31mZeroDivisionError\u001b[0m: division by zero"
     ]
    }
   ],
   "source": [
    "root_path = 'D:\\\\data\\\\pics\\\\cam_1_src_markup_darknet'\n",
    "source_path = 'D:\\\\data\\\\pics\\\\cam_1_src'\n",
    "for file in markup_files:\n",
    "    saving_dir = os.path.join(root_path, file)\n",
    "    if not os.path.exists(saving_dir):\n",
    "        os.mkdir(saving_dir)\n",
    "    show_rectangles(os.path.join(markup_path, 'gt_markup.json'),\n",
    "                    os.path.join(markup_path, file),\n",
    "                    source_path,\n",
    "                    saving_dir,\n",
    "                    (343,131,877,668), iou_threshold=0.5)"
   ]
  },
  {
   "cell_type": "code",
   "execution_count": null,
   "metadata": {
    "collapsed": true
   },
   "outputs": [],
   "source": []
  }
 ],
 "metadata": {
  "kernelspec": {
   "display_name": "Python 3",
   "language": "python",
   "name": "python3"
  },
  "language_info": {
   "codemirror_mode": {
    "name": "ipython",
    "version": 3
   },
   "file_extension": ".py",
   "mimetype": "text/x-python",
   "name": "python",
   "nbconvert_exporter": "python",
   "pygments_lexer": "ipython3",
   "version": "3.6.1"
  }
 },
 "nbformat": 4,
 "nbformat_minor": 2
}
