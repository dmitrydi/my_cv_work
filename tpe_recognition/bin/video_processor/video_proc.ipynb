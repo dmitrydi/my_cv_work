{
 "cells": [
  {
   "cell_type": "code",
   "execution_count": 1,
   "metadata": {
    "collapsed": true
   },
   "outputs": [],
   "source": [
    "from darkflow.net.build import TFNet\n",
    "import cv2\n",
    "from sort.sort import *"
   ]
  },
  {
   "cell_type": "code",
   "execution_count": 7,
   "metadata": {
    "collapsed": true
   },
   "outputs": [],
   "source": [
    "build_path = '../../utils/test_build'\n",
    "weights = os.path.join(build_path, 'bin', 'yolo.weights')\n",
    "model = os.path.join(build_path, 'cfg', 'yolo-people.cfg')\n",
    "cfg = os.path.join(build_path, 'cfg')\n",
    "labels = os.path.join(build_path, 'labels.txt')"
   ]
  },
  {
   "cell_type": "code",
   "execution_count": 8,
   "metadata": {
    "collapsed": true
   },
   "outputs": [],
   "source": [
    "options=dict()\n",
    "#options['gpu'] = 0.5\n",
    "options['model'] = model\n",
    "options['load'] = -1\n",
    "options['config'] = cfg\n",
    "options['labels'] = labels\n",
    "options['train'] = False\n",
    "#options['dataset'] = images_dir\n",
    "#options['val_dataset'] = images_dir\n",
    "#options['annotation'] = train_annotations_dir\n",
    "#options['val_annotation'] = val_annotations_dir\n",
    "#options['epoch'] = 10\n",
    "options['gpu'] = 0.8\n",
    "#options[\"batch\"] = 2\n",
    "options[\"subdivisions\"] = 1\n",
    "options['backup'] = 'D:/data/models/tpe_retrained_all_obj/full_data/ckpt'\n",
    "options['summary'] = None #'D:/data/models/tpe_retrain_nearbound/summary'\n",
    "#options['save'] = 100\n",
    "options['threshold'] = 0.5\n",
    "#options['lr'] = 1e-4"
   ]
  },
  {
   "cell_type": "code",
   "execution_count": 9,
   "metadata": {},
   "outputs": [
    {
     "name": "stdout",
     "output_type": "stream",
     "text": [
      "Parsing ../../utils/test_build\\cfg\\yolo-people.cfg\n",
      "Loading None ...\n",
      "Finished in 0.0009970664978027344s\n",
      "\n",
      "Building net ...\n",
      "Source | Train? | Layer description                | Output size\n",
      "-------+--------+----------------------------------+---------------\n",
      "       |        | input                            | (?, 608, 608, 3)\n",
      " Init  |  Yep!  | conv 3x3p1_1  +bnorm  leaky      | (?, 608, 608, 32)\n",
      " Load  |  Yep!  | maxp 2x2p0_2                     | (?, 304, 304, 32)\n",
      " Init  |  Yep!  | conv 3x3p1_1  +bnorm  leaky      | (?, 304, 304, 64)\n",
      " Load  |  Yep!  | maxp 2x2p0_2                     | (?, 152, 152, 64)\n",
      " Init  |  Yep!  | conv 3x3p1_1  +bnorm  leaky      | (?, 152, 152, 128)\n",
      " Init  |  Yep!  | conv 1x1p0_1  +bnorm  leaky      | (?, 152, 152, 64)\n",
      " Init  |  Yep!  | conv 3x3p1_1  +bnorm  leaky      | (?, 152, 152, 128)\n",
      " Load  |  Yep!  | maxp 2x2p0_2                     | (?, 76, 76, 128)\n",
      " Init  |  Yep!  | conv 3x3p1_1  +bnorm  leaky      | (?, 76, 76, 256)\n",
      " Init  |  Yep!  | conv 1x1p0_1  +bnorm  leaky      | (?, 76, 76, 128)\n",
      " Init  |  Yep!  | conv 3x3p1_1  +bnorm  leaky      | (?, 76, 76, 256)\n",
      " Load  |  Yep!  | maxp 2x2p0_2                     | (?, 38, 38, 256)\n",
      " Init  |  Yep!  | conv 3x3p1_1  +bnorm  leaky      | (?, 38, 38, 512)\n",
      " Init  |  Yep!  | conv 1x1p0_1  +bnorm  leaky      | (?, 38, 38, 256)\n",
      " Init  |  Yep!  | conv 3x3p1_1  +bnorm  leaky      | (?, 38, 38, 512)\n",
      " Init  |  Yep!  | conv 1x1p0_1  +bnorm  leaky      | (?, 38, 38, 256)\n",
      " Init  |  Yep!  | conv 3x3p1_1  +bnorm  leaky      | (?, 38, 38, 512)\n",
      " Load  |  Yep!  | maxp 2x2p0_2                     | (?, 19, 19, 512)\n",
      " Init  |  Yep!  | conv 3x3p1_1  +bnorm  leaky      | (?, 19, 19, 1024)\n",
      " Init  |  Yep!  | conv 1x1p0_1  +bnorm  leaky      | (?, 19, 19, 512)\n",
      " Init  |  Yep!  | conv 3x3p1_1  +bnorm  leaky      | (?, 19, 19, 1024)\n",
      " Init  |  Yep!  | conv 1x1p0_1  +bnorm  leaky      | (?, 19, 19, 512)\n",
      " Init  |  Yep!  | conv 3x3p1_1  +bnorm  leaky      | (?, 19, 19, 1024)\n",
      " Init  |  Yep!  | conv 3x3p1_1  +bnorm  leaky      | (?, 19, 19, 1024)\n",
      " Init  |  Yep!  | conv 3x3p1_1  +bnorm  leaky      | (?, 19, 19, 1024)\n",
      " Load  |  Yep!  | concat [16]                      | (?, 38, 38, 512)\n",
      " Init  |  Yep!  | conv 1x1p0_1  +bnorm  leaky      | (?, 38, 38, 64)\n",
      " Load  |  Yep!  | local flatten 2x2                | (?, 19, 19, 256)\n",
      " Load  |  Yep!  | concat [27, 24]                  | (?, 19, 19, 1280)\n",
      " Init  |  Yep!  | conv 3x3p1_1  +bnorm  leaky      | (?, 19, 19, 1024)\n",
      " Init  |  Yep!  | conv 1x1p0_1    linear           | (?, 19, 19, 30)\n",
      "-------+--------+----------------------------------+---------------\n",
      "GPU mode with 0.8 usage\n",
      "trainable variables: [<tf.Variable '0-convolutional/biases:0' shape=(32,) dtype=float32_ref>, <tf.Variable '0-convolutional/kernel:0' shape=(3, 3, 3, 32) dtype=float32_ref>, <tf.Variable '0-convolutional/gamma:0' shape=(32,) dtype=float32_ref>, <tf.Variable '3-convolutional/biases:0' shape=(64,) dtype=float32_ref>, <tf.Variable '3-convolutional/kernel:0' shape=(3, 3, 32, 64) dtype=float32_ref>, <tf.Variable '3-convolutional/gamma:0' shape=(64,) dtype=float32_ref>, <tf.Variable '6-convolutional/biases:0' shape=(128,) dtype=float32_ref>, <tf.Variable '6-convolutional/kernel:0' shape=(3, 3, 64, 128) dtype=float32_ref>, <tf.Variable '6-convolutional/gamma:0' shape=(128,) dtype=float32_ref>, <tf.Variable '8-convolutional/biases:0' shape=(64,) dtype=float32_ref>, <tf.Variable '8-convolutional/kernel:0' shape=(1, 1, 128, 64) dtype=float32_ref>, <tf.Variable '8-convolutional/gamma:0' shape=(64,) dtype=float32_ref>, <tf.Variable '10-convolutional/biases:0' shape=(128,) dtype=float32_ref>, <tf.Variable '10-convolutional/kernel:0' shape=(3, 3, 64, 128) dtype=float32_ref>, <tf.Variable '10-convolutional/gamma:0' shape=(128,) dtype=float32_ref>, <tf.Variable '13-convolutional/biases:0' shape=(256,) dtype=float32_ref>, <tf.Variable '13-convolutional/kernel:0' shape=(3, 3, 128, 256) dtype=float32_ref>, <tf.Variable '13-convolutional/gamma:0' shape=(256,) dtype=float32_ref>, <tf.Variable '15-convolutional/biases:0' shape=(128,) dtype=float32_ref>, <tf.Variable '15-convolutional/kernel:0' shape=(1, 1, 256, 128) dtype=float32_ref>, <tf.Variable '15-convolutional/gamma:0' shape=(128,) dtype=float32_ref>, <tf.Variable '17-convolutional/biases:0' shape=(256,) dtype=float32_ref>, <tf.Variable '17-convolutional/kernel:0' shape=(3, 3, 128, 256) dtype=float32_ref>, <tf.Variable '17-convolutional/gamma:0' shape=(256,) dtype=float32_ref>, <tf.Variable '20-convolutional/biases:0' shape=(512,) dtype=float32_ref>, <tf.Variable '20-convolutional/kernel:0' shape=(3, 3, 256, 512) dtype=float32_ref>, <tf.Variable '20-convolutional/gamma:0' shape=(512,) dtype=float32_ref>, <tf.Variable '22-convolutional/biases:0' shape=(256,) dtype=float32_ref>, <tf.Variable '22-convolutional/kernel:0' shape=(1, 1, 512, 256) dtype=float32_ref>, <tf.Variable '22-convolutional/gamma:0' shape=(256,) dtype=float32_ref>, <tf.Variable '24-convolutional/biases:0' shape=(512,) dtype=float32_ref>, <tf.Variable '24-convolutional/kernel:0' shape=(3, 3, 256, 512) dtype=float32_ref>, <tf.Variable '24-convolutional/gamma:0' shape=(512,) dtype=float32_ref>, <tf.Variable '26-convolutional/biases:0' shape=(256,) dtype=float32_ref>, <tf.Variable '26-convolutional/kernel:0' shape=(1, 1, 512, 256) dtype=float32_ref>, <tf.Variable '26-convolutional/gamma:0' shape=(256,) dtype=float32_ref>, <tf.Variable '28-convolutional/biases:0' shape=(512,) dtype=float32_ref>, <tf.Variable '28-convolutional/kernel:0' shape=(3, 3, 256, 512) dtype=float32_ref>, <tf.Variable '28-convolutional/gamma:0' shape=(512,) dtype=float32_ref>, <tf.Variable '31-convolutional/biases:0' shape=(1024,) dtype=float32_ref>, <tf.Variable '31-convolutional/kernel:0' shape=(3, 3, 512, 1024) dtype=float32_ref>, <tf.Variable '31-convolutional/gamma:0' shape=(1024,) dtype=float32_ref>, <tf.Variable '33-convolutional/biases:0' shape=(512,) dtype=float32_ref>, <tf.Variable '33-convolutional/kernel:0' shape=(1, 1, 1024, 512) dtype=float32_ref>, <tf.Variable '33-convolutional/gamma:0' shape=(512,) dtype=float32_ref>, <tf.Variable '35-convolutional/biases:0' shape=(1024,) dtype=float32_ref>, <tf.Variable '35-convolutional/kernel:0' shape=(3, 3, 512, 1024) dtype=float32_ref>, <tf.Variable '35-convolutional/gamma:0' shape=(1024,) dtype=float32_ref>, <tf.Variable '37-convolutional/biases:0' shape=(512,) dtype=float32_ref>, <tf.Variable '37-convolutional/kernel:0' shape=(1, 1, 1024, 512) dtype=float32_ref>, <tf.Variable '37-convolutional/gamma:0' shape=(512,) dtype=float32_ref>, <tf.Variable '39-convolutional/biases:0' shape=(1024,) dtype=float32_ref>, <tf.Variable '39-convolutional/kernel:0' shape=(3, 3, 512, 1024) dtype=float32_ref>, <tf.Variable '39-convolutional/gamma:0' shape=(1024,) dtype=float32_ref>, <tf.Variable '41-convolutional/biases:0' shape=(1024,) dtype=float32_ref>, <tf.Variable '41-convolutional/kernel:0' shape=(3, 3, 1024, 1024) dtype=float32_ref>, <tf.Variable '41-convolutional/gamma:0' shape=(1024,) dtype=float32_ref>, <tf.Variable '43-convolutional/biases:0' shape=(1024,) dtype=float32_ref>, <tf.Variable '43-convolutional/kernel:0' shape=(3, 3, 1024, 1024) dtype=float32_ref>, <tf.Variable '43-convolutional/gamma:0' shape=(1024,) dtype=float32_ref>, <tf.Variable '46-convolutional/biases:0' shape=(64,) dtype=float32_ref>, <tf.Variable '46-convolutional/kernel:0' shape=(1, 1, 512, 64) dtype=float32_ref>, <tf.Variable '46-convolutional/gamma:0' shape=(64,) dtype=float32_ref>, <tf.Variable '50-convolutional/biases:0' shape=(1024,) dtype=float32_ref>, <tf.Variable '50-convolutional/kernel:0' shape=(3, 3, 1280, 1024) dtype=float32_ref>, <tf.Variable '50-convolutional/gamma:0' shape=(1024,) dtype=float32_ref>, <tf.Variable '52-convolutional/biases:0' shape=(30,) dtype=float32_ref>, <tf.Variable '52-convolutional/kernel:0' shape=(1, 1, 1024, 30) dtype=float32_ref>]\n",
      "global variables: [<tf.Variable '0-convolutional/biases:0' shape=(32,) dtype=float32_ref>, <tf.Variable '0-convolutional/kernel:0' shape=(3, 3, 3, 32) dtype=float32_ref>, <tf.Variable '0-convolutional/gamma:0' shape=(32,) dtype=float32_ref>, <tf.Variable '0-convolutional/moving_mean:0' shape=(32,) dtype=float32_ref>, <tf.Variable '0-convolutional/moving_variance:0' shape=(32,) dtype=float32_ref>, <tf.Variable '3-convolutional/biases:0' shape=(64,) dtype=float32_ref>, <tf.Variable '3-convolutional/kernel:0' shape=(3, 3, 32, 64) dtype=float32_ref>, <tf.Variable '3-convolutional/gamma:0' shape=(64,) dtype=float32_ref>, <tf.Variable '3-convolutional/moving_mean:0' shape=(64,) dtype=float32_ref>, <tf.Variable '3-convolutional/moving_variance:0' shape=(64,) dtype=float32_ref>, <tf.Variable '6-convolutional/biases:0' shape=(128,) dtype=float32_ref>, <tf.Variable '6-convolutional/kernel:0' shape=(3, 3, 64, 128) dtype=float32_ref>, <tf.Variable '6-convolutional/gamma:0' shape=(128,) dtype=float32_ref>, <tf.Variable '6-convolutional/moving_mean:0' shape=(128,) dtype=float32_ref>, <tf.Variable '6-convolutional/moving_variance:0' shape=(128,) dtype=float32_ref>, <tf.Variable '8-convolutional/biases:0' shape=(64,) dtype=float32_ref>, <tf.Variable '8-convolutional/kernel:0' shape=(1, 1, 128, 64) dtype=float32_ref>, <tf.Variable '8-convolutional/gamma:0' shape=(64,) dtype=float32_ref>, <tf.Variable '8-convolutional/moving_mean:0' shape=(64,) dtype=float32_ref>, <tf.Variable '8-convolutional/moving_variance:0' shape=(64,) dtype=float32_ref>, <tf.Variable '10-convolutional/biases:0' shape=(128,) dtype=float32_ref>, <tf.Variable '10-convolutional/kernel:0' shape=(3, 3, 64, 128) dtype=float32_ref>, <tf.Variable '10-convolutional/gamma:0' shape=(128,) dtype=float32_ref>, <tf.Variable '10-convolutional/moving_mean:0' shape=(128,) dtype=float32_ref>, <tf.Variable '10-convolutional/moving_variance:0' shape=(128,) dtype=float32_ref>, <tf.Variable '13-convolutional/biases:0' shape=(256,) dtype=float32_ref>, <tf.Variable '13-convolutional/kernel:0' shape=(3, 3, 128, 256) dtype=float32_ref>, <tf.Variable '13-convolutional/gamma:0' shape=(256,) dtype=float32_ref>, <tf.Variable '13-convolutional/moving_mean:0' shape=(256,) dtype=float32_ref>, <tf.Variable '13-convolutional/moving_variance:0' shape=(256,) dtype=float32_ref>, <tf.Variable '15-convolutional/biases:0' shape=(128,) dtype=float32_ref>, <tf.Variable '15-convolutional/kernel:0' shape=(1, 1, 256, 128) dtype=float32_ref>, <tf.Variable '15-convolutional/gamma:0' shape=(128,) dtype=float32_ref>, <tf.Variable '15-convolutional/moving_mean:0' shape=(128,) dtype=float32_ref>, <tf.Variable '15-convolutional/moving_variance:0' shape=(128,) dtype=float32_ref>, <tf.Variable '17-convolutional/biases:0' shape=(256,) dtype=float32_ref>, <tf.Variable '17-convolutional/kernel:0' shape=(3, 3, 128, 256) dtype=float32_ref>, <tf.Variable '17-convolutional/gamma:0' shape=(256,) dtype=float32_ref>, <tf.Variable '17-convolutional/moving_mean:0' shape=(256,) dtype=float32_ref>, <tf.Variable '17-convolutional/moving_variance:0' shape=(256,) dtype=float32_ref>, <tf.Variable '20-convolutional/biases:0' shape=(512,) dtype=float32_ref>, <tf.Variable '20-convolutional/kernel:0' shape=(3, 3, 256, 512) dtype=float32_ref>, <tf.Variable '20-convolutional/gamma:0' shape=(512,) dtype=float32_ref>, <tf.Variable '20-convolutional/moving_mean:0' shape=(512,) dtype=float32_ref>, <tf.Variable '20-convolutional/moving_variance:0' shape=(512,) dtype=float32_ref>, <tf.Variable '22-convolutional/biases:0' shape=(256,) dtype=float32_ref>, <tf.Variable '22-convolutional/kernel:0' shape=(1, 1, 512, 256) dtype=float32_ref>, <tf.Variable '22-convolutional/gamma:0' shape=(256,) dtype=float32_ref>, <tf.Variable '22-convolutional/moving_mean:0' shape=(256,) dtype=float32_ref>, <tf.Variable '22-convolutional/moving_variance:0' shape=(256,) dtype=float32_ref>, <tf.Variable '24-convolutional/biases:0' shape=(512,) dtype=float32_ref>, <tf.Variable '24-convolutional/kernel:0' shape=(3, 3, 256, 512) dtype=float32_ref>, <tf.Variable '24-convolutional/gamma:0' shape=(512,) dtype=float32_ref>, <tf.Variable '24-convolutional/moving_mean:0' shape=(512,) dtype=float32_ref>, <tf.Variable '24-convolutional/moving_variance:0' shape=(512,) dtype=float32_ref>, <tf.Variable '26-convolutional/biases:0' shape=(256,) dtype=float32_ref>, <tf.Variable '26-convolutional/kernel:0' shape=(1, 1, 512, 256) dtype=float32_ref>, <tf.Variable '26-convolutional/gamma:0' shape=(256,) dtype=float32_ref>, <tf.Variable '26-convolutional/moving_mean:0' shape=(256,) dtype=float32_ref>, <tf.Variable '26-convolutional/moving_variance:0' shape=(256,) dtype=float32_ref>, <tf.Variable '28-convolutional/biases:0' shape=(512,) dtype=float32_ref>, <tf.Variable '28-convolutional/kernel:0' shape=(3, 3, 256, 512) dtype=float32_ref>, <tf.Variable '28-convolutional/gamma:0' shape=(512,) dtype=float32_ref>, <tf.Variable '28-convolutional/moving_mean:0' shape=(512,) dtype=float32_ref>, <tf.Variable '28-convolutional/moving_variance:0' shape=(512,) dtype=float32_ref>, <tf.Variable '31-convolutional/biases:0' shape=(1024,) dtype=float32_ref>, <tf.Variable '31-convolutional/kernel:0' shape=(3, 3, 512, 1024) dtype=float32_ref>, <tf.Variable '31-convolutional/gamma:0' shape=(1024,) dtype=float32_ref>, <tf.Variable '31-convolutional/moving_mean:0' shape=(1024,) dtype=float32_ref>, <tf.Variable '31-convolutional/moving_variance:0' shape=(1024,) dtype=float32_ref>, <tf.Variable '33-convolutional/biases:0' shape=(512,) dtype=float32_ref>, <tf.Variable '33-convolutional/kernel:0' shape=(1, 1, 1024, 512) dtype=float32_ref>, <tf.Variable '33-convolutional/gamma:0' shape=(512,) dtype=float32_ref>, <tf.Variable '33-convolutional/moving_mean:0' shape=(512,) dtype=float32_ref>, <tf.Variable '33-convolutional/moving_variance:0' shape=(512,) dtype=float32_ref>, <tf.Variable '35-convolutional/biases:0' shape=(1024,) dtype=float32_ref>, <tf.Variable '35-convolutional/kernel:0' shape=(3, 3, 512, 1024) dtype=float32_ref>, <tf.Variable '35-convolutional/gamma:0' shape=(1024,) dtype=float32_ref>, <tf.Variable '35-convolutional/moving_mean:0' shape=(1024,) dtype=float32_ref>, <tf.Variable '35-convolutional/moving_variance:0' shape=(1024,) dtype=float32_ref>, <tf.Variable '37-convolutional/biases:0' shape=(512,) dtype=float32_ref>, <tf.Variable '37-convolutional/kernel:0' shape=(1, 1, 1024, 512) dtype=float32_ref>, <tf.Variable '37-convolutional/gamma:0' shape=(512,) dtype=float32_ref>, <tf.Variable '37-convolutional/moving_mean:0' shape=(512,) dtype=float32_ref>, <tf.Variable '37-convolutional/moving_variance:0' shape=(512,) dtype=float32_ref>, <tf.Variable '39-convolutional/biases:0' shape=(1024,) dtype=float32_ref>, <tf.Variable '39-convolutional/kernel:0' shape=(3, 3, 512, 1024) dtype=float32_ref>, <tf.Variable '39-convolutional/gamma:0' shape=(1024,) dtype=float32_ref>, <tf.Variable '39-convolutional/moving_mean:0' shape=(1024,) dtype=float32_ref>, <tf.Variable '39-convolutional/moving_variance:0' shape=(1024,) dtype=float32_ref>, <tf.Variable '41-convolutional/biases:0' shape=(1024,) dtype=float32_ref>, <tf.Variable '41-convolutional/kernel:0' shape=(3, 3, 1024, 1024) dtype=float32_ref>, <tf.Variable '41-convolutional/gamma:0' shape=(1024,) dtype=float32_ref>, <tf.Variable '41-convolutional/moving_mean:0' shape=(1024,) dtype=float32_ref>, <tf.Variable '41-convolutional/moving_variance:0' shape=(1024,) dtype=float32_ref>, <tf.Variable '43-convolutional/biases:0' shape=(1024,) dtype=float32_ref>, <tf.Variable '43-convolutional/kernel:0' shape=(3, 3, 1024, 1024) dtype=float32_ref>, <tf.Variable '43-convolutional/gamma:0' shape=(1024,) dtype=float32_ref>, <tf.Variable '43-convolutional/moving_mean:0' shape=(1024,) dtype=float32_ref>, <tf.Variable '43-convolutional/moving_variance:0' shape=(1024,) dtype=float32_ref>, <tf.Variable '46-convolutional/biases:0' shape=(64,) dtype=float32_ref>, <tf.Variable '46-convolutional/kernel:0' shape=(1, 1, 512, 64) dtype=float32_ref>, <tf.Variable '46-convolutional/gamma:0' shape=(64,) dtype=float32_ref>, <tf.Variable '46-convolutional/moving_mean:0' shape=(64,) dtype=float32_ref>, <tf.Variable '46-convolutional/moving_variance:0' shape=(64,) dtype=float32_ref>, <tf.Variable '50-convolutional/biases:0' shape=(1024,) dtype=float32_ref>, <tf.Variable '50-convolutional/kernel:0' shape=(3, 3, 1280, 1024) dtype=float32_ref>, <tf.Variable '50-convolutional/gamma:0' shape=(1024,) dtype=float32_ref>, <tf.Variable '50-convolutional/moving_mean:0' shape=(1024,) dtype=float32_ref>, <tf.Variable '50-convolutional/moving_variance:0' shape=(1024,) dtype=float32_ref>, <tf.Variable '52-convolutional/biases:0' shape=(30,) dtype=float32_ref>, <tf.Variable '52-convolutional/kernel:0' shape=(1, 1, 1024, 30) dtype=float32_ref>]\n"
     ]
    },
    {
     "name": "stdout",
     "output_type": "stream",
     "text": [
      "Loading from D:/data/models/tpe_retrained_all_obj/full_data/ckpt\\yolo-people-10600\n",
      "INFO:tensorflow:Restoring parameters from D:/data/models/tpe_retrained_all_obj/full_data/ckpt\\yolo-people-10600\n",
      "Finished in 14.138180494308472s\n",
      "\n"
     ]
    }
   ],
   "source": [
    "tf_detector = TFNet(options)"
   ]
  },
  {
   "cell_type": "code",
   "execution_count": 10,
   "metadata": {
    "collapsed": true
   },
   "outputs": [],
   "source": [
    "import numpy as np\n",
    "import os"
   ]
  },
  {
   "cell_type": "code",
   "execution_count": 11,
   "metadata": {
    "collapsed": true
   },
   "outputs": [],
   "source": [
    "def video_proc(video_file_path, saving_path, tf_detector, max_imgs_per_person=50, delay=1):\n",
    "    for file in os.listdir(video_file_path):\n",
    "        print('processing file: {}'.format(file))\n",
    "\n",
    "        tracker = Sort()\n",
    "\n",
    "        camera = cv2.VideoCapture(os.path.join(video_file_path,file))\n",
    "        while(1):\n",
    "            ret, img_bgr = camera.read()\n",
    "\n",
    "            if not ret:\n",
    "                camera.release()\n",
    "                break\n",
    "\n",
    "            img = cv2.cvtColor(img_bgr, cv2.COLOR_BGR2RGB)\n",
    "            pred_dict = tf_detector.return_predict(img)\n",
    "            detections = get_boxes_from_dict(pred_dict)\n",
    "            bboxes = tracker.update(detections)\n",
    "\n",
    "            for box_ in bboxes:\n",
    "                box = box_.astype(int)\n",
    "                person_id = box[4]\n",
    "                person_dir = os.path.join(saving_path, str(person_id))\n",
    "                \n",
    "                if not os.path.exists(person_dir):\n",
    "                    os.mkdir(person_dir)\n",
    "                \n",
    "                n_img = len(os.listdir(person_dir))\n",
    "                im_name = str(person_id) + '_' + str(n_img) + '.jpg'\n",
    "                imCrop = img_bgr[box[1]:box[3], box[0]:box[2]]\n",
    "                \n",
    "                if n_img < max_imgs_per_person:\n",
    "                    cv2.imwrite(os.path.join(person_dir,im_name), imCrop)\n",
    "                \n",
    "                cv2.rectangle(img_bgr, (box[0], box[1]), (box[2], box[3]), (255,0,0), 1)\n",
    "                cv2.putText(img_bgr, 'id:' +str(box[4]),(box[0],box[1]),cv2.FONT_HERSHEY_SIMPLEX, 2, (0,255,0))\n",
    "                \n",
    "            cv2.imshow('ex', img_bgr)\n",
    "            k = cv2.waitKey(delay)\n",
    "            if k & 0xFF == ord('q'):\n",
    "                camera.release()\n",
    "                break\n",
    "\n",
    "        if k & 0xFF == ord('q'):\n",
    "            break\n",
    "cv2.destroyAllWindows()\n",
    "    "
   ]
  },
  {
   "cell_type": "code",
   "execution_count": 12,
   "metadata": {
    "collapsed": true
   },
   "outputs": [],
   "source": [
    "def get_boxes_from_dict(pred_dict):\n",
    "    detections = None\n",
    "    for pred in pred_dict:\n",
    "        if pred['label'] == 'person':\n",
    "            bbox = np.array(\n",
    "                [int(pred['topleft']['x']),\n",
    "                 pred['topleft']['y'],\n",
    "                 pred['bottomright']['x'],\n",
    "                 pred['bottomright']['y'],\n",
    "                 pred['confidence']])\n",
    "            if detections is None:\n",
    "                detections = bbox[np.newaxis,:]\n",
    "            else:\n",
    "                detections = np.vstack([detections, bbox])\n",
    "    if detections is None:\n",
    "        detections = np.array([])\n",
    "    return detections"
   ]
  },
  {
   "cell_type": "code",
   "execution_count": 13,
   "metadata": {
    "collapsed": true
   },
   "outputs": [],
   "source": [
    "saving_path = 'D:\\\\data\\\\pics\\\\persons_yolo_test'\n",
    "video_file_path = 'D:\\\\data\\\\short\\\\cam_1'"
   ]
  },
  {
   "cell_type": "code",
   "execution_count": 14,
   "metadata": {},
   "outputs": [
    {
     "name": "stdout",
     "output_type": "stream",
     "text": [
      "processing file: 170814_170101 (1).avi\n",
      "processing file: 170814_170201 (1).avi\n",
      "processing file: 170814_170301 (1).avi\n",
      "processing file: 170814_170401 (1).avi\n",
      "processing file: 170814_170501 (1).avi\n",
      "processing file: 170814_170601 (1).avi\n",
      "processing file: 170814_170701 (1).avi\n",
      "processing file: 170814_170801 (1).avi\n",
      "processing file: 170814_170901 (1).avi\n",
      "processing file: 170814_171001 (1).avi\n",
      "processing file: 170814_171101 (1).avi\n",
      "processing file: 170814_171201 (1).avi\n",
      "processing file: 170814_171301 (1).avi\n",
      "processing file: 170814_171401 (1).avi\n",
      "processing file: 170814_171501 (1).avi\n",
      "processing file: 170814_171601 (1).avi\n",
      "processing file: 170814_171701 (1).avi\n",
      "processing file: 170814_171801 (1).avi\n",
      "processing file: 170814_171901 (1).avi\n",
      "processing file: 170814_172001 (1).avi\n",
      "processing file: 170814_172101 (1).avi\n",
      "processing file: 170814_172201 (1).avi\n",
      "processing file: 170814_172301.avi\n",
      "processing file: 170814_172401.avi\n",
      "processing file: 170814_172501 (1).avi\n",
      "processing file: 170814_172601.avi\n",
      "processing file: 170814_172701 (1).avi\n",
      "processing file: 170814_172801 (1).avi\n",
      "processing file: 170814_172901.avi\n",
      "processing file: 170814_173101.avi\n",
      "processing file: 170814_173201.avi\n",
      "processing file: 170814_173301.avi\n",
      "processing file: 170814_173401.avi\n",
      "processing file: 170814_173501.avi\n",
      "processing file: 170814_173601.avi\n",
      "processing file: 170814_173701 (1).avi\n",
      "processing file: 170814_173801 (1).avi\n",
      "processing file: 170814_173901.avi\n",
      "processing file: 170814_174001 (1).avi\n",
      "processing file: 170814_174101.avi\n",
      "processing file: 170814_174201.avi\n",
      "processing file: 170814_174301.avi\n",
      "processing file: 170814_174401.avi\n",
      "processing file: 170814_174501.avi\n",
      "processing file: 170814_174601 (1).avi\n",
      "processing file: 170814_174701.avi\n",
      "processing file: 170814_174801.avi\n",
      "processing file: 170814_174901.avi\n",
      "processing file: 170814_175001.avi\n",
      "processing file: 170814_175101.avi\n",
      "processing file: 170814_175201.avi\n",
      "processing file: 170814_175301.avi\n",
      "processing file: 170814_175401.avi\n",
      "processing file: 170814_175501.avi\n",
      "processing file: 170814_175601.avi\n",
      "processing file: 170814_175701.avi\n",
      "processing file: 170814_175801.avi\n",
      "processing file: 170814_175901.avi\n",
      "processing file: 170814_180002.avi\n"
     ]
    }
   ],
   "source": [
    "video_proc(video_file_path, saving_path, tf_detector, max_imgs_per_person=50, delay=1)"
   ]
  },
  {
   "cell_type": "code",
   "execution_count": 15,
   "metadata": {
    "collapsed": true
   },
   "outputs": [],
   "source": [
    "cv2.destroyAllWindows()"
   ]
  },
  {
   "cell_type": "code",
   "execution_count": null,
   "metadata": {
    "collapsed": true
   },
   "outputs": [],
   "source": []
  }
 ],
 "metadata": {
  "kernelspec": {
   "display_name": "Python 3",
   "language": "python",
   "name": "python3"
  },
  "language_info": {
   "codemirror_mode": {
    "name": "ipython",
    "version": 3
   },
   "file_extension": ".py",
   "mimetype": "text/x-python",
   "name": "python",
   "nbconvert_exporter": "python",
   "pygments_lexer": "ipython3",
   "version": "3.6.1"
  }
 },
 "nbformat": 4,
 "nbformat_minor": 2
}
