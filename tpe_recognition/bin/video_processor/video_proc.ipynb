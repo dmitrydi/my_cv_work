{
 "cells": [
  {
   "cell_type": "code",
   "execution_count": 1,
   "metadata": {
    "collapsed": true
   },
   "outputs": [],
   "source": [
    "from darkflow.net.build import TFNet\n",
    "import cv2\n",
    "from sort.sort import *"
   ]
  },
  {
   "cell_type": "code",
   "execution_count": 10,
   "metadata": {
    "collapsed": true
   },
   "outputs": [],
   "source": [
    "options = {\"model\": \"../yolo_data/cfg/yolo.cfg\",\n",
    "           \"load\": \"../yolo_data/bin/yolo.weights\",\n",
    "           'config': '../yolo_data/cfg',\n",
    "           'threshold': 0.5, 'summary': None, 'gpu':0.8}"
   ]
  },
  {
   "cell_type": "code",
   "execution_count": 11,
   "metadata": {},
   "outputs": [
    {
     "name": "stdout",
     "output_type": "stream",
     "text": [
      "Parsing ../yolo_data/cfg\\yolo.cfg\n",
      "Parsing ../yolo_data/cfg/yolo.cfg\n",
      "Loading ../yolo_data/bin/yolo.weights ...\n",
      "Successfully identified 203934260 bytes\n",
      "Finished in 0.031080961227416992s\n",
      "Model has a coco model name, loading coco labels.\n",
      "\n",
      "Building net ...\n",
      "Source | Train? | Layer description                | Output size\n",
      "-------+--------+----------------------------------+---------------\n",
      "       |        | input                            | (?, 608, 608, 3)\n",
      " Load  |  Yep!  | conv 3x3p1_1  +bnorm  leaky      | (?, 608, 608, 32)\n",
      " Load  |  Yep!  | maxp 2x2p0_2                     | (?, 304, 304, 32)\n",
      " Load  |  Yep!  | conv 3x3p1_1  +bnorm  leaky      | (?, 304, 304, 64)\n",
      " Load  |  Yep!  | maxp 2x2p0_2                     | (?, 152, 152, 64)\n",
      " Load  |  Yep!  | conv 3x3p1_1  +bnorm  leaky      | (?, 152, 152, 128)\n",
      " Load  |  Yep!  | conv 1x1p0_1  +bnorm  leaky      | (?, 152, 152, 64)\n",
      " Load  |  Yep!  | conv 3x3p1_1  +bnorm  leaky      | (?, 152, 152, 128)\n",
      " Load  |  Yep!  | maxp 2x2p0_2                     | (?, 76, 76, 128)\n",
      " Load  |  Yep!  | conv 3x3p1_1  +bnorm  leaky      | (?, 76, 76, 256)\n",
      " Load  |  Yep!  | conv 1x1p0_1  +bnorm  leaky      | (?, 76, 76, 128)\n",
      " Load  |  Yep!  | conv 3x3p1_1  +bnorm  leaky      | (?, 76, 76, 256)\n",
      " Load  |  Yep!  | maxp 2x2p0_2                     | (?, 38, 38, 256)\n",
      " Load  |  Yep!  | conv 3x3p1_1  +bnorm  leaky      | (?, 38, 38, 512)\n",
      " Load  |  Yep!  | conv 1x1p0_1  +bnorm  leaky      | (?, 38, 38, 256)\n",
      " Load  |  Yep!  | conv 3x3p1_1  +bnorm  leaky      | (?, 38, 38, 512)\n",
      " Load  |  Yep!  | conv 1x1p0_1  +bnorm  leaky      | (?, 38, 38, 256)\n",
      " Load  |  Yep!  | conv 3x3p1_1  +bnorm  leaky      | (?, 38, 38, 512)\n",
      " Load  |  Yep!  | maxp 2x2p0_2                     | (?, 19, 19, 512)\n",
      " Load  |  Yep!  | conv 3x3p1_1  +bnorm  leaky      | (?, 19, 19, 1024)\n",
      " Load  |  Yep!  | conv 1x1p0_1  +bnorm  leaky      | (?, 19, 19, 512)\n",
      " Load  |  Yep!  | conv 3x3p1_1  +bnorm  leaky      | (?, 19, 19, 1024)\n",
      " Load  |  Yep!  | conv 1x1p0_1  +bnorm  leaky      | (?, 19, 19, 512)\n",
      " Load  |  Yep!  | conv 3x3p1_1  +bnorm  leaky      | (?, 19, 19, 1024)\n",
      " Load  |  Yep!  | conv 3x3p1_1  +bnorm  leaky      | (?, 19, 19, 1024)\n",
      " Load  |  Yep!  | conv 3x3p1_1  +bnorm  leaky      | (?, 19, 19, 1024)\n",
      " Load  |  Yep!  | concat [16]                      | (?, 38, 38, 512)\n",
      " Load  |  Yep!  | conv 1x1p0_1  +bnorm  leaky      | (?, 38, 38, 64)\n",
      " Load  |  Yep!  | local flatten 2x2                | (?, 19, 19, 256)\n",
      " Load  |  Yep!  | concat [27, 24]                  | (?, 19, 19, 1280)\n",
      " Load  |  Yep!  | conv 3x3p1_1  +bnorm  leaky      | (?, 19, 19, 1024)\n",
      " Load  |  Yep!  | conv 1x1p0_1    linear           | (?, 19, 19, 425)\n",
      "-------+--------+----------------------------------+---------------\n",
      "GPU mode with 0.8 usage\n",
      "Finished in 7.1535820960998535s\n",
      "\n"
     ]
    }
   ],
   "source": [
    "tf_detector = TFNet(options)"
   ]
  },
  {
   "cell_type": "code",
   "execution_count": 13,
   "metadata": {
    "collapsed": true
   },
   "outputs": [],
   "source": [
    "import numpy as np\n",
    "import os"
   ]
  },
  {
   "cell_type": "code",
   "execution_count": 31,
   "metadata": {
    "collapsed": true
   },
   "outputs": [],
   "source": [
    "def video_proc(video_file_path, saving_path, tf_detector, max_imgs_per_person=50, delay=1):\n",
    "    for file in os.listdir(video_file_path):\n",
    "        print('processing file: {}'.format(file))\n",
    "\n",
    "        tracker = Sort()\n",
    "\n",
    "        camera = cv2.VideoCapture(os.path.join(video_file_path,file))\n",
    "        while(1):\n",
    "            ret, img_bgr = camera.read()\n",
    "\n",
    "            if not ret:\n",
    "                camera.release()\n",
    "                break\n",
    "\n",
    "            img = cv2.cvtColor(img_bgr, cv2.COLOR_BGR2RGB)\n",
    "            pred_dict = tf_detector.return_predict(img)\n",
    "            detections = get_boxes_from_dict(pred_dict)\n",
    "            bboxes = tracker.update(detections)\n",
    "\n",
    "            for box_ in bboxes:\n",
    "                box = box_.astype(int)\n",
    "                person_id = box[4]\n",
    "                person_dir = os.path.join(saving_path, str(person_id))\n",
    "                \n",
    "                if not os.path.exists(person_dir):\n",
    "                    os.mkdir(person_dir)\n",
    "                \n",
    "                n_img = len(os.listdir(person_dir))\n",
    "                im_name = str(person_id) + '_' + str(n_img) + '.jpg'\n",
    "                imCrop = img_bgr[box[1]:box[3], box[0]:box[2]]\n",
    "                \n",
    "                if n_img < max_imgs_per_person:\n",
    "                    cv2.imwrite(os.path.join(person_dir,im_name), imCrop)\n",
    "                \n",
    "                cv2.rectangle(img_bgr, (box[0], box[1]), (box[2], box[3]), (255,0,0), 1)\n",
    "                cv2.putText(img_bgr, 'id:' +str(box[4]),(box[0],box[1]),cv2.FONT_HERSHEY_SIMPLEX, 2, (0,255,0))\n",
    "                \n",
    "            cv2.imshow('ex', img_bgr)\n",
    "            k = cv2.waitKey(delay)\n",
    "            if k & 0xFF == ord('q'):\n",
    "                camera.release()\n",
    "                break\n",
    "\n",
    "        if k & 0xFF == ord('q'):\n",
    "            break\n",
    "cv2.destroyAllWindows()\n",
    "    "
   ]
  },
  {
   "cell_type": "code",
   "execution_count": 32,
   "metadata": {
    "collapsed": true
   },
   "outputs": [],
   "source": [
    "def get_boxes_from_dict(pred_dict):\n",
    "    detections = None\n",
    "    for pred in pred_dict:\n",
    "        if pred['label'] == 'person':\n",
    "            bbox = np.array(\n",
    "                [int(pred['topleft']['x']),\n",
    "                 pred['topleft']['y'],\n",
    "                 pred['bottomright']['x'],\n",
    "                 pred['bottomright']['y'],\n",
    "                 pred['confidence']])\n",
    "            if detections is None:\n",
    "                detections = bbox[np.newaxis,:]\n",
    "            else:\n",
    "                detections = np.vstack([detections, bbox])\n",
    "    if detections is None:\n",
    "        detections = np.array([])\n",
    "    return detections"
   ]
  },
  {
   "cell_type": "code",
   "execution_count": 33,
   "metadata": {
    "collapsed": true
   },
   "outputs": [],
   "source": [
    "saving_path = 'D:\\\\data\\\\pics\\\\persons_yolo_test'\n",
    "video_file_path = 'D:\\\\data\\\\short\\\\cam_1'"
   ]
  },
  {
   "cell_type": "code",
   "execution_count": 34,
   "metadata": {},
   "outputs": [
    {
     "name": "stdout",
     "output_type": "stream",
     "text": [
      "processing file: 170814_170101 (1).avi\n",
      "processing file: 170814_170201 (1).avi\n"
     ]
    }
   ],
   "source": [
    "video_proc(video_file_path, saving_path, tf_detector, max_imgs_per_person=50, delay=1)"
   ]
  },
  {
   "cell_type": "code",
   "execution_count": 35,
   "metadata": {
    "collapsed": true
   },
   "outputs": [],
   "source": [
    "cv2.destroyAllWindows()"
   ]
  },
  {
   "cell_type": "code",
   "execution_count": null,
   "metadata": {
    "collapsed": true
   },
   "outputs": [],
   "source": []
  }
 ],
 "metadata": {
  "kernelspec": {
   "display_name": "Python 3",
   "language": "python",
   "name": "python3"
  },
  "language_info": {
   "codemirror_mode": {
    "name": "ipython",
    "version": 3
   },
   "file_extension": ".py",
   "mimetype": "text/x-python",
   "name": "python",
   "nbconvert_exporter": "python",
   "pygments_lexer": "ipython3",
   "version": "3.6.1"
  }
 },
 "nbformat": 4,
 "nbformat_minor": 2
}
