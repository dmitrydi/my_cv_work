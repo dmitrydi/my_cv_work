{
 "cells": [
  {
   "cell_type": "code",
   "execution_count": 1,
   "metadata": {
    "collapsed": true
   },
   "outputs": [],
   "source": [
    "from markup_predict import hand_mark_boxes, detection_scores, detection_scores_in_roi, show_rectangles"
   ]
  },
  {
   "cell_type": "code",
   "execution_count": 2,
   "metadata": {
    "collapsed": true
   },
   "outputs": [],
   "source": [
    "data_path ='C:\\\\my_cv_work\\\\tpe_recognition\\\\data\\\\cam_1_hand_markup'\n",
    "source_path = 'D:\\\\data\\\\pics\\\\cam_1_src'\n",
    "data_filename = 'cam_1_hand_markup_next.json'\n",
    "already_marked = 'C:\\\\my_cv_work\\\\tpe_recognition\\\\data\\\\cam_1_hand_markup\\\\cam_1_hand_markup.json'"
   ]
  },
  {
   "cell_type": "code",
   "execution_count": 3,
   "metadata": {
    "collapsed": true
   },
   "outputs": [],
   "source": [
    "import json\n",
    "import os"
   ]
  },
  {
   "cell_type": "code",
   "execution_count": 4,
   "metadata": {},
   "outputs": [],
   "source": [
    "marked_data = json.loads(open(already_marked, 'r').read())\n",
    "marked_files = [k for k,v in marked_data.items()]\n",
    "len(marked_files)\n",
    "with open(os.path.join(data_path, 'marked_files.txt'), 'w') as f:\n",
    "    for filename in marked_files:\n",
    "        f.write(filename + '\\n')"
   ]
  },
  {
   "cell_type": "code",
   "execution_count": 5,
   "metadata": {
    "collapsed": true
   },
   "outputs": [],
   "source": [
    "hand_mark_boxes(source_path, data_path, data_filename, log_filename=os.path.join(data_path, 'marked_files.txt'))"
   ]
  },
  {
   "cell_type": "code",
   "execution_count": null,
   "metadata": {
    "collapsed": true
   },
   "outputs": [],
   "source": []
  }
 ],
 "metadata": {
  "kernelspec": {
   "display_name": "Python 3",
   "language": "python",
   "name": "python3"
  },
  "language_info": {
   "codemirror_mode": {
    "name": "ipython",
    "version": 3
   },
   "file_extension": ".py",
   "mimetype": "text/x-python",
   "name": "python",
   "nbconvert_exporter": "python",
   "pygments_lexer": "ipython3",
   "version": "3.6.1"
  }
 },
 "nbformat": 4,
 "nbformat_minor": 2
}
