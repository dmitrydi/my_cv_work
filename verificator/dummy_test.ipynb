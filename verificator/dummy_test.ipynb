{
 "cells": [
  {
   "cell_type": "code",
   "execution_count": 1,
   "metadata": {},
   "outputs": [],
   "source": [
    "from verificator.detector import *\n",
    "import os"
   ]
  },
  {
   "cell_type": "code",
   "execution_count": 2,
   "metadata": {
    "collapsed": true
   },
   "outputs": [],
   "source": [
    "build_path = 'C:\\\\my_cv_work\\\\tpe_recognition\\\\utils\\\\test_build'\n",
    "weights = os.path.join(build_path, 'bin', 'yolo.weights')\n",
    "model = os.path.join(build_path, 'cfg', 'yolo-people.cfg')\n",
    "cfg = os.path.join(build_path, 'cfg')\n",
    "labels = os.path.join(build_path, 'labels.txt')\n",
    "trained_model_path = 'D:\\\\data\\\\models\\\\tpe_retrained_all_obj\\\\full_data'"
   ]
  },
  {
   "cell_type": "code",
   "execution_count": 18,
   "metadata": {
    "collapsed": true
   },
   "outputs": [],
   "source": [
    "options=dict()\n",
    "options['model'] = model\n",
    "options['load'] = -1\n",
    "options['config'] = cfg\n",
    "options['labels'] = labels\n",
    "#options['dataset'] = images_dir\n",
    "#options['val_dataset'] = images_dir\n",
    "#options['annotation'] = train_annotations_dir\n",
    "#options['val_annotation'] = val_annotations_dir\n",
    "#options['epoch'] = 10\n",
    "options['gpu'] = 0.8\n",
    "#options[\"batch\"] = 2\n",
    "#options[\"subdivisions\"] = 1\n",
    "options['backup'] = os.path.join(trained_model_path, 'ckpt')#'D:/data/models/tpe_retrain_nearbound/ckpt'\n",
    "options['summary'] = os.path.join(trained_model_path, 'summary')#'D:/data/models/tpe_retrain_nearbound/summary'\n",
    "#options['save'] = 100\n",
    "options['threshold'] = 0.7\n",
    "#options['lr'] = 1e-4"
   ]
  },
  {
   "cell_type": "code",
   "execution_count": 19,
   "metadata": {},
   "outputs": [
    {
     "name": "stdout",
     "output_type": "stream",
     "text": [
      "Parsing C:\\my_cv_work\\tpe_recognition\\utils\\test_build\\cfg\\yolo-people.cfg\n",
      "Loading None ...\n",
      "Finished in 0.0s\n",
      "\n",
      "Building net ...\n",
      "Source | Train? | Layer description                | Output size\n",
      "-------+--------+----------------------------------+---------------\n",
      "       |        | input                            | (?, 608, 608, 3)\n",
      " Init  |  Yep!  | conv 3x3p1_1  +bnorm  leaky      | (?, 608, 608, 32)\n",
      " Load  |  Yep!  | maxp 2x2p0_2                     | (?, 304, 304, 32)\n",
      " Init  |  Yep!  | conv 3x3p1_1  +bnorm  leaky      | (?, 304, 304, 64)\n",
      " Load  |  Yep!  | maxp 2x2p0_2                     | (?, 152, 152, 64)\n",
      " Init  |  Yep!  | conv 3x3p1_1  +bnorm  leaky      | (?, 152, 152, 128)\n",
      " Init  |  Yep!  | conv 1x1p0_1  +bnorm  leaky      | (?, 152, 152, 64)\n",
      " Init  |  Yep!  | conv 3x3p1_1  +bnorm  leaky      | (?, 152, 152, 128)\n",
      " Load  |  Yep!  | maxp 2x2p0_2                     | (?, 76, 76, 128)\n",
      " Init  |  Yep!  | conv 3x3p1_1  +bnorm  leaky      | (?, 76, 76, 256)\n",
      " Init  |  Yep!  | conv 1x1p0_1  +bnorm  leaky      | (?, 76, 76, 128)\n",
      " Init  |  Yep!  | conv 3x3p1_1  +bnorm  leaky      | (?, 76, 76, 256)\n",
      " Load  |  Yep!  | maxp 2x2p0_2                     | (?, 38, 38, 256)\n",
      " Init  |  Yep!  | conv 3x3p1_1  +bnorm  leaky      | (?, 38, 38, 512)\n",
      " Init  |  Yep!  | conv 1x1p0_1  +bnorm  leaky      | (?, 38, 38, 256)\n",
      " Init  |  Yep!  | conv 3x3p1_1  +bnorm  leaky      | (?, 38, 38, 512)\n",
      " Init  |  Yep!  | conv 1x1p0_1  +bnorm  leaky      | (?, 38, 38, 256)\n",
      " Init  |  Yep!  | conv 3x3p1_1  +bnorm  leaky      | (?, 38, 38, 512)\n",
      " Load  |  Yep!  | maxp 2x2p0_2                     | (?, 19, 19, 512)\n",
      " Init  |  Yep!  | conv 3x3p1_1  +bnorm  leaky      | (?, 19, 19, 1024)\n",
      " Init  |  Yep!  | conv 1x1p0_1  +bnorm  leaky      | (?, 19, 19, 512)\n",
      " Init  |  Yep!  | conv 3x3p1_1  +bnorm  leaky      | (?, 19, 19, 1024)\n",
      " Init  |  Yep!  | conv 1x1p0_1  +bnorm  leaky      | (?, 19, 19, 512)\n",
      " Init  |  Yep!  | conv 3x3p1_1  +bnorm  leaky      | (?, 19, 19, 1024)\n",
      " Init  |  Yep!  | conv 3x3p1_1  +bnorm  leaky      | (?, 19, 19, 1024)\n",
      " Init  |  Yep!  | conv 3x3p1_1  +bnorm  leaky      | (?, 19, 19, 1024)\n",
      " Load  |  Yep!  | concat [16]                      | (?, 38, 38, 512)\n",
      " Init  |  Yep!  | conv 1x1p0_1  +bnorm  leaky      | (?, 38, 38, 64)\n",
      " Load  |  Yep!  | local flatten 2x2                | (?, 19, 19, 256)\n",
      " Load  |  Yep!  | concat [27, 24]                  | (?, 19, 19, 1280)\n",
      " Init  |  Yep!  | conv 3x3p1_1  +bnorm  leaky      | (?, 19, 19, 1024)\n",
      " Init  |  Yep!  | conv 1x1p0_1    linear           | (?, 19, 19, 30)\n",
      "-------+--------+----------------------------------+---------------\n",
      "GPU mode with 0.8 usage\n",
      "trainable variables: [<tf.Variable '0-convolutional/biases:0' shape=(32,) dtype=float32_ref>, <tf.Variable '0-convolutional/kernel:0' shape=(3, 3, 3, 32) dtype=float32_ref>, <tf.Variable '0-convolutional/gamma:0' shape=(32,) dtype=float32_ref>, <tf.Variable '3-convolutional/biases:0' shape=(64,) dtype=float32_ref>, <tf.Variable '3-convolutional/kernel:0' shape=(3, 3, 32, 64) dtype=float32_ref>, <tf.Variable '3-convolutional/gamma:0' shape=(64,) dtype=float32_ref>, <tf.Variable '6-convolutional/biases:0' shape=(128,) dtype=float32_ref>, <tf.Variable '6-convolutional/kernel:0' shape=(3, 3, 64, 128) dtype=float32_ref>, <tf.Variable '6-convolutional/gamma:0' shape=(128,) dtype=float32_ref>, <tf.Variable '8-convolutional/biases:0' shape=(64,) dtype=float32_ref>, <tf.Variable '8-convolutional/kernel:0' shape=(1, 1, 128, 64) dtype=float32_ref>, <tf.Variable '8-convolutional/gamma:0' shape=(64,) dtype=float32_ref>, <tf.Variable '10-convolutional/biases:0' shape=(128,) dtype=float32_ref>, <tf.Variable '10-convolutional/kernel:0' shape=(3, 3, 64, 128) dtype=float32_ref>, <tf.Variable '10-convolutional/gamma:0' shape=(128,) dtype=float32_ref>, <tf.Variable '13-convolutional/biases:0' shape=(256,) dtype=float32_ref>, <tf.Variable '13-convolutional/kernel:0' shape=(3, 3, 128, 256) dtype=float32_ref>, <tf.Variable '13-convolutional/gamma:0' shape=(256,) dtype=float32_ref>, <tf.Variable '15-convolutional/biases:0' shape=(128,) dtype=float32_ref>, <tf.Variable '15-convolutional/kernel:0' shape=(1, 1, 256, 128) dtype=float32_ref>, <tf.Variable '15-convolutional/gamma:0' shape=(128,) dtype=float32_ref>, <tf.Variable '17-convolutional/biases:0' shape=(256,) dtype=float32_ref>, <tf.Variable '17-convolutional/kernel:0' shape=(3, 3, 128, 256) dtype=float32_ref>, <tf.Variable '17-convolutional/gamma:0' shape=(256,) dtype=float32_ref>, <tf.Variable '20-convolutional/biases:0' shape=(512,) dtype=float32_ref>, <tf.Variable '20-convolutional/kernel:0' shape=(3, 3, 256, 512) dtype=float32_ref>, <tf.Variable '20-convolutional/gamma:0' shape=(512,) dtype=float32_ref>, <tf.Variable '22-convolutional/biases:0' shape=(256,) dtype=float32_ref>, <tf.Variable '22-convolutional/kernel:0' shape=(1, 1, 512, 256) dtype=float32_ref>, <tf.Variable '22-convolutional/gamma:0' shape=(256,) dtype=float32_ref>, <tf.Variable '24-convolutional/biases:0' shape=(512,) dtype=float32_ref>, <tf.Variable '24-convolutional/kernel:0' shape=(3, 3, 256, 512) dtype=float32_ref>, <tf.Variable '24-convolutional/gamma:0' shape=(512,) dtype=float32_ref>, <tf.Variable '26-convolutional/biases:0' shape=(256,) dtype=float32_ref>, <tf.Variable '26-convolutional/kernel:0' shape=(1, 1, 512, 256) dtype=float32_ref>, <tf.Variable '26-convolutional/gamma:0' shape=(256,) dtype=float32_ref>, <tf.Variable '28-convolutional/biases:0' shape=(512,) dtype=float32_ref>, <tf.Variable '28-convolutional/kernel:0' shape=(3, 3, 256, 512) dtype=float32_ref>, <tf.Variable '28-convolutional/gamma:0' shape=(512,) dtype=float32_ref>, <tf.Variable '31-convolutional/biases:0' shape=(1024,) dtype=float32_ref>, <tf.Variable '31-convolutional/kernel:0' shape=(3, 3, 512, 1024) dtype=float32_ref>, <tf.Variable '31-convolutional/gamma:0' shape=(1024,) dtype=float32_ref>, <tf.Variable '33-convolutional/biases:0' shape=(512,) dtype=float32_ref>, <tf.Variable '33-convolutional/kernel:0' shape=(1, 1, 1024, 512) dtype=float32_ref>, <tf.Variable '33-convolutional/gamma:0' shape=(512,) dtype=float32_ref>, <tf.Variable '35-convolutional/biases:0' shape=(1024,) dtype=float32_ref>, <tf.Variable '35-convolutional/kernel:0' shape=(3, 3, 512, 1024) dtype=float32_ref>, <tf.Variable '35-convolutional/gamma:0' shape=(1024,) dtype=float32_ref>, <tf.Variable '37-convolutional/biases:0' shape=(512,) dtype=float32_ref>, <tf.Variable '37-convolutional/kernel:0' shape=(1, 1, 1024, 512) dtype=float32_ref>, <tf.Variable '37-convolutional/gamma:0' shape=(512,) dtype=float32_ref>, <tf.Variable '39-convolutional/biases:0' shape=(1024,) dtype=float32_ref>, <tf.Variable '39-convolutional/kernel:0' shape=(3, 3, 512, 1024) dtype=float32_ref>, <tf.Variable '39-convolutional/gamma:0' shape=(1024,) dtype=float32_ref>, <tf.Variable '41-convolutional/biases:0' shape=(1024,) dtype=float32_ref>, <tf.Variable '41-convolutional/kernel:0' shape=(3, 3, 1024, 1024) dtype=float32_ref>, <tf.Variable '41-convolutional/gamma:0' shape=(1024,) dtype=float32_ref>, <tf.Variable '43-convolutional/biases:0' shape=(1024,) dtype=float32_ref>, <tf.Variable '43-convolutional/kernel:0' shape=(3, 3, 1024, 1024) dtype=float32_ref>, <tf.Variable '43-convolutional/gamma:0' shape=(1024,) dtype=float32_ref>, <tf.Variable '46-convolutional/biases:0' shape=(64,) dtype=float32_ref>, <tf.Variable '46-convolutional/kernel:0' shape=(1, 1, 512, 64) dtype=float32_ref>, <tf.Variable '46-convolutional/gamma:0' shape=(64,) dtype=float32_ref>, <tf.Variable '50-convolutional/biases:0' shape=(1024,) dtype=float32_ref>, <tf.Variable '50-convolutional/kernel:0' shape=(3, 3, 1280, 1024) dtype=float32_ref>, <tf.Variable '50-convolutional/gamma:0' shape=(1024,) dtype=float32_ref>, <tf.Variable '52-convolutional/biases:0' shape=(30,) dtype=float32_ref>, <tf.Variable '52-convolutional/kernel:0' shape=(1, 1, 1024, 30) dtype=float32_ref>]\n",
      "global variables: [<tf.Variable '0-convolutional/biases:0' shape=(32,) dtype=float32_ref>, <tf.Variable '0-convolutional/kernel:0' shape=(3, 3, 3, 32) dtype=float32_ref>, <tf.Variable '0-convolutional/gamma:0' shape=(32,) dtype=float32_ref>, <tf.Variable '0-convolutional/moving_mean:0' shape=(32,) dtype=float32_ref>, <tf.Variable '0-convolutional/moving_variance:0' shape=(32,) dtype=float32_ref>, <tf.Variable '3-convolutional/biases:0' shape=(64,) dtype=float32_ref>, <tf.Variable '3-convolutional/kernel:0' shape=(3, 3, 32, 64) dtype=float32_ref>, <tf.Variable '3-convolutional/gamma:0' shape=(64,) dtype=float32_ref>, <tf.Variable '3-convolutional/moving_mean:0' shape=(64,) dtype=float32_ref>, <tf.Variable '3-convolutional/moving_variance:0' shape=(64,) dtype=float32_ref>, <tf.Variable '6-convolutional/biases:0' shape=(128,) dtype=float32_ref>, <tf.Variable '6-convolutional/kernel:0' shape=(3, 3, 64, 128) dtype=float32_ref>, <tf.Variable '6-convolutional/gamma:0' shape=(128,) dtype=float32_ref>, <tf.Variable '6-convolutional/moving_mean:0' shape=(128,) dtype=float32_ref>, <tf.Variable '6-convolutional/moving_variance:0' shape=(128,) dtype=float32_ref>, <tf.Variable '8-convolutional/biases:0' shape=(64,) dtype=float32_ref>, <tf.Variable '8-convolutional/kernel:0' shape=(1, 1, 128, 64) dtype=float32_ref>, <tf.Variable '8-convolutional/gamma:0' shape=(64,) dtype=float32_ref>, <tf.Variable '8-convolutional/moving_mean:0' shape=(64,) dtype=float32_ref>, <tf.Variable '8-convolutional/moving_variance:0' shape=(64,) dtype=float32_ref>, <tf.Variable '10-convolutional/biases:0' shape=(128,) dtype=float32_ref>, <tf.Variable '10-convolutional/kernel:0' shape=(3, 3, 64, 128) dtype=float32_ref>, <tf.Variable '10-convolutional/gamma:0' shape=(128,) dtype=float32_ref>, <tf.Variable '10-convolutional/moving_mean:0' shape=(128,) dtype=float32_ref>, <tf.Variable '10-convolutional/moving_variance:0' shape=(128,) dtype=float32_ref>, <tf.Variable '13-convolutional/biases:0' shape=(256,) dtype=float32_ref>, <tf.Variable '13-convolutional/kernel:0' shape=(3, 3, 128, 256) dtype=float32_ref>, <tf.Variable '13-convolutional/gamma:0' shape=(256,) dtype=float32_ref>, <tf.Variable '13-convolutional/moving_mean:0' shape=(256,) dtype=float32_ref>, <tf.Variable '13-convolutional/moving_variance:0' shape=(256,) dtype=float32_ref>, <tf.Variable '15-convolutional/biases:0' shape=(128,) dtype=float32_ref>, <tf.Variable '15-convolutional/kernel:0' shape=(1, 1, 256, 128) dtype=float32_ref>, <tf.Variable '15-convolutional/gamma:0' shape=(128,) dtype=float32_ref>, <tf.Variable '15-convolutional/moving_mean:0' shape=(128,) dtype=float32_ref>, <tf.Variable '15-convolutional/moving_variance:0' shape=(128,) dtype=float32_ref>, <tf.Variable '17-convolutional/biases:0' shape=(256,) dtype=float32_ref>, <tf.Variable '17-convolutional/kernel:0' shape=(3, 3, 128, 256) dtype=float32_ref>, <tf.Variable '17-convolutional/gamma:0' shape=(256,) dtype=float32_ref>, <tf.Variable '17-convolutional/moving_mean:0' shape=(256,) dtype=float32_ref>, <tf.Variable '17-convolutional/moving_variance:0' shape=(256,) dtype=float32_ref>, <tf.Variable '20-convolutional/biases:0' shape=(512,) dtype=float32_ref>, <tf.Variable '20-convolutional/kernel:0' shape=(3, 3, 256, 512) dtype=float32_ref>, <tf.Variable '20-convolutional/gamma:0' shape=(512,) dtype=float32_ref>, <tf.Variable '20-convolutional/moving_mean:0' shape=(512,) dtype=float32_ref>, <tf.Variable '20-convolutional/moving_variance:0' shape=(512,) dtype=float32_ref>, <tf.Variable '22-convolutional/biases:0' shape=(256,) dtype=float32_ref>, <tf.Variable '22-convolutional/kernel:0' shape=(1, 1, 512, 256) dtype=float32_ref>, <tf.Variable '22-convolutional/gamma:0' shape=(256,) dtype=float32_ref>, <tf.Variable '22-convolutional/moving_mean:0' shape=(256,) dtype=float32_ref>, <tf.Variable '22-convolutional/moving_variance:0' shape=(256,) dtype=float32_ref>, <tf.Variable '24-convolutional/biases:0' shape=(512,) dtype=float32_ref>, <tf.Variable '24-convolutional/kernel:0' shape=(3, 3, 256, 512) dtype=float32_ref>, <tf.Variable '24-convolutional/gamma:0' shape=(512,) dtype=float32_ref>, <tf.Variable '24-convolutional/moving_mean:0' shape=(512,) dtype=float32_ref>, <tf.Variable '24-convolutional/moving_variance:0' shape=(512,) dtype=float32_ref>, <tf.Variable '26-convolutional/biases:0' shape=(256,) dtype=float32_ref>, <tf.Variable '26-convolutional/kernel:0' shape=(1, 1, 512, 256) dtype=float32_ref>, <tf.Variable '26-convolutional/gamma:0' shape=(256,) dtype=float32_ref>, <tf.Variable '26-convolutional/moving_mean:0' shape=(256,) dtype=float32_ref>, <tf.Variable '26-convolutional/moving_variance:0' shape=(256,) dtype=float32_ref>, <tf.Variable '28-convolutional/biases:0' shape=(512,) dtype=float32_ref>, <tf.Variable '28-convolutional/kernel:0' shape=(3, 3, 256, 512) dtype=float32_ref>, <tf.Variable '28-convolutional/gamma:0' shape=(512,) dtype=float32_ref>, <tf.Variable '28-convolutional/moving_mean:0' shape=(512,) dtype=float32_ref>, <tf.Variable '28-convolutional/moving_variance:0' shape=(512,) dtype=float32_ref>, <tf.Variable '31-convolutional/biases:0' shape=(1024,) dtype=float32_ref>, <tf.Variable '31-convolutional/kernel:0' shape=(3, 3, 512, 1024) dtype=float32_ref>, <tf.Variable '31-convolutional/gamma:0' shape=(1024,) dtype=float32_ref>, <tf.Variable '31-convolutional/moving_mean:0' shape=(1024,) dtype=float32_ref>, <tf.Variable '31-convolutional/moving_variance:0' shape=(1024,) dtype=float32_ref>, <tf.Variable '33-convolutional/biases:0' shape=(512,) dtype=float32_ref>, <tf.Variable '33-convolutional/kernel:0' shape=(1, 1, 1024, 512) dtype=float32_ref>, <tf.Variable '33-convolutional/gamma:0' shape=(512,) dtype=float32_ref>, <tf.Variable '33-convolutional/moving_mean:0' shape=(512,) dtype=float32_ref>, <tf.Variable '33-convolutional/moving_variance:0' shape=(512,) dtype=float32_ref>, <tf.Variable '35-convolutional/biases:0' shape=(1024,) dtype=float32_ref>, <tf.Variable '35-convolutional/kernel:0' shape=(3, 3, 512, 1024) dtype=float32_ref>, <tf.Variable '35-convolutional/gamma:0' shape=(1024,) dtype=float32_ref>, <tf.Variable '35-convolutional/moving_mean:0' shape=(1024,) dtype=float32_ref>, <tf.Variable '35-convolutional/moving_variance:0' shape=(1024,) dtype=float32_ref>, <tf.Variable '37-convolutional/biases:0' shape=(512,) dtype=float32_ref>, <tf.Variable '37-convolutional/kernel:0' shape=(1, 1, 1024, 512) dtype=float32_ref>, <tf.Variable '37-convolutional/gamma:0' shape=(512,) dtype=float32_ref>, <tf.Variable '37-convolutional/moving_mean:0' shape=(512,) dtype=float32_ref>, <tf.Variable '37-convolutional/moving_variance:0' shape=(512,) dtype=float32_ref>, <tf.Variable '39-convolutional/biases:0' shape=(1024,) dtype=float32_ref>, <tf.Variable '39-convolutional/kernel:0' shape=(3, 3, 512, 1024) dtype=float32_ref>, <tf.Variable '39-convolutional/gamma:0' shape=(1024,) dtype=float32_ref>, <tf.Variable '39-convolutional/moving_mean:0' shape=(1024,) dtype=float32_ref>, <tf.Variable '39-convolutional/moving_variance:0' shape=(1024,) dtype=float32_ref>, <tf.Variable '41-convolutional/biases:0' shape=(1024,) dtype=float32_ref>, <tf.Variable '41-convolutional/kernel:0' shape=(3, 3, 1024, 1024) dtype=float32_ref>, <tf.Variable '41-convolutional/gamma:0' shape=(1024,) dtype=float32_ref>, <tf.Variable '41-convolutional/moving_mean:0' shape=(1024,) dtype=float32_ref>, <tf.Variable '41-convolutional/moving_variance:0' shape=(1024,) dtype=float32_ref>, <tf.Variable '43-convolutional/biases:0' shape=(1024,) dtype=float32_ref>, <tf.Variable '43-convolutional/kernel:0' shape=(3, 3, 1024, 1024) dtype=float32_ref>, <tf.Variable '43-convolutional/gamma:0' shape=(1024,) dtype=float32_ref>, <tf.Variable '43-convolutional/moving_mean:0' shape=(1024,) dtype=float32_ref>, <tf.Variable '43-convolutional/moving_variance:0' shape=(1024,) dtype=float32_ref>, <tf.Variable '46-convolutional/biases:0' shape=(64,) dtype=float32_ref>, <tf.Variable '46-convolutional/kernel:0' shape=(1, 1, 512, 64) dtype=float32_ref>, <tf.Variable '46-convolutional/gamma:0' shape=(64,) dtype=float32_ref>, <tf.Variable '46-convolutional/moving_mean:0' shape=(64,) dtype=float32_ref>, <tf.Variable '46-convolutional/moving_variance:0' shape=(64,) dtype=float32_ref>, <tf.Variable '50-convolutional/biases:0' shape=(1024,) dtype=float32_ref>, <tf.Variable '50-convolutional/kernel:0' shape=(3, 3, 1280, 1024) dtype=float32_ref>, <tf.Variable '50-convolutional/gamma:0' shape=(1024,) dtype=float32_ref>, <tf.Variable '50-convolutional/moving_mean:0' shape=(1024,) dtype=float32_ref>, <tf.Variable '50-convolutional/moving_variance:0' shape=(1024,) dtype=float32_ref>, <tf.Variable '52-convolutional/biases:0' shape=(30,) dtype=float32_ref>, <tf.Variable '52-convolutional/kernel:0' shape=(1, 1, 1024, 30) dtype=float32_ref>]\n"
     ]
    },
    {
     "name": "stdout",
     "output_type": "stream",
     "text": [
      "Loading from D:\\data\\models\\tpe_retrained_all_obj\\full_data\\ckpt\\yolo-people-10600\n",
      "INFO:tensorflow:Restoring parameters from D:\\data\\models\\tpe_retrained_all_obj\\full_data\\ckpt\\yolo-people-10600\n",
      "Finished in 9.136255025863647s\n",
      "\n"
     ]
    }
   ],
   "source": [
    "detector = Detector(options)"
   ]
  },
  {
   "cell_type": "code",
   "execution_count": 20,
   "metadata": {
    "collapsed": true
   },
   "outputs": [],
   "source": [
    "##\tdef detect_and_save(self, tracker, encoder=None, save_mode='images', show_ids=True, verbose = True, video_file_path='', img_saving_path='',\n",
    "#\t\tembs_saving_path=None, emb_dump_size=1000, max_imgs_per_person=50, delay=1, show_video=False):"
   ]
  },
  {
   "cell_type": "code",
   "execution_count": 21,
   "metadata": {},
   "outputs": [],
   "source": [
    "from verificator.feature_extractor import *"
   ]
  },
  {
   "cell_type": "code",
   "execution_count": 22,
   "metadata": {
    "collapsed": true
   },
   "outputs": [],
   "source": [
    "encoder_model = 'C:\\\\my_cv_work\\\\verificator\\\\verificator\\\\deep_sort\\\\resources\\\\networks\\\\mars-small128.ckpt-68577'"
   ]
  },
  {
   "cell_type": "code",
   "execution_count": 23,
   "metadata": {},
   "outputs": [
    {
     "ename": "ValueError",
     "evalue": "Variable conv1_1/weights already exists, disallowed. Did you mean to set reuse=True in VarScope? Originally defined at:\n\n  File \"C:\\ProgramData\\Anaconda3\\lib\\site-packages\\tensorflow\\python\\framework\\ops.py\", line 1204, in __init__\n    self._traceback = self._graph._extract_stack()  # pylint: disable=protected-access\n  File \"C:\\ProgramData\\Anaconda3\\lib\\site-packages\\tensorflow\\python\\framework\\ops.py\", line 2630, in create_op\n    original_op=self._default_original_op, op_def=op_def)\n  File \"C:\\ProgramData\\Anaconda3\\lib\\site-packages\\tensorflow\\python\\framework\\op_def_library.py\", line 767, in apply_op\n    op_def=op_def)\n",
     "output_type": "error",
     "traceback": [
      "\u001b[1;31m---------------------------------------------------------------------------\u001b[0m",
      "\u001b[1;31mValueError\u001b[0m                                Traceback (most recent call last)",
      "\u001b[1;32m<ipython-input-23-6c2d2ffb62e9>\u001b[0m in \u001b[0;36m<module>\u001b[1;34m()\u001b[0m\n\u001b[1;32m----> 1\u001b[1;33m \u001b[0mencoder\u001b[0m \u001b[1;33m=\u001b[0m \u001b[0mDeepSortExtractor\u001b[0m\u001b[1;33m(\u001b[0m\u001b[0mencoder_model\u001b[0m\u001b[1;33m)\u001b[0m\u001b[1;33m\u001b[0m\u001b[0m\n\u001b[0m",
      "\u001b[1;32mC:\\my_cv_work\\verificator\\verificator\\feature_extractor.py\u001b[0m in \u001b[0;36m__init__\u001b[1;34m(self, model_path, batch_size, loss_mode)\u001b[0m\n\u001b[0;32m     10\u001b[0m                 \u001b[0mself\u001b[0m\u001b[1;33m.\u001b[0m\u001b[0mloss_mode\u001b[0m \u001b[1;33m=\u001b[0m \u001b[0mloss_mode\u001b[0m\u001b[1;33m\u001b[0m\u001b[0m\n\u001b[0;32m     11\u001b[0m \t\tself.encoder = create_box_encoder(\n\u001b[1;32m---> 12\u001b[1;33m \t\t\tself.model_path, batch_size=self.batch_size, loss_mode=self.loss_mode)\n\u001b[0m\u001b[0;32m     13\u001b[0m \u001b[1;33m\u001b[0m\u001b[0m\n\u001b[0;32m     14\u001b[0m         \u001b[1;32mdef\u001b[0m \u001b[0mencode\u001b[0m\u001b[1;33m(\u001b[0m\u001b[0mself\u001b[0m\u001b[1;33m,\u001b[0m \u001b[0mimg_ary\u001b[0m\u001b[1;33m)\u001b[0m\u001b[1;33m:\u001b[0m\u001b[1;33m\u001b[0m\u001b[0m\n",
      "\u001b[1;32mC:\\my_cv_work\\verificator\\verificator\\deep_sort\\generate_detections.py\u001b[0m in \u001b[0;36mcreate_box_encoder\u001b[1;34m(model_filename, batch_size, loss_mode)\u001b[0m\n\u001b[0;32m    350\u001b[0m \u001b[1;32mdef\u001b[0m \u001b[0mcreate_box_encoder\u001b[0m\u001b[1;33m(\u001b[0m\u001b[0mmodel_filename\u001b[0m\u001b[1;33m,\u001b[0m \u001b[0mbatch_size\u001b[0m\u001b[1;33m=\u001b[0m\u001b[1;36m32\u001b[0m\u001b[1;33m,\u001b[0m \u001b[0mloss_mode\u001b[0m\u001b[1;33m=\u001b[0m\u001b[1;34m\"cosine\"\u001b[0m\u001b[1;33m)\u001b[0m\u001b[1;33m:\u001b[0m\u001b[1;33m\u001b[0m\u001b[0m\n\u001b[0;32m    351\u001b[0m     \u001b[0mimage_shape\u001b[0m \u001b[1;33m=\u001b[0m \u001b[1;36m128\u001b[0m\u001b[1;33m,\u001b[0m \u001b[1;36m64\u001b[0m\u001b[1;33m,\u001b[0m \u001b[1;36m3\u001b[0m\u001b[1;33m\u001b[0m\u001b[0m\n\u001b[1;32m--> 352\u001b[1;33m     \u001b[0mimage_encoder\u001b[0m \u001b[1;33m=\u001b[0m \u001b[0mcreate_image_encoder\u001b[0m\u001b[1;33m(\u001b[0m\u001b[0mmodel_filename\u001b[0m\u001b[1;33m,\u001b[0m \u001b[0mbatch_size\u001b[0m\u001b[1;33m,\u001b[0m \u001b[0mloss_mode\u001b[0m\u001b[1;33m)\u001b[0m\u001b[1;33m\u001b[0m\u001b[0m\n\u001b[0m\u001b[0;32m    353\u001b[0m \u001b[1;33m\u001b[0m\u001b[0m\n\u001b[0;32m    354\u001b[0m     \u001b[1;32mdef\u001b[0m \u001b[0mencoder\u001b[0m\u001b[1;33m(\u001b[0m\u001b[0mimage\u001b[0m\u001b[1;33m,\u001b[0m \u001b[0mboxes\u001b[0m\u001b[1;33m)\u001b[0m\u001b[1;33m:\u001b[0m\u001b[1;33m\u001b[0m\u001b[0m\n",
      "\u001b[1;32mC:\\my_cv_work\\verificator\\verificator\\deep_sort\\generate_detections.py\u001b[0m in \u001b[0;36mcreate_image_encoder\u001b[1;34m(model_filename, batch_size, loss_mode, session)\u001b[0m\n\u001b[0;32m    345\u001b[0m     return _create_image_encoder(\n\u001b[0;32m    346\u001b[0m         \u001b[0m_preprocess\u001b[0m\u001b[1;33m,\u001b[0m \u001b[0mfactory_fn\u001b[0m\u001b[1;33m,\u001b[0m \u001b[0mimage_shape\u001b[0m\u001b[1;33m,\u001b[0m \u001b[0mbatch_size\u001b[0m\u001b[1;33m,\u001b[0m \u001b[0msession\u001b[0m\u001b[1;33m,\u001b[0m\u001b[1;33m\u001b[0m\u001b[0m\n\u001b[1;32m--> 347\u001b[1;33m         model_filename, loss_mode)\n\u001b[0m\u001b[0;32m    348\u001b[0m \u001b[1;33m\u001b[0m\u001b[0m\n\u001b[0;32m    349\u001b[0m \u001b[1;33m\u001b[0m\u001b[0m\n",
      "\u001b[1;32mC:\\my_cv_work\\verificator\\verificator\\deep_sort\\generate_detections.py\u001b[0m in \u001b[0;36m_create_image_encoder\u001b[1;34m(preprocess_fn, factory_fn, image_shape, batch_size, session, checkpoint_path, loss_mode)\u001b[0m\n\u001b[0;32m    312\u001b[0m     \u001b[0ml2_normalize\u001b[0m \u001b[1;33m=\u001b[0m \u001b[0mloss_mode\u001b[0m \u001b[1;33m==\u001b[0m \u001b[1;34m\"cosine\"\u001b[0m\u001b[1;33m\u001b[0m\u001b[0m\n\u001b[0;32m    313\u001b[0m     feature_var, _ = factory_fn(\n\u001b[1;32m--> 314\u001b[1;33m         preprocessed_image_var, l2_normalize=l2_normalize, reuse=None)\n\u001b[0m\u001b[0;32m    315\u001b[0m     \u001b[0mfeature_dim\u001b[0m \u001b[1;33m=\u001b[0m \u001b[0mfeature_var\u001b[0m\u001b[1;33m.\u001b[0m\u001b[0mget_shape\u001b[0m\u001b[1;33m(\u001b[0m\u001b[1;33m)\u001b[0m\u001b[1;33m.\u001b[0m\u001b[0mas_list\u001b[0m\u001b[1;33m(\u001b[0m\u001b[1;33m)\u001b[0m\u001b[1;33m[\u001b[0m\u001b[1;33m-\u001b[0m\u001b[1;36m1\u001b[0m\u001b[1;33m]\u001b[0m\u001b[1;33m\u001b[0m\u001b[0m\n\u001b[0;32m    316\u001b[0m \u001b[1;33m\u001b[0m\u001b[0m\n",
      "\u001b[1;32mC:\\my_cv_work\\verificator\\verificator\\deep_sort\\generate_detections.py\u001b[0m in \u001b[0;36mfactory_fn\u001b[1;34m(image, reuse, l2_normalize)\u001b[0m\n\u001b[0;32m    222\u001b[0m                         \u001b[0mimage\u001b[0m\u001b[1;33m,\u001b[0m \u001b[0mnum_classes\u001b[0m\u001b[1;33m,\u001b[0m \u001b[0ml2_normalize\u001b[0m\u001b[1;33m=\u001b[0m\u001b[0ml2_normalize\u001b[0m\u001b[1;33m,\u001b[0m\u001b[1;33m\u001b[0m\u001b[0m\n\u001b[0;32m    223\u001b[0m                         \u001b[0mreuse\u001b[0m\u001b[1;33m=\u001b[0m\u001b[0mreuse\u001b[0m\u001b[1;33m,\u001b[0m \u001b[0mcreate_summaries\u001b[0m\u001b[1;33m=\u001b[0m\u001b[0mis_training\u001b[0m\u001b[1;33m,\u001b[0m\u001b[1;33m\u001b[0m\u001b[0m\n\u001b[1;32m--> 224\u001b[1;33m                         weight_decay=weight_decay)\n\u001b[0m\u001b[0;32m    225\u001b[0m                     \u001b[1;32mreturn\u001b[0m \u001b[0mfeatures\u001b[0m\u001b[1;33m,\u001b[0m \u001b[0mlogits\u001b[0m\u001b[1;33m\u001b[0m\u001b[0m\n\u001b[0;32m    226\u001b[0m \u001b[1;33m\u001b[0m\u001b[0m\n",
      "\u001b[1;32mC:\\my_cv_work\\verificator\\verificator\\deep_sort\\generate_detections.py\u001b[0m in \u001b[0;36m_create_network\u001b[1;34m(incoming, num_classes, reuse, l2_normalize, create_summaries, weight_decay)\u001b[0m\n\u001b[0;32m    109\u001b[0m         \u001b[0mpadding\u001b[0m\u001b[1;33m=\u001b[0m\u001b[1;34m\"SAME\"\u001b[0m\u001b[1;33m,\u001b[0m \u001b[0mnormalizer_fn\u001b[0m\u001b[1;33m=\u001b[0m\u001b[0mbatch_norm_fn\u001b[0m\u001b[1;33m,\u001b[0m \u001b[0mscope\u001b[0m\u001b[1;33m=\u001b[0m\u001b[1;34m\"conv1_1\"\u001b[0m\u001b[1;33m,\u001b[0m\u001b[1;33m\u001b[0m\u001b[0m\n\u001b[0;32m    110\u001b[0m         \u001b[0mweights_initializer\u001b[0m\u001b[1;33m=\u001b[0m\u001b[0mconv_weight_init\u001b[0m\u001b[1;33m,\u001b[0m \u001b[0mbiases_initializer\u001b[0m\u001b[1;33m=\u001b[0m\u001b[0mconv_bias_init\u001b[0m\u001b[1;33m,\u001b[0m\u001b[1;33m\u001b[0m\u001b[0m\n\u001b[1;32m--> 111\u001b[1;33m         weights_regularizer=conv_regularizer)\n\u001b[0m\u001b[0;32m    112\u001b[0m     \u001b[1;32mif\u001b[0m \u001b[0mcreate_summaries\u001b[0m\u001b[1;33m:\u001b[0m\u001b[1;33m\u001b[0m\u001b[0m\n\u001b[0;32m    113\u001b[0m         \u001b[0mtf\u001b[0m\u001b[1;33m.\u001b[0m\u001b[0msummary\u001b[0m\u001b[1;33m.\u001b[0m\u001b[0mhistogram\u001b[0m\u001b[1;33m(\u001b[0m\u001b[0mnetwork\u001b[0m\u001b[1;33m.\u001b[0m\u001b[0mname\u001b[0m \u001b[1;33m+\u001b[0m \u001b[1;34m\"/activations\"\u001b[0m\u001b[1;33m,\u001b[0m \u001b[0mnetwork\u001b[0m\u001b[1;33m)\u001b[0m\u001b[1;33m\u001b[0m\u001b[0m\n",
      "\u001b[1;32mC:\\ProgramData\\Anaconda3\\lib\\site-packages\\tensorflow\\contrib\\framework\\python\\ops\\arg_scope.py\u001b[0m in \u001b[0;36mfunc_with_args\u001b[1;34m(*args, **kwargs)\u001b[0m\n\u001b[0;32m    179\u001b[0m       \u001b[0mcurrent_args\u001b[0m \u001b[1;33m=\u001b[0m \u001b[0mcurrent_scope\u001b[0m\u001b[1;33m[\u001b[0m\u001b[0mkey_func\u001b[0m\u001b[1;33m]\u001b[0m\u001b[1;33m.\u001b[0m\u001b[0mcopy\u001b[0m\u001b[1;33m(\u001b[0m\u001b[1;33m)\u001b[0m\u001b[1;33m\u001b[0m\u001b[0m\n\u001b[0;32m    180\u001b[0m       \u001b[0mcurrent_args\u001b[0m\u001b[1;33m.\u001b[0m\u001b[0mupdate\u001b[0m\u001b[1;33m(\u001b[0m\u001b[0mkwargs\u001b[0m\u001b[1;33m)\u001b[0m\u001b[1;33m\u001b[0m\u001b[0m\n\u001b[1;32m--> 181\u001b[1;33m     \u001b[1;32mreturn\u001b[0m \u001b[0mfunc\u001b[0m\u001b[1;33m(\u001b[0m\u001b[1;33m*\u001b[0m\u001b[0margs\u001b[0m\u001b[1;33m,\u001b[0m \u001b[1;33m**\u001b[0m\u001b[0mcurrent_args\u001b[0m\u001b[1;33m)\u001b[0m\u001b[1;33m\u001b[0m\u001b[0m\n\u001b[0m\u001b[0;32m    182\u001b[0m   \u001b[0m_add_op\u001b[0m\u001b[1;33m(\u001b[0m\u001b[0mfunc\u001b[0m\u001b[1;33m)\u001b[0m\u001b[1;33m\u001b[0m\u001b[0m\n\u001b[0;32m    183\u001b[0m   \u001b[0msetattr\u001b[0m\u001b[1;33m(\u001b[0m\u001b[0mfunc_with_args\u001b[0m\u001b[1;33m,\u001b[0m \u001b[1;34m'_key_op'\u001b[0m\u001b[1;33m,\u001b[0m \u001b[0m_key_op\u001b[0m\u001b[1;33m(\u001b[0m\u001b[0mfunc\u001b[0m\u001b[1;33m)\u001b[0m\u001b[1;33m)\u001b[0m\u001b[1;33m\u001b[0m\u001b[0m\n",
      "\u001b[1;32mC:\\ProgramData\\Anaconda3\\lib\\site-packages\\tensorflow\\contrib\\layers\\python\\layers\\layers.py\u001b[0m in \u001b[0;36mconvolution\u001b[1;34m(inputs, num_outputs, kernel_size, stride, padding, data_format, rate, activation_fn, normalizer_fn, normalizer_params, weights_initializer, weights_regularizer, biases_initializer, biases_regularizer, reuse, variables_collections, outputs_collections, trainable, scope)\u001b[0m\n\u001b[0;32m   1025\u001b[0m                         \u001b[0m_scope\u001b[0m\u001b[1;33m=\u001b[0m\u001b[0msc\u001b[0m\u001b[1;33m,\u001b[0m\u001b[1;33m\u001b[0m\u001b[0m\n\u001b[0;32m   1026\u001b[0m                         _reuse=reuse)\n\u001b[1;32m-> 1027\u001b[1;33m     \u001b[0moutputs\u001b[0m \u001b[1;33m=\u001b[0m \u001b[0mlayer\u001b[0m\u001b[1;33m.\u001b[0m\u001b[0mapply\u001b[0m\u001b[1;33m(\u001b[0m\u001b[0minputs\u001b[0m\u001b[1;33m)\u001b[0m\u001b[1;33m\u001b[0m\u001b[0m\n\u001b[0m\u001b[0;32m   1028\u001b[0m \u001b[1;33m\u001b[0m\u001b[0m\n\u001b[0;32m   1029\u001b[0m     \u001b[1;31m# Add variables to collections.\u001b[0m\u001b[1;33m\u001b[0m\u001b[1;33m\u001b[0m\u001b[0m\n",
      "\u001b[1;32mC:\\ProgramData\\Anaconda3\\lib\\site-packages\\tensorflow\\python\\layers\\base.py\u001b[0m in \u001b[0;36mapply\u001b[1;34m(self, inputs, *args, **kwargs)\u001b[0m\n\u001b[0;32m    501\u001b[0m       \u001b[0mOutput\u001b[0m \u001b[0mtensor\u001b[0m\u001b[1;33m(\u001b[0m\u001b[0ms\u001b[0m\u001b[1;33m)\u001b[0m\u001b[1;33m.\u001b[0m\u001b[1;33m\u001b[0m\u001b[0m\n\u001b[0;32m    502\u001b[0m     \"\"\"\n\u001b[1;32m--> 503\u001b[1;33m     \u001b[1;32mreturn\u001b[0m \u001b[0mself\u001b[0m\u001b[1;33m.\u001b[0m\u001b[0m__call__\u001b[0m\u001b[1;33m(\u001b[0m\u001b[0minputs\u001b[0m\u001b[1;33m,\u001b[0m \u001b[1;33m*\u001b[0m\u001b[0margs\u001b[0m\u001b[1;33m,\u001b[0m \u001b[1;33m**\u001b[0m\u001b[0mkwargs\u001b[0m\u001b[1;33m)\u001b[0m\u001b[1;33m\u001b[0m\u001b[0m\n\u001b[0m\u001b[0;32m    504\u001b[0m \u001b[1;33m\u001b[0m\u001b[0m\n\u001b[0;32m    505\u001b[0m   \u001b[1;32mdef\u001b[0m \u001b[0m_assert_input_compatibility\u001b[0m\u001b[1;33m(\u001b[0m\u001b[0mself\u001b[0m\u001b[1;33m,\u001b[0m \u001b[0minputs\u001b[0m\u001b[1;33m)\u001b[0m\u001b[1;33m:\u001b[0m\u001b[1;33m\u001b[0m\u001b[0m\n",
      "\u001b[1;32mC:\\ProgramData\\Anaconda3\\lib\\site-packages\\tensorflow\\python\\layers\\base.py\u001b[0m in \u001b[0;36m__call__\u001b[1;34m(self, inputs, *args, **kwargs)\u001b[0m\n\u001b[0;32m    441\u001b[0m           \u001b[0minput_shapes\u001b[0m \u001b[1;33m=\u001b[0m \u001b[1;33m[\u001b[0m\u001b[0mx\u001b[0m\u001b[1;33m.\u001b[0m\u001b[0mget_shape\u001b[0m\u001b[1;33m(\u001b[0m\u001b[1;33m)\u001b[0m \u001b[1;32mfor\u001b[0m \u001b[0mx\u001b[0m \u001b[1;32min\u001b[0m \u001b[0minput_list\u001b[0m\u001b[1;33m]\u001b[0m\u001b[1;33m\u001b[0m\u001b[0m\n\u001b[0;32m    442\u001b[0m           \u001b[1;32mif\u001b[0m \u001b[0mlen\u001b[0m\u001b[1;33m(\u001b[0m\u001b[0minput_shapes\u001b[0m\u001b[1;33m)\u001b[0m \u001b[1;33m==\u001b[0m \u001b[1;36m1\u001b[0m\u001b[1;33m:\u001b[0m\u001b[1;33m\u001b[0m\u001b[0m\n\u001b[1;32m--> 443\u001b[1;33m             \u001b[0mself\u001b[0m\u001b[1;33m.\u001b[0m\u001b[0mbuild\u001b[0m\u001b[1;33m(\u001b[0m\u001b[0minput_shapes\u001b[0m\u001b[1;33m[\u001b[0m\u001b[1;36m0\u001b[0m\u001b[1;33m]\u001b[0m\u001b[1;33m)\u001b[0m\u001b[1;33m\u001b[0m\u001b[0m\n\u001b[0m\u001b[0;32m    444\u001b[0m           \u001b[1;32melse\u001b[0m\u001b[1;33m:\u001b[0m\u001b[1;33m\u001b[0m\u001b[0m\n\u001b[0;32m    445\u001b[0m             \u001b[0mself\u001b[0m\u001b[1;33m.\u001b[0m\u001b[0mbuild\u001b[0m\u001b[1;33m(\u001b[0m\u001b[0minput_shapes\u001b[0m\u001b[1;33m)\u001b[0m\u001b[1;33m\u001b[0m\u001b[0m\n",
      "\u001b[1;32mC:\\ProgramData\\Anaconda3\\lib\\site-packages\\tensorflow\\python\\layers\\convolutional.py\u001b[0m in \u001b[0;36mbuild\u001b[1;34m(self, input_shape)\u001b[0m\n\u001b[0;32m    135\u001b[0m                                     \u001b[0mregularizer\u001b[0m\u001b[1;33m=\u001b[0m\u001b[0mself\u001b[0m\u001b[1;33m.\u001b[0m\u001b[0mkernel_regularizer\u001b[0m\u001b[1;33m,\u001b[0m\u001b[1;33m\u001b[0m\u001b[0m\n\u001b[0;32m    136\u001b[0m                                     \u001b[0mtrainable\u001b[0m\u001b[1;33m=\u001b[0m\u001b[1;32mTrue\u001b[0m\u001b[1;33m,\u001b[0m\u001b[1;33m\u001b[0m\u001b[0m\n\u001b[1;32m--> 137\u001b[1;33m                                     dtype=self.dtype)\n\u001b[0m\u001b[0;32m    138\u001b[0m     \u001b[1;32mif\u001b[0m \u001b[0mself\u001b[0m\u001b[1;33m.\u001b[0m\u001b[0muse_bias\u001b[0m\u001b[1;33m:\u001b[0m\u001b[1;33m\u001b[0m\u001b[0m\n\u001b[0;32m    139\u001b[0m       self.bias = self.add_variable(name='bias',\n",
      "\u001b[1;32mC:\\ProgramData\\Anaconda3\\lib\\site-packages\\tensorflow\\python\\layers\\base.py\u001b[0m in \u001b[0;36madd_variable\u001b[1;34m(self, name, shape, dtype, initializer, regularizer, trainable)\u001b[0m\n\u001b[0;32m    381\u001b[0m                                    \u001b[0minitializer\u001b[0m\u001b[1;33m=\u001b[0m\u001b[0minitializer\u001b[0m\u001b[1;33m,\u001b[0m\u001b[1;33m\u001b[0m\u001b[0m\n\u001b[0;32m    382\u001b[0m                                    \u001b[0mdtype\u001b[0m\u001b[1;33m=\u001b[0m\u001b[0mdtypes\u001b[0m\u001b[1;33m.\u001b[0m\u001b[0mas_dtype\u001b[0m\u001b[1;33m(\u001b[0m\u001b[0mdtype\u001b[0m\u001b[1;33m)\u001b[0m\u001b[1;33m,\u001b[0m\u001b[1;33m\u001b[0m\u001b[0m\n\u001b[1;32m--> 383\u001b[1;33m                                    trainable=trainable and self.trainable)\n\u001b[0m\u001b[0;32m    384\u001b[0m         \u001b[1;32mif\u001b[0m \u001b[0mvariable\u001b[0m \u001b[1;32min\u001b[0m \u001b[0mexisting_variables\u001b[0m\u001b[1;33m:\u001b[0m\u001b[1;33m\u001b[0m\u001b[0m\n\u001b[0;32m    385\u001b[0m           \u001b[1;32mreturn\u001b[0m \u001b[0mvariable\u001b[0m\u001b[1;33m\u001b[0m\u001b[0m\n",
      "\u001b[1;32mC:\\ProgramData\\Anaconda3\\lib\\site-packages\\tensorflow\\python\\ops\\variable_scope.py\u001b[0m in \u001b[0;36mget_variable\u001b[1;34m(name, shape, dtype, initializer, regularizer, trainable, collections, caching_device, partitioner, validate_shape, use_resource, custom_getter)\u001b[0m\n\u001b[0;32m   1063\u001b[0m       \u001b[0mcollections\u001b[0m\u001b[1;33m=\u001b[0m\u001b[0mcollections\u001b[0m\u001b[1;33m,\u001b[0m \u001b[0mcaching_device\u001b[0m\u001b[1;33m=\u001b[0m\u001b[0mcaching_device\u001b[0m\u001b[1;33m,\u001b[0m\u001b[1;33m\u001b[0m\u001b[0m\n\u001b[0;32m   1064\u001b[0m       \u001b[0mpartitioner\u001b[0m\u001b[1;33m=\u001b[0m\u001b[0mpartitioner\u001b[0m\u001b[1;33m,\u001b[0m \u001b[0mvalidate_shape\u001b[0m\u001b[1;33m=\u001b[0m\u001b[0mvalidate_shape\u001b[0m\u001b[1;33m,\u001b[0m\u001b[1;33m\u001b[0m\u001b[0m\n\u001b[1;32m-> 1065\u001b[1;33m       use_resource=use_resource, custom_getter=custom_getter)\n\u001b[0m\u001b[0;32m   1066\u001b[0m get_variable_or_local_docstring = (\n\u001b[0;32m   1067\u001b[0m     \"\"\"%s\n",
      "\u001b[1;32mC:\\ProgramData\\Anaconda3\\lib\\site-packages\\tensorflow\\python\\ops\\variable_scope.py\u001b[0m in \u001b[0;36mget_variable\u001b[1;34m(self, var_store, name, shape, dtype, initializer, regularizer, reuse, trainable, collections, caching_device, partitioner, validate_shape, use_resource, custom_getter)\u001b[0m\n\u001b[0;32m    960\u001b[0m           \u001b[0mcollections\u001b[0m\u001b[1;33m=\u001b[0m\u001b[0mcollections\u001b[0m\u001b[1;33m,\u001b[0m \u001b[0mcaching_device\u001b[0m\u001b[1;33m=\u001b[0m\u001b[0mcaching_device\u001b[0m\u001b[1;33m,\u001b[0m\u001b[1;33m\u001b[0m\u001b[0m\n\u001b[0;32m    961\u001b[0m           \u001b[0mpartitioner\u001b[0m\u001b[1;33m=\u001b[0m\u001b[0mpartitioner\u001b[0m\u001b[1;33m,\u001b[0m \u001b[0mvalidate_shape\u001b[0m\u001b[1;33m=\u001b[0m\u001b[0mvalidate_shape\u001b[0m\u001b[1;33m,\u001b[0m\u001b[1;33m\u001b[0m\u001b[0m\n\u001b[1;32m--> 962\u001b[1;33m           use_resource=use_resource, custom_getter=custom_getter)\n\u001b[0m\u001b[0;32m    963\u001b[0m \u001b[1;33m\u001b[0m\u001b[0m\n\u001b[0;32m    964\u001b[0m   def _get_partitioned_variable(self,\n",
      "\u001b[1;32mC:\\ProgramData\\Anaconda3\\lib\\site-packages\\tensorflow\\python\\ops\\variable_scope.py\u001b[0m in \u001b[0;36mget_variable\u001b[1;34m(self, name, shape, dtype, initializer, regularizer, reuse, trainable, collections, caching_device, partitioner, validate_shape, use_resource, custom_getter)\u001b[0m\n\u001b[0;32m    358\u001b[0m           \u001b[0mreuse\u001b[0m\u001b[1;33m=\u001b[0m\u001b[0mreuse\u001b[0m\u001b[1;33m,\u001b[0m \u001b[0mtrainable\u001b[0m\u001b[1;33m=\u001b[0m\u001b[0mtrainable\u001b[0m\u001b[1;33m,\u001b[0m \u001b[0mcollections\u001b[0m\u001b[1;33m=\u001b[0m\u001b[0mcollections\u001b[0m\u001b[1;33m,\u001b[0m\u001b[1;33m\u001b[0m\u001b[0m\n\u001b[0;32m    359\u001b[0m           \u001b[0mcaching_device\u001b[0m\u001b[1;33m=\u001b[0m\u001b[0mcaching_device\u001b[0m\u001b[1;33m,\u001b[0m \u001b[0mpartitioner\u001b[0m\u001b[1;33m=\u001b[0m\u001b[0mpartitioner\u001b[0m\u001b[1;33m,\u001b[0m\u001b[1;33m\u001b[0m\u001b[0m\n\u001b[1;32m--> 360\u001b[1;33m           validate_shape=validate_shape, use_resource=use_resource)\n\u001b[0m\u001b[0;32m    361\u001b[0m     \u001b[1;32melse\u001b[0m\u001b[1;33m:\u001b[0m\u001b[1;33m\u001b[0m\u001b[0m\n\u001b[0;32m    362\u001b[0m       return _true_getter(\n",
      "\u001b[1;32mC:\\ProgramData\\Anaconda3\\lib\\site-packages\\tensorflow\\contrib\\layers\\python\\layers\\layers.py\u001b[0m in \u001b[0;36mlayer_variable_getter\u001b[1;34m(getter, *args, **kwargs)\u001b[0m\n\u001b[0;32m   1559\u001b[0m   \u001b[1;32mdef\u001b[0m \u001b[0mlayer_variable_getter\u001b[0m\u001b[1;33m(\u001b[0m\u001b[0mgetter\u001b[0m\u001b[1;33m,\u001b[0m \u001b[1;33m*\u001b[0m\u001b[0margs\u001b[0m\u001b[1;33m,\u001b[0m \u001b[1;33m**\u001b[0m\u001b[0mkwargs\u001b[0m\u001b[1;33m)\u001b[0m\u001b[1;33m:\u001b[0m\u001b[1;33m\u001b[0m\u001b[0m\n\u001b[0;32m   1560\u001b[0m     \u001b[0mkwargs\u001b[0m\u001b[1;33m[\u001b[0m\u001b[1;34m'rename'\u001b[0m\u001b[1;33m]\u001b[0m \u001b[1;33m=\u001b[0m \u001b[0mrename\u001b[0m\u001b[1;33m\u001b[0m\u001b[0m\n\u001b[1;32m-> 1561\u001b[1;33m     \u001b[1;32mreturn\u001b[0m \u001b[0m_model_variable_getter\u001b[0m\u001b[1;33m(\u001b[0m\u001b[0mgetter\u001b[0m\u001b[1;33m,\u001b[0m \u001b[1;33m*\u001b[0m\u001b[0margs\u001b[0m\u001b[1;33m,\u001b[0m \u001b[1;33m**\u001b[0m\u001b[0mkwargs\u001b[0m\u001b[1;33m)\u001b[0m\u001b[1;33m\u001b[0m\u001b[0m\n\u001b[0m\u001b[0;32m   1562\u001b[0m   \u001b[1;32mreturn\u001b[0m \u001b[0mlayer_variable_getter\u001b[0m\u001b[1;33m\u001b[0m\u001b[0m\n\u001b[0;32m   1563\u001b[0m \u001b[1;33m\u001b[0m\u001b[0m\n",
      "\u001b[1;32mC:\\ProgramData\\Anaconda3\\lib\\site-packages\\tensorflow\\contrib\\layers\\python\\layers\\layers.py\u001b[0m in \u001b[0;36m_model_variable_getter\u001b[1;34m(getter, name, shape, dtype, initializer, regularizer, trainable, collections, caching_device, partitioner, rename, use_resource, **_)\u001b[0m\n\u001b[0;32m   1551\u001b[0m       \u001b[0mregularizer\u001b[0m\u001b[1;33m=\u001b[0m\u001b[0mregularizer\u001b[0m\u001b[1;33m,\u001b[0m \u001b[0mcollections\u001b[0m\u001b[1;33m=\u001b[0m\u001b[0mcollections\u001b[0m\u001b[1;33m,\u001b[0m \u001b[0mtrainable\u001b[0m\u001b[1;33m=\u001b[0m\u001b[0mtrainable\u001b[0m\u001b[1;33m,\u001b[0m\u001b[1;33m\u001b[0m\u001b[0m\n\u001b[0;32m   1552\u001b[0m       \u001b[0mcaching_device\u001b[0m\u001b[1;33m=\u001b[0m\u001b[0mcaching_device\u001b[0m\u001b[1;33m,\u001b[0m \u001b[0mpartitioner\u001b[0m\u001b[1;33m=\u001b[0m\u001b[0mpartitioner\u001b[0m\u001b[1;33m,\u001b[0m\u001b[1;33m\u001b[0m\u001b[0m\n\u001b[1;32m-> 1553\u001b[1;33m       custom_getter=getter, use_resource=use_resource)\n\u001b[0m\u001b[0;32m   1554\u001b[0m \u001b[1;33m\u001b[0m\u001b[0m\n\u001b[0;32m   1555\u001b[0m \u001b[1;33m\u001b[0m\u001b[0m\n",
      "\u001b[1;32mC:\\ProgramData\\Anaconda3\\lib\\site-packages\\tensorflow\\contrib\\framework\\python\\ops\\arg_scope.py\u001b[0m in \u001b[0;36mfunc_with_args\u001b[1;34m(*args, **kwargs)\u001b[0m\n\u001b[0;32m    179\u001b[0m       \u001b[0mcurrent_args\u001b[0m \u001b[1;33m=\u001b[0m \u001b[0mcurrent_scope\u001b[0m\u001b[1;33m[\u001b[0m\u001b[0mkey_func\u001b[0m\u001b[1;33m]\u001b[0m\u001b[1;33m.\u001b[0m\u001b[0mcopy\u001b[0m\u001b[1;33m(\u001b[0m\u001b[1;33m)\u001b[0m\u001b[1;33m\u001b[0m\u001b[0m\n\u001b[0;32m    180\u001b[0m       \u001b[0mcurrent_args\u001b[0m\u001b[1;33m.\u001b[0m\u001b[0mupdate\u001b[0m\u001b[1;33m(\u001b[0m\u001b[0mkwargs\u001b[0m\u001b[1;33m)\u001b[0m\u001b[1;33m\u001b[0m\u001b[0m\n\u001b[1;32m--> 181\u001b[1;33m     \u001b[1;32mreturn\u001b[0m \u001b[0mfunc\u001b[0m\u001b[1;33m(\u001b[0m\u001b[1;33m*\u001b[0m\u001b[0margs\u001b[0m\u001b[1;33m,\u001b[0m \u001b[1;33m**\u001b[0m\u001b[0mcurrent_args\u001b[0m\u001b[1;33m)\u001b[0m\u001b[1;33m\u001b[0m\u001b[0m\n\u001b[0m\u001b[0;32m    182\u001b[0m   \u001b[0m_add_op\u001b[0m\u001b[1;33m(\u001b[0m\u001b[0mfunc\u001b[0m\u001b[1;33m)\u001b[0m\u001b[1;33m\u001b[0m\u001b[0m\n\u001b[0;32m    183\u001b[0m   \u001b[0msetattr\u001b[0m\u001b[1;33m(\u001b[0m\u001b[0mfunc_with_args\u001b[0m\u001b[1;33m,\u001b[0m \u001b[1;34m'_key_op'\u001b[0m\u001b[1;33m,\u001b[0m \u001b[0m_key_op\u001b[0m\u001b[1;33m(\u001b[0m\u001b[0mfunc\u001b[0m\u001b[1;33m)\u001b[0m\u001b[1;33m)\u001b[0m\u001b[1;33m\u001b[0m\u001b[0m\n",
      "\u001b[1;32mC:\\ProgramData\\Anaconda3\\lib\\site-packages\\tensorflow\\contrib\\framework\\python\\ops\\variables.py\u001b[0m in \u001b[0;36mmodel_variable\u001b[1;34m(name, shape, dtype, initializer, regularizer, trainable, collections, caching_device, device, partitioner, custom_getter, use_resource)\u001b[0m\n\u001b[0;32m    259\u001b[0m                  \u001b[0mcaching_device\u001b[0m\u001b[1;33m=\u001b[0m\u001b[0mcaching_device\u001b[0m\u001b[1;33m,\u001b[0m \u001b[0mdevice\u001b[0m\u001b[1;33m=\u001b[0m\u001b[0mdevice\u001b[0m\u001b[1;33m,\u001b[0m\u001b[1;33m\u001b[0m\u001b[0m\n\u001b[0;32m    260\u001b[0m                  \u001b[0mpartitioner\u001b[0m\u001b[1;33m=\u001b[0m\u001b[0mpartitioner\u001b[0m\u001b[1;33m,\u001b[0m \u001b[0mcustom_getter\u001b[0m\u001b[1;33m=\u001b[0m\u001b[0mcustom_getter\u001b[0m\u001b[1;33m,\u001b[0m\u001b[1;33m\u001b[0m\u001b[0m\n\u001b[1;32m--> 261\u001b[1;33m                  use_resource=use_resource)\n\u001b[0m\u001b[0;32m    262\u001b[0m   \u001b[1;32mreturn\u001b[0m \u001b[0mvar\u001b[0m\u001b[1;33m\u001b[0m\u001b[0m\n\u001b[0;32m    263\u001b[0m \u001b[1;33m\u001b[0m\u001b[0m\n",
      "\u001b[1;32mC:\\ProgramData\\Anaconda3\\lib\\site-packages\\tensorflow\\contrib\\framework\\python\\ops\\arg_scope.py\u001b[0m in \u001b[0;36mfunc_with_args\u001b[1;34m(*args, **kwargs)\u001b[0m\n\u001b[0;32m    179\u001b[0m       \u001b[0mcurrent_args\u001b[0m \u001b[1;33m=\u001b[0m \u001b[0mcurrent_scope\u001b[0m\u001b[1;33m[\u001b[0m\u001b[0mkey_func\u001b[0m\u001b[1;33m]\u001b[0m\u001b[1;33m.\u001b[0m\u001b[0mcopy\u001b[0m\u001b[1;33m(\u001b[0m\u001b[1;33m)\u001b[0m\u001b[1;33m\u001b[0m\u001b[0m\n\u001b[0;32m    180\u001b[0m       \u001b[0mcurrent_args\u001b[0m\u001b[1;33m.\u001b[0m\u001b[0mupdate\u001b[0m\u001b[1;33m(\u001b[0m\u001b[0mkwargs\u001b[0m\u001b[1;33m)\u001b[0m\u001b[1;33m\u001b[0m\u001b[0m\n\u001b[1;32m--> 181\u001b[1;33m     \u001b[1;32mreturn\u001b[0m \u001b[0mfunc\u001b[0m\u001b[1;33m(\u001b[0m\u001b[1;33m*\u001b[0m\u001b[0margs\u001b[0m\u001b[1;33m,\u001b[0m \u001b[1;33m**\u001b[0m\u001b[0mcurrent_args\u001b[0m\u001b[1;33m)\u001b[0m\u001b[1;33m\u001b[0m\u001b[0m\n\u001b[0m\u001b[0;32m    182\u001b[0m   \u001b[0m_add_op\u001b[0m\u001b[1;33m(\u001b[0m\u001b[0mfunc\u001b[0m\u001b[1;33m)\u001b[0m\u001b[1;33m\u001b[0m\u001b[0m\n\u001b[0;32m    183\u001b[0m   \u001b[0msetattr\u001b[0m\u001b[1;33m(\u001b[0m\u001b[0mfunc_with_args\u001b[0m\u001b[1;33m,\u001b[0m \u001b[1;34m'_key_op'\u001b[0m\u001b[1;33m,\u001b[0m \u001b[0m_key_op\u001b[0m\u001b[1;33m(\u001b[0m\u001b[0mfunc\u001b[0m\u001b[1;33m)\u001b[0m\u001b[1;33m)\u001b[0m\u001b[1;33m\u001b[0m\u001b[0m\n",
      "\u001b[1;32mC:\\ProgramData\\Anaconda3\\lib\\site-packages\\tensorflow\\contrib\\framework\\python\\ops\\variables.py\u001b[0m in \u001b[0;36mvariable\u001b[1;34m(name, shape, dtype, initializer, regularizer, trainable, collections, caching_device, device, partitioner, custom_getter, use_resource)\u001b[0m\n\u001b[0;32m    214\u001b[0m                   \u001b[0mcaching_device\u001b[0m\u001b[1;33m=\u001b[0m\u001b[0mcaching_device\u001b[0m\u001b[1;33m,\u001b[0m\u001b[1;33m\u001b[0m\u001b[0m\n\u001b[0;32m    215\u001b[0m                   \u001b[0mpartitioner\u001b[0m\u001b[1;33m=\u001b[0m\u001b[0mpartitioner\u001b[0m\u001b[1;33m,\u001b[0m\u001b[1;33m\u001b[0m\u001b[0m\n\u001b[1;32m--> 216\u001b[1;33m                   use_resource=use_resource)\n\u001b[0m\u001b[0;32m    217\u001b[0m \u001b[1;33m\u001b[0m\u001b[0m\n\u001b[0;32m    218\u001b[0m \u001b[1;33m\u001b[0m\u001b[0m\n",
      "\u001b[1;32mC:\\ProgramData\\Anaconda3\\lib\\site-packages\\tensorflow\\python\\ops\\variable_scope.py\u001b[0m in \u001b[0;36m_true_getter\u001b[1;34m(name, shape, dtype, initializer, regularizer, reuse, trainable, collections, caching_device, partitioner, validate_shape, use_resource)\u001b[0m\n\u001b[0;32m    350\u001b[0m           \u001b[0mtrainable\u001b[0m\u001b[1;33m=\u001b[0m\u001b[0mtrainable\u001b[0m\u001b[1;33m,\u001b[0m \u001b[0mcollections\u001b[0m\u001b[1;33m=\u001b[0m\u001b[0mcollections\u001b[0m\u001b[1;33m,\u001b[0m\u001b[1;33m\u001b[0m\u001b[0m\n\u001b[0;32m    351\u001b[0m           \u001b[0mcaching_device\u001b[0m\u001b[1;33m=\u001b[0m\u001b[0mcaching_device\u001b[0m\u001b[1;33m,\u001b[0m \u001b[0mvalidate_shape\u001b[0m\u001b[1;33m=\u001b[0m\u001b[0mvalidate_shape\u001b[0m\u001b[1;33m,\u001b[0m\u001b[1;33m\u001b[0m\u001b[0m\n\u001b[1;32m--> 352\u001b[1;33m           use_resource=use_resource)\n\u001b[0m\u001b[0;32m    353\u001b[0m \u001b[1;33m\u001b[0m\u001b[0m\n\u001b[0;32m    354\u001b[0m     \u001b[1;32mif\u001b[0m \u001b[0mcustom_getter\u001b[0m \u001b[1;32mis\u001b[0m \u001b[1;32mnot\u001b[0m \u001b[1;32mNone\u001b[0m\u001b[1;33m:\u001b[0m\u001b[1;33m\u001b[0m\u001b[0m\n",
      "\u001b[1;32mC:\\ProgramData\\Anaconda3\\lib\\site-packages\\tensorflow\\python\\ops\\variable_scope.py\u001b[0m in \u001b[0;36m_get_single_variable\u001b[1;34m(self, name, shape, dtype, initializer, regularizer, partition_info, reuse, trainable, collections, caching_device, validate_shape, use_resource)\u001b[0m\n\u001b[0;32m    662\u001b[0m                          \u001b[1;34m\" Did you mean to set reuse=True in VarScope? \"\u001b[0m\u001b[1;33m\u001b[0m\u001b[0m\n\u001b[0;32m    663\u001b[0m                          \"Originally defined at:\\n\\n%s\" % (\n\u001b[1;32m--> 664\u001b[1;33m                              name, \"\".join(traceback.format_list(tb))))\n\u001b[0m\u001b[0;32m    665\u001b[0m       \u001b[0mfound_var\u001b[0m \u001b[1;33m=\u001b[0m \u001b[0mself\u001b[0m\u001b[1;33m.\u001b[0m\u001b[0m_vars\u001b[0m\u001b[1;33m[\u001b[0m\u001b[0mname\u001b[0m\u001b[1;33m]\u001b[0m\u001b[1;33m\u001b[0m\u001b[0m\n\u001b[0;32m    666\u001b[0m       \u001b[1;32mif\u001b[0m \u001b[1;32mnot\u001b[0m \u001b[0mshape\u001b[0m\u001b[1;33m.\u001b[0m\u001b[0mis_compatible_with\u001b[0m\u001b[1;33m(\u001b[0m\u001b[0mfound_var\u001b[0m\u001b[1;33m.\u001b[0m\u001b[0mget_shape\u001b[0m\u001b[1;33m(\u001b[0m\u001b[1;33m)\u001b[0m\u001b[1;33m)\u001b[0m\u001b[1;33m:\u001b[0m\u001b[1;33m\u001b[0m\u001b[0m\n",
      "\u001b[1;31mValueError\u001b[0m: Variable conv1_1/weights already exists, disallowed. Did you mean to set reuse=True in VarScope? Originally defined at:\n\n  File \"C:\\ProgramData\\Anaconda3\\lib\\site-packages\\tensorflow\\python\\framework\\ops.py\", line 1204, in __init__\n    self._traceback = self._graph._extract_stack()  # pylint: disable=protected-access\n  File \"C:\\ProgramData\\Anaconda3\\lib\\site-packages\\tensorflow\\python\\framework\\ops.py\", line 2630, in create_op\n    original_op=self._default_original_op, op_def=op_def)\n  File \"C:\\ProgramData\\Anaconda3\\lib\\site-packages\\tensorflow\\python\\framework\\op_def_library.py\", line 767, in apply_op\n    op_def=op_def)\n"
     ]
    }
   ],
   "source": [
    "encoder = DeepSortExtractor(encoder_model)"
   ]
  },
  {
   "cell_type": "code",
   "execution_count": 24,
   "metadata": {
    "collapsed": true
   },
   "outputs": [],
   "source": [
    "video_path = 'D:\\\\data\\\\short\\\\cam_2'\n",
    "img_saving_path = 'D:\\\\debug\\\\images'\n",
    "embs_saving_path = 'D:\\\\debug\\\\npy'"
   ]
  },
  {
   "cell_type": "code",
   "execution_count": 25,
   "metadata": {
    "collapsed": true
   },
   "outputs": [],
   "source": [
    "from sort.sort import *"
   ]
  },
  {
   "cell_type": "code",
   "execution_count": 26,
   "metadata": {
    "collapsed": true
   },
   "outputs": [],
   "source": [
    "tracker = Sort()"
   ]
  },
  {
   "cell_type": "code",
   "execution_count": 27,
   "metadata": {},
   "outputs": [
    {
     "name": "stdout",
     "output_type": "stream",
     "text": [
      "processing file: 170814_170101.avi\n",
      "processing file: 170814_170201.avi\n",
      "processing file: 170814_170301.avi\n",
      "processing file: 170814_170401.avi\n",
      "processing file: 170814_170501.avi\n",
      "processing file: 170814_170601.avi\n",
      "processing file: 170814_170701.avi\n",
      "processing file: 170814_170801.avi\n",
      "processing file: 170814_170901.avi\n",
      "processing file: 170814_171001.avi\n",
      "processing file: 170814_171101.avi\n",
      "processing file: 170814_171201.avi\n",
      "processing file: 170814_171301.avi\n",
      "processing file: 170814_171401.avi\n",
      "processing file: 170814_171501.avi\n",
      "processing file: 170814_171601.avi\n",
      "processing file: 170814_171701.avi\n",
      "processing file: 170814_171801.avi\n",
      "processing file: 170814_171901.avi\n"
     ]
    },
    {
     "ename": "KeyboardInterrupt",
     "evalue": "",
     "output_type": "error",
     "traceback": [
      "\u001b[1;31m---------------------------------------------------------------------------\u001b[0m",
      "\u001b[1;31mKeyboardInterrupt\u001b[0m                         Traceback (most recent call last)",
      "\u001b[1;32m<ipython-input-27-1c627cd9f21d>\u001b[0m in \u001b[0;36m<module>\u001b[1;34m()\u001b[0m\n\u001b[0;32m      1\u001b[0m detector.detect_and_save(tracker, encoder=encoder, save_mode = 'all', video_file_path=video_path, img_saving_path=img_saving_path,\n\u001b[1;32m----> 2\u001b[1;33m                         embs_saving_path=embs_saving_path, show_video=True)\n\u001b[0m",
      "\u001b[1;32mC:\\my_cv_work\\verificator\\verificator\\detector.py\u001b[0m in \u001b[0;36mdetect_and_save\u001b[1;34m(self, tracker, encoder, save_mode, show_ids, verbose, video_file_path, img_saving_path, embs_saving_path, emb_dump_size, max_imgs_per_person, delay, show_video)\u001b[0m\n\u001b[0;32m     40\u001b[0m \u001b[1;33m\u001b[0m\u001b[0m\n\u001b[0;32m     41\u001b[0m                                 \u001b[0mimg\u001b[0m \u001b[1;33m=\u001b[0m \u001b[0mcv2\u001b[0m\u001b[1;33m.\u001b[0m\u001b[0mcvtColor\u001b[0m\u001b[1;33m(\u001b[0m\u001b[0mimg_bgr\u001b[0m\u001b[1;33m,\u001b[0m \u001b[0mcv2\u001b[0m\u001b[1;33m.\u001b[0m\u001b[0mCOLOR_BGR2RGB\u001b[0m\u001b[1;33m)\u001b[0m\u001b[1;33m\u001b[0m\u001b[0m\n\u001b[1;32m---> 42\u001b[1;33m                                 \u001b[0mpred_dict\u001b[0m \u001b[1;33m=\u001b[0m \u001b[0mself\u001b[0m\u001b[1;33m.\u001b[0m\u001b[0mdetector\u001b[0m\u001b[1;33m.\u001b[0m\u001b[0mreturn_predict\u001b[0m\u001b[1;33m(\u001b[0m\u001b[0mimg\u001b[0m\u001b[1;33m)\u001b[0m\u001b[1;33m\u001b[0m\u001b[0m\n\u001b[0m\u001b[0;32m     43\u001b[0m                                 \u001b[0mdetections\u001b[0m \u001b[1;33m=\u001b[0m \u001b[0mget_boxes_from_dict\u001b[0m\u001b[1;33m(\u001b[0m\u001b[0mpred_dict\u001b[0m\u001b[1;33m)\u001b[0m\u001b[1;33m\u001b[0m\u001b[0m\n\u001b[0;32m     44\u001b[0m                                 \u001b[0mbboxes\u001b[0m \u001b[1;33m=\u001b[0m \u001b[0mtracker\u001b[0m\u001b[1;33m.\u001b[0m\u001b[0mupdate\u001b[0m\u001b[1;33m(\u001b[0m\u001b[0mdetections\u001b[0m\u001b[1;33m)\u001b[0m\u001b[1;33m\u001b[0m\u001b[0m\n",
      "\u001b[1;32mC:\\ProgramData\\Anaconda3\\lib\\site-packages\\darkflow\\net\\flow.py\u001b[0m in \u001b[0;36mreturn_predict\u001b[1;34m(self, im)\u001b[0m\n\u001b[0;32m    184\u001b[0m     \u001b[0mfeed_dict\u001b[0m \u001b[1;33m=\u001b[0m \u001b[1;33m{\u001b[0m\u001b[0mself\u001b[0m\u001b[1;33m.\u001b[0m\u001b[0minp\u001b[0m \u001b[1;33m:\u001b[0m \u001b[0mthis_inp\u001b[0m\u001b[1;33m}\u001b[0m\u001b[1;33m\u001b[0m\u001b[0m\n\u001b[0;32m    185\u001b[0m \u001b[1;33m\u001b[0m\u001b[0m\n\u001b[1;32m--> 186\u001b[1;33m     \u001b[0mout\u001b[0m \u001b[1;33m=\u001b[0m \u001b[0mself\u001b[0m\u001b[1;33m.\u001b[0m\u001b[0msess\u001b[0m\u001b[1;33m.\u001b[0m\u001b[0mrun\u001b[0m\u001b[1;33m(\u001b[0m\u001b[0mself\u001b[0m\u001b[1;33m.\u001b[0m\u001b[0mout\u001b[0m\u001b[1;33m,\u001b[0m \u001b[0mfeed_dict\u001b[0m\u001b[1;33m)\u001b[0m\u001b[1;33m[\u001b[0m\u001b[1;36m0\u001b[0m\u001b[1;33m]\u001b[0m\u001b[1;33m\u001b[0m\u001b[0m\n\u001b[0m\u001b[0;32m    187\u001b[0m     \u001b[0mboxes\u001b[0m \u001b[1;33m=\u001b[0m \u001b[0mself\u001b[0m\u001b[1;33m.\u001b[0m\u001b[0mframework\u001b[0m\u001b[1;33m.\u001b[0m\u001b[0mfindboxes\u001b[0m\u001b[1;33m(\u001b[0m\u001b[0mout\u001b[0m\u001b[1;33m)\u001b[0m\u001b[1;33m\u001b[0m\u001b[0m\n\u001b[0;32m    188\u001b[0m     \u001b[0mthreshold\u001b[0m \u001b[1;33m=\u001b[0m \u001b[0mself\u001b[0m\u001b[1;33m.\u001b[0m\u001b[0mFLAGS\u001b[0m\u001b[1;33m.\u001b[0m\u001b[0mthreshold\u001b[0m\u001b[1;33m\u001b[0m\u001b[0m\n",
      "\u001b[1;32mC:\\ProgramData\\Anaconda3\\lib\\site-packages\\tensorflow\\python\\client\\session.py\u001b[0m in \u001b[0;36mrun\u001b[1;34m(self, fetches, feed_dict, options, run_metadata)\u001b[0m\n\u001b[0;32m    893\u001b[0m     \u001b[1;32mtry\u001b[0m\u001b[1;33m:\u001b[0m\u001b[1;33m\u001b[0m\u001b[0m\n\u001b[0;32m    894\u001b[0m       result = self._run(None, fetches, feed_dict, options_ptr,\n\u001b[1;32m--> 895\u001b[1;33m                          run_metadata_ptr)\n\u001b[0m\u001b[0;32m    896\u001b[0m       \u001b[1;32mif\u001b[0m \u001b[0mrun_metadata\u001b[0m\u001b[1;33m:\u001b[0m\u001b[1;33m\u001b[0m\u001b[0m\n\u001b[0;32m    897\u001b[0m         \u001b[0mproto_data\u001b[0m \u001b[1;33m=\u001b[0m \u001b[0mtf_session\u001b[0m\u001b[1;33m.\u001b[0m\u001b[0mTF_GetBuffer\u001b[0m\u001b[1;33m(\u001b[0m\u001b[0mrun_metadata_ptr\u001b[0m\u001b[1;33m)\u001b[0m\u001b[1;33m\u001b[0m\u001b[0m\n",
      "\u001b[1;32mC:\\ProgramData\\Anaconda3\\lib\\site-packages\\tensorflow\\python\\client\\session.py\u001b[0m in \u001b[0;36m_run\u001b[1;34m(self, handle, fetches, feed_dict, options, run_metadata)\u001b[0m\n\u001b[0;32m   1122\u001b[0m     \u001b[1;32mif\u001b[0m \u001b[0mfinal_fetches\u001b[0m \u001b[1;32mor\u001b[0m \u001b[0mfinal_targets\u001b[0m \u001b[1;32mor\u001b[0m \u001b[1;33m(\u001b[0m\u001b[0mhandle\u001b[0m \u001b[1;32mand\u001b[0m \u001b[0mfeed_dict_tensor\u001b[0m\u001b[1;33m)\u001b[0m\u001b[1;33m:\u001b[0m\u001b[1;33m\u001b[0m\u001b[0m\n\u001b[0;32m   1123\u001b[0m       results = self._do_run(handle, final_targets, final_fetches,\n\u001b[1;32m-> 1124\u001b[1;33m                              feed_dict_tensor, options, run_metadata)\n\u001b[0m\u001b[0;32m   1125\u001b[0m     \u001b[1;32melse\u001b[0m\u001b[1;33m:\u001b[0m\u001b[1;33m\u001b[0m\u001b[0m\n\u001b[0;32m   1126\u001b[0m       \u001b[0mresults\u001b[0m \u001b[1;33m=\u001b[0m \u001b[1;33m[\u001b[0m\u001b[1;33m]\u001b[0m\u001b[1;33m\u001b[0m\u001b[0m\n",
      "\u001b[1;32mC:\\ProgramData\\Anaconda3\\lib\\site-packages\\tensorflow\\python\\client\\session.py\u001b[0m in \u001b[0;36m_do_run\u001b[1;34m(self, handle, target_list, fetch_list, feed_dict, options, run_metadata)\u001b[0m\n\u001b[0;32m   1319\u001b[0m     \u001b[1;32mif\u001b[0m \u001b[0mhandle\u001b[0m \u001b[1;32mis\u001b[0m \u001b[1;32mNone\u001b[0m\u001b[1;33m:\u001b[0m\u001b[1;33m\u001b[0m\u001b[0m\n\u001b[0;32m   1320\u001b[0m       return self._do_call(_run_fn, self._session, feeds, fetches, targets,\n\u001b[1;32m-> 1321\u001b[1;33m                            options, run_metadata)\n\u001b[0m\u001b[0;32m   1322\u001b[0m     \u001b[1;32melse\u001b[0m\u001b[1;33m:\u001b[0m\u001b[1;33m\u001b[0m\u001b[0m\n\u001b[0;32m   1323\u001b[0m       \u001b[1;32mreturn\u001b[0m \u001b[0mself\u001b[0m\u001b[1;33m.\u001b[0m\u001b[0m_do_call\u001b[0m\u001b[1;33m(\u001b[0m\u001b[0m_prun_fn\u001b[0m\u001b[1;33m,\u001b[0m \u001b[0mself\u001b[0m\u001b[1;33m.\u001b[0m\u001b[0m_session\u001b[0m\u001b[1;33m,\u001b[0m \u001b[0mhandle\u001b[0m\u001b[1;33m,\u001b[0m \u001b[0mfeeds\u001b[0m\u001b[1;33m,\u001b[0m \u001b[0mfetches\u001b[0m\u001b[1;33m)\u001b[0m\u001b[1;33m\u001b[0m\u001b[0m\n",
      "\u001b[1;32mC:\\ProgramData\\Anaconda3\\lib\\site-packages\\tensorflow\\python\\client\\session.py\u001b[0m in \u001b[0;36m_do_call\u001b[1;34m(self, fn, *args)\u001b[0m\n\u001b[0;32m   1325\u001b[0m   \u001b[1;32mdef\u001b[0m \u001b[0m_do_call\u001b[0m\u001b[1;33m(\u001b[0m\u001b[0mself\u001b[0m\u001b[1;33m,\u001b[0m \u001b[0mfn\u001b[0m\u001b[1;33m,\u001b[0m \u001b[1;33m*\u001b[0m\u001b[0margs\u001b[0m\u001b[1;33m)\u001b[0m\u001b[1;33m:\u001b[0m\u001b[1;33m\u001b[0m\u001b[0m\n\u001b[0;32m   1326\u001b[0m     \u001b[1;32mtry\u001b[0m\u001b[1;33m:\u001b[0m\u001b[1;33m\u001b[0m\u001b[0m\n\u001b[1;32m-> 1327\u001b[1;33m       \u001b[1;32mreturn\u001b[0m \u001b[0mfn\u001b[0m\u001b[1;33m(\u001b[0m\u001b[1;33m*\u001b[0m\u001b[0margs\u001b[0m\u001b[1;33m)\u001b[0m\u001b[1;33m\u001b[0m\u001b[0m\n\u001b[0m\u001b[0;32m   1328\u001b[0m     \u001b[1;32mexcept\u001b[0m \u001b[0merrors\u001b[0m\u001b[1;33m.\u001b[0m\u001b[0mOpError\u001b[0m \u001b[1;32mas\u001b[0m \u001b[0me\u001b[0m\u001b[1;33m:\u001b[0m\u001b[1;33m\u001b[0m\u001b[0m\n\u001b[0;32m   1329\u001b[0m       \u001b[0mmessage\u001b[0m \u001b[1;33m=\u001b[0m \u001b[0mcompat\u001b[0m\u001b[1;33m.\u001b[0m\u001b[0mas_text\u001b[0m\u001b[1;33m(\u001b[0m\u001b[0me\u001b[0m\u001b[1;33m.\u001b[0m\u001b[0mmessage\u001b[0m\u001b[1;33m)\u001b[0m\u001b[1;33m\u001b[0m\u001b[0m\n",
      "\u001b[1;32mC:\\ProgramData\\Anaconda3\\lib\\site-packages\\tensorflow\\python\\client\\session.py\u001b[0m in \u001b[0;36m_run_fn\u001b[1;34m(session, feed_dict, fetch_list, target_list, options, run_metadata)\u001b[0m\n\u001b[0;32m   1304\u001b[0m           return tf_session.TF_Run(session, options,\n\u001b[0;32m   1305\u001b[0m                                    \u001b[0mfeed_dict\u001b[0m\u001b[1;33m,\u001b[0m \u001b[0mfetch_list\u001b[0m\u001b[1;33m,\u001b[0m \u001b[0mtarget_list\u001b[0m\u001b[1;33m,\u001b[0m\u001b[1;33m\u001b[0m\u001b[0m\n\u001b[1;32m-> 1306\u001b[1;33m                                    status, run_metadata)\n\u001b[0m\u001b[0;32m   1307\u001b[0m \u001b[1;33m\u001b[0m\u001b[0m\n\u001b[0;32m   1308\u001b[0m     \u001b[1;32mdef\u001b[0m \u001b[0m_prun_fn\u001b[0m\u001b[1;33m(\u001b[0m\u001b[0msession\u001b[0m\u001b[1;33m,\u001b[0m \u001b[0mhandle\u001b[0m\u001b[1;33m,\u001b[0m \u001b[0mfeed_dict\u001b[0m\u001b[1;33m,\u001b[0m \u001b[0mfetch_list\u001b[0m\u001b[1;33m)\u001b[0m\u001b[1;33m:\u001b[0m\u001b[1;33m\u001b[0m\u001b[0m\n",
      "\u001b[1;31mKeyboardInterrupt\u001b[0m: "
     ]
    }
   ],
   "source": [
    "detector.detect_and_save(tracker, encoder=encoder, save_mode = 'all', video_file_path=video_path, img_saving_path=img_saving_path,\n",
    "                        embs_saving_path=embs_saving_path, show_video=True)"
   ]
  },
  {
   "cell_type": "code",
   "execution_count": 28,
   "metadata": {},
   "outputs": [],
   "source": [
    "cv2.destroyAllWindows()"
   ]
  },
  {
   "cell_type": "code",
   "execution_count": 14,
   "metadata": {
    "collapsed": true
   },
   "outputs": [],
   "source": [
    "emb = np.linspace(0,128,128)[np.newaxis]"
   ]
  },
  {
   "cell_type": "code",
   "execution_count": 15,
   "metadata": {},
   "outputs": [
    {
     "data": {
      "text/plain": [
       "(1, 128)"
      ]
     },
     "execution_count": 15,
     "metadata": {},
     "output_type": "execute_result"
    }
   ],
   "source": [
    "emb.shape"
   ]
  },
  {
   "cell_type": "code",
   "execution_count": 16,
   "metadata": {},
   "outputs": [],
   "source": [
    "c = np.concatenate((np.array([1])[np.newaxis], np.array((30,30,3))[np.newaxis], emb), axis=1)"
   ]
  },
  {
   "cell_type": "code",
   "execution_count": 17,
   "metadata": {},
   "outputs": [
    {
     "data": {
      "text/plain": [
       "array([[   1.        ,   30.        ,   30.        ,    3.        ,\n",
       "           0.        ,    1.00787402,    2.01574803,    3.02362205,\n",
       "           4.03149606,    5.03937008,    6.04724409,    7.05511811,\n",
       "           8.06299213,    9.07086614,   10.07874016,   11.08661417,\n",
       "          12.09448819,   13.1023622 ,   14.11023622,   15.11811024,\n",
       "          16.12598425,   17.13385827,   18.14173228,   19.1496063 ,\n",
       "          20.15748031,   21.16535433,   22.17322835,   23.18110236,\n",
       "          24.18897638,   25.19685039,   26.20472441,   27.21259843,\n",
       "          28.22047244,   29.22834646,   30.23622047,   31.24409449,\n",
       "          32.2519685 ,   33.25984252,   34.26771654,   35.27559055,\n",
       "          36.28346457,   37.29133858,   38.2992126 ,   39.30708661,\n",
       "          40.31496063,   41.32283465,   42.33070866,   43.33858268,\n",
       "          44.34645669,   45.35433071,   46.36220472,   47.37007874,\n",
       "          48.37795276,   49.38582677,   50.39370079,   51.4015748 ,\n",
       "          52.40944882,   53.41732283,   54.42519685,   55.43307087,\n",
       "          56.44094488,   57.4488189 ,   58.45669291,   59.46456693,\n",
       "          60.47244094,   61.48031496,   62.48818898,   63.49606299,\n",
       "          64.50393701,   65.51181102,   66.51968504,   67.52755906,\n",
       "          68.53543307,   69.54330709,   70.5511811 ,   71.55905512,\n",
       "          72.56692913,   73.57480315,   74.58267717,   75.59055118,\n",
       "          76.5984252 ,   77.60629921,   78.61417323,   79.62204724,\n",
       "          80.62992126,   81.63779528,   82.64566929,   83.65354331,\n",
       "          84.66141732,   85.66929134,   86.67716535,   87.68503937,\n",
       "          88.69291339,   89.7007874 ,   90.70866142,   91.71653543,\n",
       "          92.72440945,   93.73228346,   94.74015748,   95.7480315 ,\n",
       "          96.75590551,   97.76377953,   98.77165354,   99.77952756,\n",
       "         100.78740157,  101.79527559,  102.80314961,  103.81102362,\n",
       "         104.81889764,  105.82677165,  106.83464567,  107.84251969,\n",
       "         108.8503937 ,  109.85826772,  110.86614173,  111.87401575,\n",
       "         112.88188976,  113.88976378,  114.8976378 ,  115.90551181,\n",
       "         116.91338583,  117.92125984,  118.92913386,  119.93700787,\n",
       "         120.94488189,  121.95275591,  122.96062992,  123.96850394,\n",
       "         124.97637795,  125.98425197,  126.99212598,  128.        ]])"
      ]
     },
     "execution_count": 17,
     "metadata": {},
     "output_type": "execute_result"
    }
   ],
   "source": [
    "c"
   ]
  },
  {
   "cell_type": "code",
   "execution_count": null,
   "metadata": {
    "collapsed": true
   },
   "outputs": [],
   "source": []
  }
 ],
 "metadata": {
  "kernelspec": {
   "display_name": "Python 3",
   "language": "python",
   "name": "python3"
  },
  "language_info": {
   "codemirror_mode": {
    "name": "ipython",
    "version": 3
   },
   "file_extension": ".py",
   "mimetype": "text/x-python",
   "name": "python",
   "nbconvert_exporter": "python",
   "pygments_lexer": "ipython3",
   "version": "3.6.1"
  }
 },
 "nbformat": 4,
 "nbformat_minor": 2
}
