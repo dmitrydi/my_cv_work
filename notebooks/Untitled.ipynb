{
 "cells": [
  {
   "cell_type": "code",
   "execution_count": 1,
   "metadata": {
    "collapsed": true
   },
   "outputs": [],
   "source": [
    "import sys\n",
    "import os\n",
    "sys.path.insert(0, '../verificator')"
   ]
  },
  {
   "cell_type": "code",
   "execution_count": 2,
   "metadata": {
    "collapsed": true
   },
   "outputs": [],
   "source": [
    "os.environ[\"CUDA_VISIBLE_DEVICES\"]=\"0\""
   ]
  },
  {
   "cell_type": "code",
   "execution_count": 3,
   "metadata": {
    "collapsed": true
   },
   "outputs": [],
   "source": [
    "video_path = '/home/shareduser/d_test/data/videos/cam_2'\n",
    "img_saving_path = '/home/shareduser/d_test/data/pics/cam_2_thr_0.5'\n",
    "emb_saving_path ='/home/shareduser/d_test/data/models/embeddings'\n",
    "numpy_saving_path = os.path.join(img_saving_path, 'deep_sort_features')\n",
    "tpe_weights_saving_path = '/home/shareduser/d_test/data/models/tpe_weights'\n",
    "deep_sort_model_path = '../verificator/verificator/deep_sort/resources/networks/mars-small128.ckpt-68577'"
   ]
  },
  {
   "cell_type": "code",
   "execution_count": 4,
   "metadata": {
    "collapsed": true
   },
   "outputs": [],
   "source": [
    "build_path = '/home/shareduser/d_test/data/models/yolo_init_config'\n",
    "weights = os.path.join(build_path, 'bin', 'yolo.weights')\n",
    "model = os.path.join(build_path, 'cfg', 'yolo-people.cfg')\n",
    "cfg = os.path.join(build_path, 'cfg')\n",
    "labels = os.path.join(build_path, 'labels.txt')\n",
    "trained_model_path = '/home/shareduser/d_test/data/models/darkflow_retrain_all_imgs/full_data'"
   ]
  },
  {
   "cell_type": "code",
   "execution_count": 5,
   "metadata": {
    "collapsed": true
   },
   "outputs": [],
   "source": [
    "import numpy as np\n",
    "import cv2\n",
    "import matplotlib.pyplot as plt"
   ]
  },
  {
   "cell_type": "code",
   "execution_count": 6,
   "metadata": {},
   "outputs": [
    {
     "name": "stderr",
     "output_type": "stream",
     "text": [
      "Using TensorFlow backend.\n"
     ]
    }
   ],
   "source": [
    "from verificator.verificator import Verificator\n",
    "from verificator.feature_extractor import DeepSortExtractor\n",
    "from verificator.tpe_predictor import TPEPredictor"
   ]
  },
  {
   "cell_type": "code",
   "execution_count": 7,
   "metadata": {
    "collapsed": true
   },
   "outputs": [],
   "source": [
    "list_of_dirs = [os.path.join(img_saving_path, p) for p in os.listdir(img_saving_path)]"
   ]
  },
  {
   "cell_type": "code",
   "execution_count": 8,
   "metadata": {
    "collapsed": true
   },
   "outputs": [],
   "source": [
    "list_of_dirs.sort()"
   ]
  },
  {
   "cell_type": "code",
   "execution_count": 9,
   "metadata": {},
   "outputs": [
    {
     "data": {
      "text/plain": [
       "'/home/shareduser/d_test/data/pics/cam_2_thr_0.5/deep_sort_features'"
      ]
     },
     "execution_count": 9,
     "metadata": {},
     "output_type": "execute_result"
    }
   ],
   "source": [
    "list_of_dirs.pop()"
   ]
  },
  {
   "cell_type": "code",
   "execution_count": 58,
   "metadata": {},
   "outputs": [
    {
     "data": {
      "text/plain": [
       "['127_3.jpg', '127_2.jpg', '127_5.jpg', '127_0.jpg', '127_1.jpg', '127_4.jpg']"
      ]
     },
     "execution_count": 58,
     "metadata": {},
     "output_type": "execute_result"
    }
   ],
   "source": [
    "os.listdir(list_of_dirs[85])"
   ]
  },
  {
   "cell_type": "code",
   "execution_count": 76,
   "metadata": {},
   "outputs": [
    {
     "data": {
      "image/png": "[encoded data removed]",
      "text/plain": [
       "<matplotlib.figure.Figure at 0x7f56bc7d2b70>"
      ]
     },
     "metadata": {},
     "output_type": "display_data"
    }
   ],
   "source": [
    "i = 25\n",
    "img = cv2.imread(os.path.join(list_of_dirs[i], os.listdir(list_of_dirs[i])[0]))\n",
    "img = cv2.cvtColor(img, cv2.COLOR_BGR2RGB)\n",
    "plt.imshow(img)\n",
    "plt.show()"
   ]
  },
  {
   "cell_type": "code",
   "execution_count": 12,
   "metadata": {},
   "outputs": [
    {
     "name": "stdout",
     "output_type": "stream",
     "text": [
      "feature dimensionality:  128\n"
     ]
    }
   ],
   "source": [
    "encoder = DeepSortExtractor(deep_sort_model_path)"
   ]
  },
  {
   "cell_type": "code",
   "execution_count": 13,
   "metadata": {},
   "outputs": [
    {
     "name": "stderr",
     "output_type": "stream",
     "text": [
      "../verificator/verificator/tpe_model/tpe_model_builder.py:43: UserWarning: Update your `Dense` call to the Keras 2 API: `Dense(128, input_dim=128, weights=[array([[ ..., use_bias=False, activation=\"linear\")`\n",
      "  base_model.add(Dense(n_out, input_dim=n_in, bias=False, weights=[W_pca], activation='linear'))\n",
      "../verificator/verificator/tpe_model/tpe_model_builder.py:49: UserWarning: The `merge` function is deprecated and will be removed after 08/2017. Use instead layers from `keras.layers.merge`, e.g. `add`, `concatenate`, etc.\n",
      "  e = merge([a_emb, p_emb, n_emb], mode=triplet_merge, output_shape=triplet_merge_shape)\n",
      "/home/shareduser/.local/lib/python3.5/site-packages/keras/legacy/layers.py:460: UserWarning: The `Merge` layer is deprecated and will be removed after 08/2017. Use instead layers from `keras.layers.merge`, e.g. `add`, `concatenate`, etc.\n",
      "  name=name)\n",
      "../verificator/verificator/tpe_model/tpe_model_builder.py:50: UserWarning: Update your `Model` call to the Keras 2 API: `Model(inputs=[<tf.Tenso..., outputs=Tensor(\"me...)`\n",
      "  model = Model(input=[a, p, n], output=e)\n",
      "../verificator/verificator/tpe_model/tpe_model_builder.py:51: UserWarning: Update your `Model` call to the Keras 2 API: `Model(inputs=Tensor(\"in..., outputs=Tensor(\"se...)`\n",
      "  predict = Model(input=a, output=a_emb)\n"
     ]
    }
   ],
   "source": [
    "predictor = TPEPredictor(128,128)"
   ]
  },
  {
   "cell_type": "code",
   "execution_count": 14,
   "metadata": {
    "collapsed": true
   },
   "outputs": [],
   "source": [
    "predictor.load_weights(os.path.join(tpe_weights_saving_path, 'from_deep_sot_10_ep.h5'))"
   ]
  },
  {
   "cell_type": "code",
   "execution_count": 78,
   "metadata": {
    "collapsed": true
   },
   "outputs": [],
   "source": [
    "v = Verificator(encoder, predictor)"
   ]
  },
  {
   "cell_type": "code",
   "execution_count": 80,
   "metadata": {
    "collapsed": true
   },
   "outputs": [],
   "source": [
    "distance = 0.24209733262206568\n",
    "img1 = os.path.join(list_of_dirs[25], os.listdir(list_of_dirs[25])[0])\n",
    "img2 = os.path.join(list_of_dirs[24], os.listdir(list_of_dirs[24])[0])"
   ]
  },
  {
   "cell_type": "code",
   "execution_count": 21,
   "metadata": {},
   "outputs": [
    {
     "data": {
      "text/plain": [
       "True"
      ]
     },
     "execution_count": 21,
     "metadata": {},
     "output_type": "execute_result"
    }
   ],
   "source": [
    "v.verify(img1, img2, distance)[0][0][0]"
   ]
  },
  {
   "cell_type": "code",
   "execution_count": 81,
   "metadata": {
    "collapsed": true
   },
   "outputs": [],
   "source": [
    "stats = {}\n",
    "for dir_ in list_of_dirs:\n",
    "    files = os.listdir(dir_)\n",
    "    nfiles = len(files)\n",
    "    tcntr = 0\n",
    "    for file in files:\n",
    "        img = os.path.join(dir_,file)\n",
    "        if v.verify(img1, img, distance)[0][0][0]:\n",
    "            tcntr += 1\n",
    "    stats[dir_] = tcntr/nfiles"
   ]
  },
  {
   "cell_type": "code",
   "execution_count": 82,
   "metadata": {
    "collapsed": true
   },
   "outputs": [],
   "source": [
    "bads_2 = []\n",
    "for k,v in stats.items():\n",
    "    if v == 1.0:\n",
    "        bads_2.append(list_of_dirs.index(k))"
   ]
  },
  {
   "cell_type": "code",
   "execution_count": 83,
   "metadata": {},
   "outputs": [
    {
     "name": "stdout",
     "output_type": "stream",
     "text": [
      "235\n",
      "142\n",
      "179\n",
      "1109\n",
      "106\n",
      "135\n",
      "834\n",
      "247\n",
      "116\n",
      "777\n",
      "1137\n",
      "81\n",
      "998\n",
      "272\n",
      "123\n",
      "84\n"
     ]
    }
   ],
   "source": [
    "for b in bads_2:\n",
    "    print(os.path.basename(list_of_dirs[b]))"
   ]
  },
  {
   "cell_type": "code",
   "execution_count": 84,
   "metadata": {},
   "outputs": [
    {
     "data": {
      "text/plain": [
       "0.1"
      ]
     },
     "execution_count": 84,
     "metadata": {},
     "output_type": "execute_result"
    }
   ],
   "source": [
    "a = '0.1'\n",
    "b = float(a)\n",
    "b"
   ]
  },
  {
   "cell_type": "code",
   "execution_count": 3,
   "metadata": {
    "collapsed": true
   },
   "outputs": [],
   "source": [
    "fname = 'home/a.jpg'\n",
    "import os"
   ]
  },
  {
   "cell_type": "code",
   "execution_count": 5,
   "metadata": {},
   "outputs": [
    {
     "data": {
      "text/plain": [
       "('a', '.jpg')"
      ]
     },
     "execution_count": 5,
     "metadata": {},
     "output_type": "execute_result"
    }
   ],
   "source": [
    "os.path.splitext(os.path.basename(fname))"
   ]
  },
  {
   "cell_type": "code",
   "execution_count": null,
   "metadata": {
    "collapsed": true
   },
   "outputs": [],
   "source": []
  }
 ],
 "metadata": {
  "kernelspec": {
   "display_name": "Python 3",
   "language": "python",
   "name": "python3"
  },
  "language_info": {
   "codemirror_mode": {
    "name": "ipython",
    "version": 3
   },
   "file_extension": ".py",
   "mimetype": "text/x-python",
   "name": "python",
   "nbconvert_exporter": "python",
   "pygments_lexer": "ipython3",
   "version": "3.5.2"
  }
 },
 "nbformat": 4,
 "nbformat_minor": 2
}
