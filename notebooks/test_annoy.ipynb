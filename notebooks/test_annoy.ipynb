{
 "cells": [
  {
   "cell_type": "code",
   "execution_count": 1,
   "metadata": {
    "collapsed": true
   },
   "outputs": [],
   "source": [
    "import sys\n",
    "import os\n",
    "sys.path.insert(0, '../verificator')"
   ]
  },
  {
   "cell_type": "code",
   "execution_count": 2,
   "metadata": {
    "collapsed": true
   },
   "outputs": [],
   "source": [
    "import numpy as np"
   ]
  },
  {
   "cell_type": "code",
   "execution_count": 3,
   "metadata": {
    "collapsed": true
   },
   "outputs": [],
   "source": [
    "os.environ[\"CUDA_VISIBLE_DEVICES\"]=\"1\""
   ]
  },
  {
   "cell_type": "code",
   "execution_count": 4,
   "metadata": {},
   "outputs": [
    {
     "name": "stderr",
     "output_type": "stream",
     "text": [
      "Using TensorFlow backend.\n"
     ]
    }
   ],
   "source": [
    "from verificator.tpe_predictor import TPEPredictor"
   ]
  },
  {
   "cell_type": "code",
   "execution_count": 5,
   "metadata": {},
   "outputs": [
    {
     "name": "stderr",
     "output_type": "stream",
     "text": [
      "../verificator/verificator/tpe_model/tpe_model_builder.py:43: UserWarning: Update your `Dense` call to the Keras 2 API: `Dense(512, activation=\"linear\", weights=[array([[ ..., use_bias=False, input_dim=2048)`\n",
      "  base_model.add(Dense(n_out, input_dim=n_in, bias=False, weights=[W_pca], activation='linear'))\n",
      "../verificator/verificator/tpe_model/tpe_model_builder.py:49: UserWarning: The `merge` function is deprecated and will be removed after 08/2017. Use instead layers from `keras.layers.merge`, e.g. `add`, `concatenate`, etc.\n",
      "  e = merge([a_emb, p_emb, n_emb], mode=triplet_merge, output_shape=triplet_merge_shape)\n",
      "/home/shareduser/.local/lib/python3.5/site-packages/keras/legacy/layers.py:460: UserWarning: The `Merge` layer is deprecated and will be removed after 08/2017. Use instead layers from `keras.layers.merge`, e.g. `add`, `concatenate`, etc.\n",
      "  name=name)\n",
      "../verificator/verificator/tpe_model/tpe_model_builder.py:50: UserWarning: Update your `Model` call to the Keras 2 API: `Model(outputs=Tensor(\"me..., inputs=[<tf.Tenso...)`\n",
      "  model = Model(input=[a, p, n], output=e)\n",
      "../verificator/verificator/tpe_model/tpe_model_builder.py:51: UserWarning: Update your `Model` call to the Keras 2 API: `Model(outputs=Tensor(\"se..., inputs=Tensor(\"in...)`\n",
      "  predict = Model(input=a, output=a_emb)\n"
     ]
    }
   ],
   "source": [
    "predictor = TPEPredictor(2048, 512)"
   ]
  },
  {
   "cell_type": "markdown",
   "metadata": {},
   "source": [
    "## Загружаем фичи для индексирования"
   ]
  },
  {
   "cell_type": "code",
   "execution_count": 7,
   "metadata": {
    "collapsed": true
   },
   "outputs": [],
   "source": [
    "base_loading_path = os.path.expanduser('~/d_test/data/models/final_models/features/inception_features/cam_1')"
   ]
  },
  {
   "cell_type": "code",
   "execution_count": 8,
   "metadata": {
    "collapsed": true
   },
   "outputs": [],
   "source": [
    "labels = np.load(os.path.join(base_loading_path, 'cam_1_inception_labels.npy'))\n",
    "features = np.load(os.path.join(base_loading_path, 'cam_1_inception_features.npy'))"
   ]
  },
  {
   "cell_type": "code",
   "execution_count": 10,
   "metadata": {},
   "outputs": [
    {
     "data": {
      "text/plain": [
       "(19447, 2048)"
      ]
     },
     "execution_count": 10,
     "metadata": {},
     "output_type": "execute_result"
    }
   ],
   "source": [
    "features.shape"
   ]
  },
  {
   "cell_type": "markdown",
   "metadata": {},
   "source": [
    "## Создаем tpe-фичи для индексирования"
   ]
  },
  {
   "cell_type": "code",
   "execution_count": 11,
   "metadata": {},
   "outputs": [],
   "source": [
    "predictor.load_weights('/home/shareduser/d_test/data/models/final_models/weights/inception/cam_1/cam_1_best.h5')"
   ]
  },
  {
   "cell_type": "code",
   "execution_count": 12,
   "metadata": {},
   "outputs": [],
   "source": [
    "features = predictor.predict(features)"
   ]
  },
  {
   "cell_type": "code",
   "execution_count": 13,
   "metadata": {
    "collapsed": true
   },
   "outputs": [],
   "source": [
    "def make_map_from_features(labels):\n",
    "    index_dict = {}\n",
    "    for i, label in enumerate(labels):\n",
    "        index_dict[i] = label\n",
    "    return index_dict"
   ]
  },
  {
   "cell_type": "markdown",
   "metadata": {},
   "source": [
    "### index_dict - словарь для хранения соотвествия индекса ветора и номера класса"
   ]
  },
  {
   "cell_type": "code",
   "execution_count": 14,
   "metadata": {},
   "outputs": [],
   "source": [
    "index_dict = make_map_from_features(labels)"
   ]
  },
  {
   "cell_type": "code",
   "execution_count": 15,
   "metadata": {},
   "outputs": [],
   "source": [
    "from annoy import AnnoyIndex"
   ]
  },
  {
   "cell_type": "code",
   "execution_count": 16,
   "metadata": {
    "collapsed": true
   },
   "outputs": [],
   "source": [
    "t = AnnoyIndex(512)"
   ]
  },
  {
   "cell_type": "code",
   "execution_count": 17,
   "metadata": {},
   "outputs": [
    {
     "data": {
      "text/plain": [
       "(19447, 512)"
      ]
     },
     "execution_count": 17,
     "metadata": {},
     "output_type": "execute_result"
    }
   ],
   "source": [
    "features.shape"
   ]
  },
  {
   "cell_type": "code",
   "execution_count": 18,
   "metadata": {},
   "outputs": [],
   "source": [
    "for i, feature in enumerate(features):\n",
    "    t.add_item(i, feature)"
   ]
  },
  {
   "cell_type": "code",
   "execution_count": 19,
   "metadata": {},
   "outputs": [
    {
     "data": {
      "text/plain": [
       "True"
      ]
     },
     "execution_count": 19,
     "metadata": {},
     "output_type": "execute_result"
    }
   ],
   "source": [
    "t.build(10)"
   ]
  },
  {
   "cell_type": "code",
   "execution_count": 20,
   "metadata": {
    "collapsed": true
   },
   "outputs": [],
   "source": [
    "index_saving_path = os.path.expanduser('~/d_test/data/models/final_models/indexes')"
   ]
  },
  {
   "cell_type": "code",
   "execution_count": 21,
   "metadata": {},
   "outputs": [
    {
     "data": {
      "text/plain": [
       "True"
      ]
     },
     "execution_count": 21,
     "metadata": {},
     "output_type": "execute_result"
    }
   ],
   "source": [
    "t.save(os.path.join(index_saving_path, 'cam_1_index.ann'))"
   ]
  },
  {
   "cell_type": "code",
   "execution_count": 22,
   "metadata": {
    "collapsed": true
   },
   "outputs": [],
   "source": [
    "np.save(os.path.join(index_saving_path, 'cam_1_index_dict.npy'), index_dict)"
   ]
  },
  {
   "cell_type": "markdown",
   "metadata": {},
   "source": [
    "## Создаем тестовые tpe-фичи"
   ]
  },
  {
   "cell_type": "code",
   "execution_count": 23,
   "metadata": {
    "collapsed": true
   },
   "outputs": [],
   "source": [
    "test_loading_path = os.path.expanduser('~/d_test/data/models/final_models/features/inception_features/test/cam_1')"
   ]
  },
  {
   "cell_type": "code",
   "execution_count": 24,
   "metadata": {
    "collapsed": true
   },
   "outputs": [],
   "source": [
    "test_labels = np.load(os.path.join(test_loading_path, 'cam_1_test_labels.npy'))\n",
    "test_features = np.load(os.path.join(test_loading_path, 'cam_1_test_features.npy'))"
   ]
  },
  {
   "cell_type": "code",
   "execution_count": 25,
   "metadata": {
    "collapsed": true
   },
   "outputs": [],
   "source": [
    "test_tpe_features = predictor.predict(test_features)"
   ]
  },
  {
   "cell_type": "code",
   "execution_count": 26,
   "metadata": {},
   "outputs": [
    {
     "data": {
      "text/plain": [
       "(2605, 512)"
      ]
     },
     "execution_count": 26,
     "metadata": {},
     "output_type": "execute_result"
    }
   ],
   "source": [
    "test_tpe_features.shape"
   ]
  },
  {
   "cell_type": "code",
   "execution_count": 30,
   "metadata": {
    "collapsed": true
   },
   "outputs": [],
   "source": [
    "v = test_tpe_features[0]\n",
    "l = labels[0]"
   ]
  },
  {
   "cell_type": "code",
   "execution_count": 34,
   "metadata": {},
   "outputs": [],
   "source": [
    "indices = t.get_nns_by_vector(v, 10)"
   ]
  },
  {
   "cell_type": "code",
   "execution_count": 35,
   "metadata": {},
   "outputs": [],
   "source": [
    "probable_neighbours_classes = []\n",
    "for ind in indices:\n",
    "    probable_neighbours_classes.append(index_dict[ind])"
   ]
  },
  {
   "cell_type": "code",
   "execution_count": 36,
   "metadata": {},
   "outputs": [
    {
     "data": {
      "text/plain": [
       "[355, 355, 355, 386, 355, 355, 534, 355, 355, 460]"
      ]
     },
     "execution_count": 36,
     "metadata": {},
     "output_type": "execute_result"
    }
   ],
   "source": [
    "probable_neighbours_classes"
   ]
  },
  {
   "cell_type": "code",
   "execution_count": 38,
   "metadata": {},
   "outputs": [
    {
     "data": {
      "text/plain": [
       "[16, 19, 5, 690, 6, 0, 13733, 24, 4, 15790]"
      ]
     },
     "execution_count": 38,
     "metadata": {},
     "output_type": "execute_result"
    }
   ],
   "source": [
    "indices"
   ]
  },
  {
   "cell_type": "code",
   "execution_count": 39,
   "metadata": {
    "collapsed": true
   },
   "outputs": [],
   "source": [
    "v_gt = features[16]"
   ]
  },
  {
   "cell_type": "code",
   "execution_count": 42,
   "metadata": {},
   "outputs": [
    {
     "name": "stdout",
     "output_type": "stream",
     "text": [
      "0.621246 355\n",
      "0.617971 355\n",
      "0.593282 355\n",
      "0.535644 386\n",
      "0.528389 355\n",
      "0.527855 355\n",
      "0.505349 534\n",
      "0.500719 355\n",
      "0.491118 355\n",
      "0.482095 460\n"
     ]
    }
   ],
   "source": [
    "for i in indices:\n",
    "    v_gt = features[i]\n",
    "    print(v@v_gt.T, index_dict[i])"
   ]
  },
  {
   "cell_type": "markdown",
   "metadata": {},
   "source": [
    "### Загрузим фичи персон, которых почти наверняка не было"
   ]
  },
  {
   "cell_type": "code",
   "execution_count": 43,
   "metadata": {
    "collapsed": true
   },
   "outputs": [],
   "source": [
    "wrong_loading_path = os.path.expanduser('~/d_test/data/models/final_models/features/inception_features/cam_2')"
   ]
  },
  {
   "cell_type": "code",
   "execution_count": 44,
   "metadata": {
    "collapsed": true
   },
   "outputs": [],
   "source": [
    "wrong_features = np.load(os.path.join(wrong_loading_path, 'cam_2_inception_features.npy'))\n",
    "wrong_labels = np.load(os.path.join(wrong_loading_path, 'cam_2_inception_labels.npy'))"
   ]
  },
  {
   "cell_type": "code",
   "execution_count": 45,
   "metadata": {
    "collapsed": true
   },
   "outputs": [],
   "source": [
    "wrong_tpe_features = predictor.predict(wrong_features)"
   ]
  },
  {
   "cell_type": "code",
   "execution_count": null,
   "metadata": {
    "collapsed": true
   },
   "outputs": [],
   "source": []
  },
  {
   "cell_type": "code",
   "execution_count": 136,
   "metadata": {},
   "outputs": [],
   "source": [
    "all_scores = wrong_tpe_features @ features.T"
   ]
  },
  {
   "cell_type": "code",
   "execution_count": 138,
   "metadata": {},
   "outputs": [
    {
     "data": {
      "text/plain": [
       "(3755, 19447)"
      ]
     },
     "execution_count": 138,
     "metadata": {},
     "output_type": "execute_result"
    }
   ],
   "source": [
    "all_scores.shape"
   ]
  },
  {
   "cell_type": "code",
   "execution_count": 166,
   "metadata": {},
   "outputs": [
    {
     "name": "stdout",
     "output_type": "stream",
     "text": [
      "567 [374  50 374  85   6] [ 0.43972301  0.44163784  0.44384909  0.44549942  0.4524579 ]\n",
      "568 [399 407  22 407 374] [ 0.39954966  0.4001615   0.40191445  0.42572194  0.4298138 ]\n",
      "569 [108 108 108  85 190] [ 0.48127094  0.48848754  0.49510342  0.4996621   0.50312746]\n",
      "570 [108 108 334 318 108] [ 0.41359186  0.41938943  0.43093932  0.45079774  0.45277977]\n",
      "571 [ 20 278 318 278 278] [ 0.36459711  0.36561713  0.37459871  0.37571186  0.37688288]\n",
      "572 [526  98 103 526  97] [ 0.34323505  0.34574729  0.3483066   0.34844002  0.34905514]\n",
      "573 [108 481 190 318 481] [ 0.4897646   0.49686462  0.50314808  0.50925702  0.51577866]\n",
      "574 [167 318 515 318 318] [ 0.37891829  0.37991229  0.39599693  0.40330312  0.41001195]\n",
      "575 [526 131 131 131 526] [ 0.35971785  0.36448953  0.36548832  0.36598003  0.36966407]\n",
      "576 [391 324 324 407 183] [ 0.41349629  0.41455194  0.4190881   0.4290024   0.44160852]\n",
      "577 [161 481 190 190 190] [ 0.47554263  0.47581279  0.48209336  0.4823688   0.5071364 ]\n",
      "578 [111  95 145  95  95] [ 0.47408125  0.47889718  0.48081556  0.48530659  0.49804941]\n",
      "579 [206 332  85 558 114] [ 0.33196229  0.33598244  0.33855844  0.34398645  0.3511571 ]\n",
      "580 [121  20 192 150 150] [ 0.38083982  0.38473108  0.41172504  0.4172132   0.42053831]\n",
      "581 [190 481 108 318 318] [ 0.48169142  0.49489781  0.51227164  0.52704275  0.55220282]\n",
      "582 [190 418 190 190 362] [ 0.5077315   0.51436013  0.53071368  0.53664333  0.55102193]\n",
      "583 [379 188 379  20  20] [ 0.36061555  0.36536038  0.36819398  0.38254973  0.38717461]\n",
      "584 [ 95 394 248 318 515] [ 0.38205859  0.39089355  0.4017199   0.40199876  0.43066192]\n",
      "585 [293 511 164 164 164] [ 0.35182452  0.35447735  0.36978221  0.37301356  0.39565516]\n",
      "586 [167 167 318 318 293] [ 0.35497424  0.35621381  0.35911638  0.36322528  0.36343795]\n",
      "587 [318 167 515 515 108] [ 0.45284399  0.45462275  0.46393317  0.48488274  0.48910522]\n",
      "588 [453 372 507 372 267] [ 0.40560874  0.41243628  0.42311338  0.43351042  0.45041409]\n",
      "589 [ 85 334 334 334 391] [ 0.55114758  0.55345565  0.55488068  0.56094289  0.57179052]\n",
      "590 [344 344  85 344 344] [ 0.38578346  0.39212799  0.39853597  0.40918365  0.42360893]\n",
      "591 [295 318 295 362 528] [ 0.42035174  0.42145354  0.42253375  0.42759043  0.47563863]\n",
      "592 [108 190 391 108 190] [ 0.43131891  0.43914679  0.44528684  0.45098025  0.47214076]\n",
      "593 [42 94 85 85 85] [ 0.39604816  0.40328819  0.43232718  0.45686492  0.45819837]\n",
      "594 [332 455 332  85  85] [ 0.47205219  0.47828245  0.48686075  0.50125802  0.53270376]\n",
      "595 [551 498  61  61  61] [ 0.41325089  0.42094877  0.42208648  0.42503664  0.46282554]\n",
      "596 [391 108 108 108 391] [ 0.55236661  0.55533433  0.5567553   0.58003801  0.58463264]\n",
      "597 [  6 374 374 374 260] [ 0.36924371  0.36943868  0.38267297  0.391848    0.4088783 ]\n",
      "598 [183  68  68 274 278] [ 0.39551884  0.39785755  0.40413618  0.40730876  0.4182356 ]\n",
      "599 [318  95 274 108 108] [ 0.38576254  0.38755119  0.39590347  0.39814332  0.40292275]\n",
      "600 [253 551  61  61 551] [ 0.45694521  0.45747787  0.45910755  0.46567926  0.46849492]\n",
      "601 [126 469 283 242 175] [ 0.36684579  0.36974296  0.37503624  0.3787204   0.38394541]\n",
      "602 [190 190 190 190 190] [ 0.47965994  0.48114398  0.49268174  0.51381463  0.53316432]\n",
      "603 [278 468 528 278 112] [ 0.42583141  0.42738131  0.42918631  0.43591249  0.43631268]\n",
      "604 [384 384 184 108 108] [ 0.3994844   0.40020868  0.40049979  0.40524897  0.41626048]\n",
      "605 [304 118 212 344 108] [ 0.37875196  0.3816773   0.39250386  0.39526668  0.40928969]\n",
      "606 [331 279  38 369 279] [ 0.40769207  0.4218072   0.42370176  0.44243658  0.44509849]\n",
      "607 [278 278 278 278 278] [ 0.46610367  0.46716702  0.48872393  0.49176398  0.49550447]\n",
      "608 [108 449 375 375 375] [ 0.48066202  0.48328814  0.48759988  0.50779516  0.51912928]\n",
      "609 [184 551 184 184 184] [ 0.50114715  0.50457299  0.52595115  0.5297026   0.52992332]\n",
      "610 [362 399 190 318 318] [ 0.35206395  0.3525072   0.35474136  0.36129883  0.38469738]\n",
      "611 [414 414 307 414 414] [ 0.46676904  0.48417008  0.48757571  0.48963165  0.4927277 ]\n",
      "612 [399 399 407 165 184] [ 0.41277424  0.41321218  0.41466868  0.4299207   0.43332359]\n",
      "613 [ 50  50 250 402 514] [ 0.32063249  0.32414868  0.33834654  0.34165397  0.37653676]\n",
      "614 [279 108 279 279 375] [ 0.46847215  0.47033662  0.47209722  0.47760373  0.49126041]\n",
      "615 [249 199 386 510 510] [ 0.34003574  0.34224084  0.34442845  0.34818283  0.35016519]\n",
      "616 [ 85 485  42  85 167] [ 0.41403794  0.41781309  0.44769144  0.45207435  0.45332259]\n",
      "617 [253 175 253 175 283] [ 0.46744901  0.46888319  0.49210185  0.50430948  0.50629056]\n",
      "618 [190 190 190 481 190] [ 0.51826805  0.52215856  0.52291226  0.5231061   0.54188138]\n",
      "619 [537 537 352 537 537] [ 0.4922533   0.50205642  0.50209391  0.51344264  0.52412152]\n",
      "620 [190 190 190 279 110] [ 0.43030828  0.43156317  0.44580573  0.4490701   0.45980144]\n",
      "621 [414 372 507 374 414] [ 0.41498405  0.42212918  0.42267767  0.43064907  0.43511757]\n",
      "622 [362 526  22 362  22] [ 0.42432034  0.42775464  0.43055907  0.43141529  0.44050851]\n",
      "623 [274 167 515 458 515] [ 0.37385088  0.37867725  0.37894085  0.39203697  0.39780244]\n",
      "624 [344 526 344 344 108] [ 0.38034633  0.38229048  0.3874726   0.40063179  0.4218449 ]\n",
      "625 [364 408  81 374 282] [ 0.41034478  0.41094464  0.42828971  0.42846018  0.43435633]\n",
      "626 [ 50 360  63 505 381] [ 0.30851555  0.31323683  0.32433853  0.33692864  0.34040573]\n",
      "627 [108  14 362 108 108] [ 0.34503418  0.34581047  0.34639537  0.3474938   0.35955504]\n",
      "628 [515 167   4  95 108] [ 0.35785073  0.36429873  0.36593583  0.366649    0.36927119]\n",
      "629 [279 280 364 279 110] [ 0.42410412  0.42733061  0.42819482  0.42921531  0.42939809]\n",
      "630 [161 498 279 279 279] [ 0.44719177  0.44726834  0.45599189  0.47289914  0.5012089 ]\n",
      "631 [486 164 212 219 486] [ 0.43002242  0.43152779  0.43376046  0.43839607  0.44532904]\n",
      "632 [108 524 528 528 183] [ 0.38824806  0.38831702  0.389018    0.39507544  0.400556  ]\n",
      "633 [506  99 407 165  22] [ 0.37039319  0.38208744  0.39534116  0.4018966   0.42111847]\n",
      "634 [521 521 279 279 279] [ 0.47844744  0.48059732  0.49526289  0.51109916  0.53467858]\n",
      "635 [397 108 397 108 278] [ 0.35545355  0.35586455  0.36066505  0.36081991  0.36736268]\n",
      "636 [151 530 530 530 381] [ 0.43000218  0.43418926  0.44161212  0.44568044  0.45176795]\n",
      "637 [278 183 183 183 183] [ 0.53410953  0.53527796  0.53635436  0.55220866  0.56339943]\n",
      "638 [391 334 391 334 391] [ 0.51839453  0.51865804  0.52131295  0.52411991  0.52541786]\n",
      "639 [167  42 140   4 468] [ 0.36853439  0.37093467  0.39025423  0.39478037  0.40206707]\n",
      "640 [108 108 108 362 108] [ 0.47509092  0.48147181  0.48391363  0.4916501   0.54347062]\n",
      "641 [121 121 268 150 150] [ 0.33175287  0.33373922  0.33641222  0.33717081  0.34650013]\n",
      "642 [108 318 318 108 108] [ 0.36045963  0.36946288  0.37683758  0.37696576  0.38733107]\n",
      "643 [58 58 58 58 58] [ 0.41232836  0.43210423  0.44425181  0.46098271  0.4655135 ]\n",
      "644 [344 278 515 192 260] [ 0.32289538  0.3232474   0.32507727  0.32943895  0.33203897]\n",
      "645 [344 108 344 514 344] [ 0.43341929  0.43584314  0.43632925  0.44416919  0.44839025]\n",
      "646 [511 252 252 219 252] [ 0.59090143  0.59546924  0.60429037  0.62941509  0.62982422]\n",
      "647 [108 391 190 279 279] [ 0.48040703  0.48397294  0.49856687  0.50569075  0.51514864]\n",
      "648 [ 18 416 414 384 372] [ 0.46463495  0.46749052  0.46804726  0.48068544  0.48390782]\n",
      "649 [279 407 295 279 295] [ 0.42553025  0.43195266  0.44209814  0.44242969  0.45555162]\n",
      "650 [374 374 372  85  85] [ 0.40176505  0.40566701  0.4101139   0.41156065  0.4286302 ]\n",
      "651 [432 391 299 108 391] [ 0.41106787  0.4212743   0.4243924   0.43159416  0.44194826]\n",
      "652 [190 391 279  72 190] [ 0.40854108  0.41351512  0.41583008  0.42011505  0.42778933]\n",
      "653 [362 334 391 515 108] [ 0.44671038  0.44750795  0.45131963  0.45280758  0.46826336]\n",
      "654 [289 515 108 515 515] [ 0.51784408  0.52762723  0.53236055  0.5392338   0.57576507]\n",
      "655 [498 374 134 279 108] [ 0.37451217  0.37636074  0.38019145  0.38459715  0.38849711]\n",
      "656 [  3 184 282   3 407] [ 0.41768485  0.42070171  0.42694142  0.42725977  0.4356117 ]\n",
      "657 [314 407 517 438 314] [ 0.34315449  0.34681812  0.35140511  0.35353488  0.36359975]\n",
      "658 [318 318 318 551 456] [ 0.39107066  0.39158317  0.39933613  0.40100461  0.42234361]\n",
      "659 [334 318 108 344 362] [ 0.43894288  0.44446811  0.44972184  0.45184794  0.47735149]\n",
      "660 [318 299 108 391 374] [ 0.41995618  0.42365631  0.43471646  0.44434631  0.44766697]\n",
      "661 [331 318  21 331 331] [ 0.45343772  0.46102229  0.46893182  0.4732793   0.47699875]\n",
      "662 [375 375 375 375 375] [ 0.50625074  0.51135355  0.51879925  0.5194301   0.53462785]\n",
      "663 [120 324 324 208  22] [ 0.39252138  0.40408564  0.40619603  0.41054955  0.41697481]\n",
      "664 [  3 137  72 137 137] [ 0.4386417   0.4522436   0.46198967  0.46708158  0.46781328]\n",
      "665 [ 22 167  85  85  85] [ 0.43862835  0.43895289  0.44877738  0.4515228   0.46151721]\n",
      "666 [374 374 184 328 407] [ 0.50833893  0.51471621  0.51908094  0.531142    0.53174925]\n",
      "667 [279  22  72 120 407] [ 0.41475803  0.41829598  0.41943941  0.41961166  0.42804566]\n",
      "668 [ 20 526 526  85  85] [ 0.36066833  0.36160439  0.36378902  0.36395821  0.39579633]\n",
      "669 [280 279 280 279 279] [ 0.45762643  0.46375406  0.46502298  0.46981248  0.48284793]\n",
      "670 [307  85 164  85  85] [ 0.47211191  0.48140648  0.49438149  0.49722794  0.5021441 ]\n",
      "671 [387 387 387 253 359] [ 0.4489848   0.47203687  0.47544834  0.48708805  0.49704096]\n",
      "672 [167   4 481 515 167] [ 0.41534579  0.42198253  0.42354611  0.43124261  0.44083226]\n",
      "673 [413 165 413 413 399] [ 0.40842196  0.41055885  0.4115299   0.42687914  0.44019935]\n",
      "674 [190 190 190 190 190] [ 0.49726668  0.5052163   0.5186621   0.53672558  0.55421907]\n",
      "675 [114 112 112 295 247] [ 0.47594428  0.47675675  0.48702383  0.49940977  0.50369084]\n",
      "676 [372 374 374 374   6] [ 0.46949825  0.48659763  0.49942255  0.51318103  0.53208518]\n",
      "677 [484 484 278 192 192] [ 0.40780666  0.40949517  0.41107076  0.41296408  0.41835818]\n",
      "678 [565 514 199 244  40] [ 0.35893062  0.35936838  0.3808414   0.38406745  0.39855242]\n",
      "679 [108 108 184 108 108] [ 0.36096138  0.36181292  0.37121204  0.37340602  0.383237  ]\n",
      "680 [391 362 318 108 515] [ 0.44615465  0.44625527  0.44866732  0.45436499  0.46104875]\n",
      "681 [108 131 375 498 108] [ 0.44228104  0.4522391   0.45592013  0.45758992  0.46631357]\n",
      "682 [278 561 278 278 387] [ 0.33202621  0.33240852  0.34730425  0.35729229  0.35750195]\n",
      "683 [108 167 167 167 515] [ 0.49507952  0.50215036  0.50364447  0.51019746  0.54549563]\n",
      "684 [ 56 512 512  50 165] [ 0.43785092  0.43812659  0.43883237  0.44196165  0.49829787]\n",
      "685 [282  99 282 374 374] [ 0.38422808  0.39131048  0.39698544  0.40116739  0.40728426]\n",
      "686 [274 116 458 318 274] [ 0.4108004   0.41608658  0.42257529  0.42439491  0.44177184]\n",
      "687 [295 331 295  22 295] [ 0.50293773  0.51363271  0.5146504   0.5256049   0.56275785]\n",
      "688 [165 407 248 248  61] [ 0.40048742  0.40487728  0.40776032  0.41378483  0.41983461]\n",
      "689 [ 98 165 418  98 418] [ 0.36645386  0.36958265  0.37371311  0.37664068  0.37805238]\n",
      "690 [418 498 278 278 318] [ 0.41888881  0.42433283  0.44160119  0.44358072  0.45654178]\n",
      "691 [526 391 108 108 108] [ 0.48099017  0.50348115  0.505413    0.51405126  0.53366339]\n",
      "692 [216 216 216  27  42] [ 0.46265042  0.46267131  0.46754828  0.46969566  0.48547325]\n",
      "693 [ 62 484 192 484 242] [ 0.43309969  0.43764186  0.43809754  0.44401368  0.47359303]\n",
      "694 [362 515 318 192 515] [ 0.36360157  0.37718242  0.38179237  0.38609865  0.41891396]\n",
      "695 [369 369 369 279 369] [ 0.57706088  0.58813703  0.59395981  0.59487951  0.62494928]\n",
      "696 [374 391 507 414 374] [ 0.41204768  0.42093593  0.42934757  0.42975277  0.43599242]\n",
      "697 [108 241 108  42   4] [ 0.45653251  0.46157971  0.46280098  0.46696436  0.50291651]\n",
      "698 [512 512 512 517 433] [ 0.37619472  0.38155615  0.38270962  0.38915366  0.39059901]\n",
      "699 [418 313 183 313 362] [ 0.397802    0.40592098  0.41711417  0.42468092  0.45246658]\n",
      "700 [190 190 190 190 190] [ 0.56083685  0.57602894  0.58919799  0.60545158  0.60999399]\n",
      "701 [318 108 318 515 413] [ 0.34179348  0.34268606  0.3518855   0.36764911  0.37602535]\n",
      "702 [120 120 120 120 120] [ 0.51142633  0.51465988  0.52101046  0.52854085  0.55747807]\n",
      "703 [149 295 476 362 374] [ 0.35769802  0.36212167  0.38269803  0.38377398  0.38623235]\n",
      "704 [393 222  85 195 169] [ 0.38982871  0.39573041  0.40814844  0.40860698  0.42586601]\n",
      "705 [102 551 102 551 456] [ 0.44998097  0.4677895   0.46894076  0.46961546  0.46969697]\n",
      "706 [324 318 190 528 108] [ 0.46503988  0.46656597  0.46693501  0.47439569  0.50690728]\n",
      "707 [160  85  42 372 192] [ 0.40890357  0.41185454  0.41581041  0.41658866  0.45052493]\n",
      "708 [126 531 283 126 283] [ 0.47298959  0.48425102  0.49805894  0.49839097  0.53145927]\n",
      "709 [340 340 280  61 280] [ 0.46058917  0.46339259  0.46365693  0.46601704  0.47145703]\n"
     ]
    }
   ],
   "source": [
    "for label in unique_unknown_labels: #для каждой неизвестной персоны\n",
    "    pers_scores = all_scores[np.where(wrong_labels == label)]\n",
    "    mean_scores = np.mean(pers_scores, axis=0)\n",
    "    best_inds = np.argpartition(mean_scores, -5)[-5:]\n",
    "    best_inds = best_inds[np.argsort(mean_scores[best_inds])]\n",
    "    #print(best_inds)\n",
    "    best_labels = labels[best_inds]\n",
    "    best_scores = mean_scores[best_inds]\n",
    "    print(label, best_labels, best_scores)\n",
    "    \n",
    "    "
   ]
  },
  {
   "cell_type": "code",
   "execution_count": 148,
   "metadata": {},
   "outputs": [
    {
     "data": {
      "text/plain": [
       "array([list([1, 2]), list([3, 4, 5])], dtype=object)"
      ]
     },
     "execution_count": 148,
     "metadata": {},
     "output_type": "execute_result"
    }
   ],
   "source": [
    "np.array([[1,2], [3,4,5]])"
   ]
  },
  {
   "cell_type": "markdown",
   "metadata": {},
   "source": [
    "#### определяем размер поиска"
   ]
  },
  {
   "cell_type": "code",
   "execution_count": 120,
   "metadata": {
    "collapsed": true
   },
   "outputs": [],
   "source": [
    "unique_known_labels = np.unique(labels)"
   ]
  },
  {
   "cell_type": "code",
   "execution_count": 151,
   "metadata": {},
   "outputs": [],
   "source": [
    "max_img_per_pers = 0\n",
    "for label in unique_known_labels:\n",
    "    n_pers = len(labels[np.where(labels==label)])\n",
    "    if n_pers > max_img_per_pers:\n",
    "        max_img_per_pers = n_pers"
   ]
  },
  {
   "cell_type": "code",
   "execution_count": 152,
   "metadata": {},
   "outputs": [
    {
     "data": {
      "text/plain": [
       "152"
      ]
     },
     "execution_count": 152,
     "metadata": {},
     "output_type": "execute_result"
    }
   ],
   "source": [
    "max_img_per_pers"
   ]
  },
  {
   "cell_type": "markdown",
   "metadata": {},
   "source": [
    "## Ищем top-n персон, похожих на каждую персону в imposter-выборке"
   ]
  },
  {
   "cell_type": "code",
   "execution_count": 133,
   "metadata": {},
   "outputs": [],
   "source": [
    "unique_unknown_labels = np.unique(wrong_labels)"
   ]
  },
  {
   "cell_type": "code",
   "execution_count": 154,
   "metadata": {},
   "outputs": [],
   "source": [
    "for label in unique_unknown_labels:\n",
    "    pers_tpe_features = wrong_tpe_features[np.where(wrong_labels == label)] # выбрали фичи каждой персоны\n",
    "    pers_indices = np.array([])\n",
    "    for feature in pers_tpe_features:\n",
    "        indices = t.get_nns_by_vector(feature, 5*max_img_per_pers)\n",
    "        pers_indices = np.append(pers_indices, indices)\n",
    "        "
   ]
  },
  {
   "cell_type": "code",
   "execution_count": null,
   "metadata": {
    "collapsed": true
   },
   "outputs": [],
   "source": []
  },
  {
   "cell_type": "code",
   "execution_count": null,
   "metadata": {
    "collapsed": true
   },
   "outputs": [],
   "source": []
  },
  {
   "cell_type": "code",
   "execution_count": null,
   "metadata": {
    "collapsed": true
   },
   "outputs": [],
   "source": []
  },
  {
   "cell_type": "code",
   "execution_count": 131,
   "metadata": {},
   "outputs": [
    {
     "data": {
      "text/plain": [
       "(34, 512)"
      ]
     },
     "execution_count": 131,
     "metadata": {},
     "output_type": "execute_result"
    }
   ],
   "source": [
    "wrong_tpe_features[np.nonzero(wrong_labels==wrong_labels[0])].shape"
   ]
  },
  {
   "cell_type": "code",
   "execution_count": 46,
   "metadata": {
    "collapsed": true
   },
   "outputs": [],
   "source": [
    "wv = wrong_tpe_features[0]"
   ]
  },
  {
   "cell_type": "code",
   "execution_count": 47,
   "metadata": {
    "collapsed": true
   },
   "outputs": [],
   "source": [
    "w_indices = t.get_nns_by_vector(wv, 10)"
   ]
  },
  {
   "cell_type": "code",
   "execution_count": 49,
   "metadata": {},
   "outputs": [
    {
     "name": "stdout",
     "output_type": "stream",
     "text": [
      "0.686537 283\n",
      "0.623115 541\n",
      "0.622217 283\n",
      "0.602612 283\n",
      "0.602293 126\n",
      "0.586456 283\n",
      "0.581604 126\n",
      "0.578093 126\n",
      "0.575806 283\n",
      "0.572738 126\n"
     ]
    }
   ],
   "source": [
    "for i in w_indices:\n",
    "    v_gt = features[i]\n",
    "    print(wv@v_gt.T, index_dict[i])"
   ]
  },
  {
   "cell_type": "code",
   "execution_count": 64,
   "metadata": {},
   "outputs": [
    {
     "data": {
      "text/plain": [
       "(512,)"
      ]
     },
     "execution_count": 64,
     "metadata": {},
     "output_type": "execute_result"
    }
   ],
   "source": [
    "features[0].shape"
   ]
  },
  {
   "cell_type": "code",
   "execution_count": 115,
   "metadata": {},
   "outputs": [],
   "source": [
    "scores = (wrong_tpe_features@features.T<0.62)"
   ]
  },
  {
   "cell_type": "code",
   "execution_count": 116,
   "metadata": {},
   "outputs": [],
   "source": [
    "anss=np.all(scores, axis=1).astype('int')"
   ]
  },
  {
   "cell_type": "code",
   "execution_count": 117,
   "metadata": {},
   "outputs": [
    {
     "data": {
      "text/plain": [
       "3755"
      ]
     },
     "execution_count": 117,
     "metadata": {},
     "output_type": "execute_result"
    }
   ],
   "source": [
    "len(wrong_labels)"
   ]
  },
  {
   "cell_type": "code",
   "execution_count": 118,
   "metadata": {},
   "outputs": [
    {
     "data": {
      "text/plain": [
       "3070"
      ]
     },
     "execution_count": 118,
     "metadata": {},
     "output_type": "execute_result"
    }
   ],
   "source": [
    "np.sum(anss)"
   ]
  },
  {
   "cell_type": "code",
   "execution_count": 119,
   "metadata": {},
   "outputs": [
    {
     "data": {
      "text/plain": [
       "0.81757656458055927"
      ]
     },
     "execution_count": 119,
     "metadata": {},
     "output_type": "execute_result"
    }
   ],
   "source": [
    "np.sum(anss)/len(wrong_labels)"
   ]
  },
  {
   "cell_type": "code",
   "execution_count": 58,
   "metadata": {},
   "outputs": [
    {
     "data": {
      "text/plain": [
       "19447"
      ]
     },
     "execution_count": 58,
     "metadata": {},
     "output_type": "execute_result"
    }
   ],
   "source": [
    "len(labels)"
   ]
  },
  {
   "cell_type": "code",
   "execution_count": 59,
   "metadata": {},
   "outputs": [
    {
     "data": {
      "text/plain": [
       "[355,\n",
       " 355,\n",
       " 355,\n",
       " 355,\n",
       " 355,\n",
       " 355,\n",
       " 355,\n",
       " 355,\n",
       " 355,\n",
       " 355,\n",
       " 355,\n",
       " 355,\n",
       " 355,\n",
       " 355,\n",
       " 355,\n",
       " 355,\n",
       " 355,\n",
       " 355,\n",
       " 355,\n",
       " 355,\n",
       " 355,\n",
       " 355,\n",
       " 355,\n",
       " 355,\n",
       " 355,\n",
       " 355,\n",
       " 355,\n",
       " 14,\n",
       " 14,\n",
       " 14,\n",
       " 14,\n",
       " 14,\n",
       " 14,\n",
       " 14,\n",
       " 14,\n",
       " 14,\n",
       " 14,\n",
       " 194,\n",
       " 194,\n",
       " 35,\n",
       " 386,\n",
       " 386,\n",
       " 386,\n",
       " 386,\n",
       " 386,\n",
       " 386,\n",
       " 353,\n",
       " 353,\n",
       " 353,\n",
       " 353,\n",
       " 353,\n",
       " 353,\n",
       " 353,\n",
       " 201,\n",
       " 201,\n",
       " 53,\n",
       " 334,\n",
       " 334,\n",
       " 148,\n",
       " 148,\n",
       " 209,\n",
       " 209,\n",
       " 173,\n",
       " 173,\n",
       " 173,\n",
       " 173,\n",
       " 173,\n",
       " 173,\n",
       " 173,\n",
       " 173,\n",
       " 281,\n",
       " 468,\n",
       " 468,\n",
       " 138,\n",
       " 138,\n",
       " 138,\n",
       " 138,\n",
       " 138,\n",
       " 138,\n",
       " 138,\n",
       " 138,\n",
       " 138,\n",
       " 138,\n",
       " 138,\n",
       " 275,\n",
       " 275,\n",
       " 275,\n",
       " 275,\n",
       " 275,\n",
       " 275,\n",
       " 275,\n",
       " 275,\n",
       " 275,\n",
       " 275,\n",
       " 275,\n",
       " 318,\n",
       " 402,\n",
       " 402,\n",
       " 402,\n",
       " 411,\n",
       " 351,\n",
       " 351,\n",
       " 351,\n",
       " 351,\n",
       " 351,\n",
       " 351,\n",
       " 351,\n",
       " 351,\n",
       " 351,\n",
       " 351,\n",
       " 351,\n",
       " 351,\n",
       " 351,\n",
       " 351,\n",
       " 351,\n",
       " 351,\n",
       " 351,\n",
       " 351,\n",
       " 351,\n",
       " 351,\n",
       " 351,\n",
       " 351,\n",
       " 351,\n",
       " 351,\n",
       " 351,\n",
       " 351,\n",
       " 351,\n",
       " 498,\n",
       " 498,\n",
       " 47,\n",
       " 47,\n",
       " 18,\n",
       " 458,\n",
       " 471,\n",
       " 471,\n",
       " 471,\n",
       " 471,\n",
       " 471,\n",
       " 471,\n",
       " 471,\n",
       " 542,\n",
       " 542,\n",
       " 542,\n",
       " 542,\n",
       " 542,\n",
       " 557,\n",
       " 557,\n",
       " 83,\n",
       " 83,\n",
       " 83,\n",
       " 83,\n",
       " 83,\n",
       " 83,\n",
       " 83,\n",
       " 83,\n",
       " 83,\n",
       " 83,\n",
       " 83,\n",
       " 302,\n",
       " 456,\n",
       " 406,\n",
       " 406,\n",
       " 406,\n",
       " 406,\n",
       " 406,\n",
       " 406,\n",
       " 406,\n",
       " 487,\n",
       " 487,\n",
       " 487,\n",
       " 197,\n",
       " 197,\n",
       " 497,\n",
       " 497,\n",
       " 497,\n",
       " 497,\n",
       " 497,\n",
       " 497,\n",
       " 395,\n",
       " 135,\n",
       " 135,\n",
       " 135,\n",
       " 135,\n",
       " 393,\n",
       " 393,\n",
       " 393,\n",
       " 393,\n",
       " 393,\n",
       " 393,\n",
       " 393,\n",
       " 393,\n",
       " 393,\n",
       " 393,\n",
       " 393,\n",
       " 393,\n",
       " 393,\n",
       " 393,\n",
       " 393,\n",
       " 393,\n",
       " 393,\n",
       " 393,\n",
       " 393,\n",
       " 393,\n",
       " 393,\n",
       " 393,\n",
       " 112,\n",
       " 112,\n",
       " 112,\n",
       " 112,\n",
       " 112,\n",
       " 112,\n",
       " 112,\n",
       " 325,\n",
       " 325,\n",
       " 325,\n",
       " 325,\n",
       " 325,\n",
       " 325,\n",
       " 325,\n",
       " 325,\n",
       " 325,\n",
       " 258,\n",
       " 258,\n",
       " 258,\n",
       " 258,\n",
       " 258,\n",
       " 84,\n",
       " 84,\n",
       " 84,\n",
       " 84,\n",
       " 84,\n",
       " 84,\n",
       " 65,\n",
       " 65,\n",
       " 89,\n",
       " 89,\n",
       " 89,\n",
       " 89,\n",
       " 89,\n",
       " 89,\n",
       " 506,\n",
       " 408,\n",
       " 408,\n",
       " 408,\n",
       " 408,\n",
       " 408,\n",
       " 408,\n",
       " 408,\n",
       " 408,\n",
       " 408,\n",
       " 408,\n",
       " 408,\n",
       " 408,\n",
       " 504,\n",
       " 504,\n",
       " 504,\n",
       " 504,\n",
       " 504,\n",
       " 504,\n",
       " 76,\n",
       " 76,\n",
       " 533,\n",
       " 20,\n",
       " 67,\n",
       " 187,\n",
       " 187,\n",
       " 187,\n",
       " 187,\n",
       " 187,\n",
       " 42,\n",
       " 42,\n",
       " 42,\n",
       " 42,\n",
       " 42,\n",
       " 42,\n",
       " 42,\n",
       " 42,\n",
       " 42,\n",
       " 42,\n",
       " 42,\n",
       " 42,\n",
       " 42,\n",
       " 42,\n",
       " 42,\n",
       " 42,\n",
       " 42,\n",
       " 42,\n",
       " 42,\n",
       " 42,\n",
       " 42,\n",
       " 42,\n",
       " 42,\n",
       " 42,\n",
       " 42,\n",
       " 42,\n",
       " 42,\n",
       " 42,\n",
       " 42,\n",
       " 42,\n",
       " 42,\n",
       " 42,\n",
       " 42,\n",
       " 42,\n",
       " 42,\n",
       " 42,\n",
       " 296,\n",
       " 296,\n",
       " 296,\n",
       " 296,\n",
       " 296,\n",
       " 296,\n",
       " 515,\n",
       " 515,\n",
       " 515,\n",
       " 383,\n",
       " 205,\n",
       " 378,\n",
       " 82,\n",
       " 311,\n",
       " 311,\n",
       " 177,\n",
       " 12,\n",
       " 459,\n",
       " 459,\n",
       " 186,\n",
       " 206,\n",
       " 532,\n",
       " 532,\n",
       " 410,\n",
       " 410,\n",
       " 436,\n",
       " 426,\n",
       " 426,\n",
       " 426,\n",
       " 426,\n",
       " 426,\n",
       " 426,\n",
       " 426,\n",
       " 426,\n",
       " 426,\n",
       " 426,\n",
       " 426,\n",
       " 426,\n",
       " 426,\n",
       " 426,\n",
       " 426,\n",
       " 426,\n",
       " 426,\n",
       " 426,\n",
       " 426,\n",
       " 426,\n",
       " 426,\n",
       " 299,\n",
       " 236,\n",
       " 236,\n",
       " 236,\n",
       " 236,\n",
       " 236,\n",
       " 236,\n",
       " 90,\n",
       " 371,\n",
       " 143,\n",
       " 143,\n",
       " 9,\n",
       " 453,\n",
       " 174,\n",
       " 174,\n",
       " 174,\n",
       " 174,\n",
       " 394,\n",
       " 394,\n",
       " 154,\n",
       " 484,\n",
       " 484,\n",
       " 484,\n",
       " 484,\n",
       " 147,\n",
       " 147,\n",
       " 147,\n",
       " 68,\n",
       " 68,\n",
       " 68,\n",
       " 68,\n",
       " 68,\n",
       " 68,\n",
       " 68,\n",
       " 68,\n",
       " 68,\n",
       " 68,\n",
       " 68,\n",
       " 68,\n",
       " 68,\n",
       " 68,\n",
       " 68,\n",
       " 68,\n",
       " 68,\n",
       " 68,\n",
       " 68,\n",
       " 68,\n",
       " 68,\n",
       " 68,\n",
       " 68,\n",
       " 68,\n",
       " 68,\n",
       " 68,\n",
       " 242,\n",
       " 242,\n",
       " 242,\n",
       " 242,\n",
       " 242,\n",
       " 242,\n",
       " 242,\n",
       " 242,\n",
       " 242,\n",
       " 242,\n",
       " 242,\n",
       " 242,\n",
       " 242,\n",
       " 242,\n",
       " 242,\n",
       " 242,\n",
       " 528,\n",
       " 528,\n",
       " 528,\n",
       " 528,\n",
       " 267,\n",
       " 267,\n",
       " 267,\n",
       " 95,\n",
       " 422,\n",
       " 422,\n",
       " 422,\n",
       " 422,\n",
       " 183,\n",
       " 183,\n",
       " 114,\n",
       " 114,\n",
       " 114,\n",
       " 114,\n",
       " 556,\n",
       " 265,\n",
       " 265,\n",
       " 265,\n",
       " 454,\n",
       " 454,\n",
       " 454,\n",
       " 317,\n",
       " 317,\n",
       " 317,\n",
       " 466,\n",
       " 266,\n",
       " 266,\n",
       " 26,\n",
       " 26,\n",
       " 26,\n",
       " 26,\n",
       " 26,\n",
       " 26,\n",
       " 26,\n",
       " 26,\n",
       " 26,\n",
       " 26,\n",
       " 26,\n",
       " 26,\n",
       " 85,\n",
       " 85,\n",
       " 85,\n",
       " 85,\n",
       " 85,\n",
       " 69,\n",
       " 69,\n",
       " 69,\n",
       " 247,\n",
       " 247,\n",
       " 332,\n",
       " 332,\n",
       " 59,\n",
       " 59,\n",
       " 59,\n",
       " 516,\n",
       " 94,\n",
       " 94,\n",
       " 94,\n",
       " 534,\n",
       " 534,\n",
       " 534,\n",
       " 534,\n",
       " 534,\n",
       " 534,\n",
       " 534,\n",
       " 534,\n",
       " 534,\n",
       " 534,\n",
       " 534,\n",
       " 534,\n",
       " 534,\n",
       " 534,\n",
       " 534,\n",
       " 534,\n",
       " 480,\n",
       " 480,\n",
       " 480,\n",
       " 480,\n",
       " 480,\n",
       " 480,\n",
       " 480,\n",
       " 365,\n",
       " 365,\n",
       " 365,\n",
       " 365,\n",
       " 365,\n",
       " 365,\n",
       " 365,\n",
       " 365,\n",
       " 365,\n",
       " 365,\n",
       " 365,\n",
       " 365,\n",
       " 124,\n",
       " 49,\n",
       " 274,\n",
       " 274,\n",
       " 274,\n",
       " 274,\n",
       " 274,\n",
       " 274,\n",
       " 274,\n",
       " 274,\n",
       " 274,\n",
       " 274,\n",
       " 274,\n",
       " 274,\n",
       " 403,\n",
       " 160,\n",
       " 160,\n",
       " 160,\n",
       " 160,\n",
       " 220,\n",
       " 220,\n",
       " 538,\n",
       " 538,\n",
       " 543,\n",
       " 372,\n",
       " 372,\n",
       " 372,\n",
       " 372,\n",
       " 17,\n",
       " 460,\n",
       " 460,\n",
       " 460,\n",
       " 460,\n",
       " 460,\n",
       " 443,\n",
       " 482,\n",
       " 482,\n",
       " 44,\n",
       " 477,\n",
       " 477,\n",
       " 477,\n",
       " 477,\n",
       " 192,\n",
       " 192,\n",
       " 192,\n",
       " 192,\n",
       " 192,\n",
       " 192,\n",
       " 192,\n",
       " 192,\n",
       " 192,\n",
       " 192,\n",
       " 192,\n",
       " 192,\n",
       " 192,\n",
       " 192,\n",
       " 192,\n",
       " 192,\n",
       " 202,\n",
       " 339,\n",
       " 239,\n",
       " 239,\n",
       " 239,\n",
       " 239,\n",
       " 239,\n",
       " 239,\n",
       " 239,\n",
       " 239,\n",
       " 239,\n",
       " 239,\n",
       " 239,\n",
       " 239,\n",
       " 239,\n",
       " 239,\n",
       " 239,\n",
       " 239,\n",
       " 239,\n",
       " 239,\n",
       " 239,\n",
       " 239,\n",
       " 239,\n",
       " 239,\n",
       " 239,\n",
       " 239,\n",
       " 239,\n",
       " 239,\n",
       " 328,\n",
       " 245,\n",
       " 283,\n",
       " 283,\n",
       " 283,\n",
       " 283,\n",
       " 283,\n",
       " 283,\n",
       " 283,\n",
       " 283,\n",
       " 283,\n",
       " 93,\n",
       " 93,\n",
       " 551,\n",
       " 475,\n",
       " 475,\n",
       " 374,\n",
       " 374,\n",
       " 132,\n",
       " 132,\n",
       " 132,\n",
       " 132,\n",
       " 132,\n",
       " 132,\n",
       " 132,\n",
       " 132,\n",
       " 132,\n",
       " 132,\n",
       " 132,\n",
       " 132,\n",
       " 132,\n",
       " 132,\n",
       " 132,\n",
       " 132,\n",
       " 132,\n",
       " 132,\n",
       " 178,\n",
       " 260,\n",
       " 30,\n",
       " 30,\n",
       " 225,\n",
       " 198,\n",
       " 309,\n",
       " 309,\n",
       " 309,\n",
       " 309,\n",
       " 309,\n",
       " 309,\n",
       " 469]"
      ]
     },
     "execution_count": 59,
     "metadata": {},
     "output_type": "execute_result"
    }
   ],
   "source": [
    "ans"
   ]
  },
  {
   "cell_type": "code",
   "execution_count": 60,
   "metadata": {},
   "outputs": [
    {
     "data": {
      "text/plain": [
       "624"
      ]
     },
     "execution_count": 60,
     "metadata": {},
     "output_type": "execute_result"
    }
   ],
   "source": [
    "653-29"
   ]
  },
  {
   "cell_type": "code",
   "execution_count": 61,
   "metadata": {},
   "outputs": [
    {
     "data": {
      "text/plain": [
       "18823"
      ]
     },
     "execution_count": 61,
     "metadata": {},
     "output_type": "execute_result"
    }
   ],
   "source": [
    "19447-624"
   ]
  },
  {
   "cell_type": "code",
   "execution_count": 62,
   "metadata": {},
   "outputs": [
    {
     "data": {
      "text/plain": [
       "0.9679127886049262"
      ]
     },
     "execution_count": 62,
     "metadata": {},
     "output_type": "execute_result"
    }
   ],
   "source": [
    "18823/19447"
   ]
  },
  {
   "cell_type": "code",
   "execution_count": null,
   "metadata": {
    "collapsed": true
   },
   "outputs": [],
   "source": []
  }
 ],
 "metadata": {
  "kernelspec": {
   "display_name": "Python 3",
   "language": "python",
   "name": "python3"
  },
  "language_info": {
   "codemirror_mode": {
    "name": "ipython",
    "version": 3
   },
   "file_extension": ".py",
   "mimetype": "text/x-python",
   "name": "python",
   "nbconvert_exporter": "python",
   "pygments_lexer": "ipython3",
   "version": "3.5.2"
  }
 },
 "nbformat": 4,
 "nbformat_minor": 2
}
