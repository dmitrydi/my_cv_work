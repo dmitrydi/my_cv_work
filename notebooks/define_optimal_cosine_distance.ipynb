{
 "cells": [
  {
   "cell_type": "code",
   "execution_count": 1,
   "metadata": {
    "collapsed": true
   },
   "outputs": [],
   "source": [
    "import sys\n",
    "import os\n",
    "sys.path.insert(0, '../verificator')"
   ]
  },
  {
   "cell_type": "code",
   "execution_count": 2,
   "metadata": {
    "collapsed": true
   },
   "outputs": [],
   "source": [
    "os.environ[\"CUDA_VISIBLE_DEVICES\"]=\"1\""
   ]
  },
  {
   "cell_type": "code",
   "execution_count": 3,
   "metadata": {
    "collapsed": true
   },
   "outputs": [],
   "source": [
    "video_path = '/home/shareduser/d_test/data/videos/cam_2'\n",
    "img_saving_path = '/home/shareduser/d_test/data/pics/cam_2_thr_0.5'\n",
    "emb_saving_path ='/home/shareduser/d_test/data/models/embeddings'\n",
    "numpy_saving_path = os.path.join(img_saving_path, 'deep_sort_features')"
   ]
  },
  {
   "cell_type": "code",
   "execution_count": 7,
   "metadata": {
    "collapsed": true
   },
   "outputs": [],
   "source": [
    "build_path = '/home/shareduser/d_test/data/models/yolo_init_config'\n",
    "weights = os.path.join(build_path, 'bin', 'yolo.weights')\n",
    "model = os.path.join(build_path, 'cfg', 'yolo-people.cfg')\n",
    "cfg = os.path.join(build_path, 'cfg')\n",
    "labels = os.path.join(build_path, 'labels.txt')\n",
    "trained_model_path = '/home/shareduser/d_test/data/models/darkflow_retrain_all_imgs/full_data'\n",
    "deep_sort_model_path = '../verificator/verificator/deep_sort/resources/networks/mars-small128.ckpt-68577'"
   ]
  },
  {
   "cell_type": "code",
   "execution_count": 5,
   "metadata": {
    "collapsed": true
   },
   "outputs": [],
   "source": [
    "from verificator.feature_extractor import DeepSortExtractor"
   ]
  },
  {
   "cell_type": "code",
   "execution_count": 8,
   "metadata": {},
   "outputs": [
    {
     "name": "stdout",
     "output_type": "stream",
     "text": [
      "feature dimensionality:  128\n"
     ]
    }
   ],
   "source": [
    "encoder = DeepSortExtractor(deep_sort_model_path)"
   ]
  },
  {
   "cell_type": "code",
   "execution_count": 10,
   "metadata": {
    "collapsed": true
   },
   "outputs": [],
   "source": [
    "list_of_pers_dirs = [os.path.join(img_saving_path, p) for p in os.listdir(img_saving_path) if 'e' not in p]"
   ]
  },
  {
   "cell_type": "code",
   "execution_count": 14,
   "metadata": {
    "collapsed": true
   },
   "outputs": [],
   "source": [
    "import numpy as np\n",
    "from sklearn.metrics.pairwise import cosine_distances\n",
    "import cv2"
   ]
  },
  {
   "cell_type": "code",
   "execution_count": null,
   "metadata": {
    "collapsed": true
   },
   "outputs": [],
   "source": [
    "results = {}\n",
    "for pers_dir in list_of_pers_dirs:\n",
    "    features = None\n",
    "    for img in os.listdir(pers_dir):\n",
    "        img_ary = cv2.imread(os.path.join(pers_dir, img))\n",
    "        #print(img_ary.shape)\n",
    "        feature = encoder.encode(img_ary)\n",
    "        #print(feature.shape)\n",
    "        if features is None:\n",
    "            features = feature\n",
    "        else:\n",
    "            features = np.concatenate((features, feature))\n",
    "    dists = cosine_distances(features)\n",
    "    results[os.path.basename(pers_dir)] = np.max(dists)"
   ]
  },
  {
   "cell_type": "code",
   "execution_count": 26,
   "metadata": {},
   "outputs": [],
   "source": [
    "maxdist = max(results.values())"
   ]
  },
  {
   "cell_type": "code",
   "execution_count": 27,
   "metadata": {},
   "outputs": [
    {
     "name": "stdout",
     "output_type": "stream",
     "text": [
      "978\n"
     ]
    }
   ],
   "source": [
    "for k,v in results.items():\n",
    "    if v == maxdist:\n",
    "        print(k)"
   ]
  },
  {
   "cell_type": "code",
   "execution_count": null,
   "metadata": {
    "collapsed": true
   },
   "outputs": [],
   "source": []
  }
 ],
 "metadata": {
  "kernelspec": {
   "display_name": "Python 3",
   "language": "python",
   "name": "python3"
  },
  "language_info": {
   "codemirror_mode": {
    "name": "ipython",
    "version": 3
   },
   "file_extension": ".py",
   "mimetype": "text/x-python",
   "name": "python",
   "nbconvert_exporter": "python",
   "pygments_lexer": "ipython3",
   "version": "3.5.2"
  }
 },
 "nbformat": 4,
 "nbformat_minor": 2
}
