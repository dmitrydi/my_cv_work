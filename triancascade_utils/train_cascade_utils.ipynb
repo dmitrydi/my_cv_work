{
 "cells": [
  {
   "cell_type": "markdown",
   "metadata": {},
   "source": [
    "# Утилиты для подготовки данных к обучению каскадов"
   ]
  },
  {
   "cell_type": "code",
   "execution_count": 1,
   "metadata": {
    "collapsed": true
   },
   "outputs": [],
   "source": [
    "import cv2\n",
    "import os\n",
    "import msvcrt\n",
    "import numpy as np\n",
    "from skimage.feature import local_binary_pattern"
   ]
  },
  {
   "cell_type": "code",
   "execution_count": 2,
   "metadata": {
    "collapsed": true
   },
   "outputs": [],
   "source": [
    "def safe_write_image(img, dirname, filename, extention='.jpg'):\n",
    "# сохраняет изображение img в папку dirname под именем filename с расширением extention. Если такой файл уже есть, то\n",
    "# добавляет к этому имени '_n' - номер [0..99]\n",
    "    double_counter = 0\n",
    "    MAX_TRY = 100\n",
    "    try_name = dirname+filename+extention\n",
    "    for _ in range(MAX_TRY):\n",
    "        if os.path.isfile(try_name):\n",
    "            try_name = dirname+filename+'_'+str(double_counter)+extention\n",
    "        else:\n",
    "            cv2.imwrite(try_name, img)\n",
    "            return\n",
    "            "
   ]
  },
  {
   "cell_type": "code",
   "execution_count": 3,
   "metadata": {
    "collapsed": true
   },
   "outputs": [],
   "source": [
    "def cut_images_from_video(source_video_folder, dest_folder, extentions_list, scale_window = (1,1), wait = 20):\n",
    "# утилита для нарезки кадров из видео\n",
    "# source_video_folder - папка с видео\n",
    "# dest_folder - папка, куда складывать файлы\n",
    "# extentions_list - перечень расширений файлов, которые будут обрабатываться\n",
    "# scale_window - масштабирование окна для показа видео\n",
    "    if not os.path.exists(source_video_folder):\n",
    "        raise OSError('source path does not exist')\n",
    "\n",
    "    if not os.path.exists(dest_folder):\n",
    "        os.makedirs(dest_folder)\n",
    "    \n",
    "    cntr = 0\n",
    "    \n",
    "    for file in os.listdir(source_video_folder):\n",
    "        flag = False\n",
    "\n",
    "        for ext in extentions_list:\n",
    "            flag = flag or os.fsdecode(file).endswith(ext)\n",
    "\n",
    "        if flag:\n",
    "            camera = cv2.VideoCapture(source_video_folder+file)\n",
    "            \n",
    "            while(1):\n",
    "                ret, img = camera.read()\n",
    "                \n",
    "                if not ret:\n",
    "                    camera.release()\n",
    "                    cv2.destroyAllWindows()\n",
    "                    break\n",
    "                    \n",
    "                shapes = img.shape\n",
    "                cv2.namedWindow('image', cv2.WINDOW_NORMAL)\n",
    "                cv2.resizeWindow('image', int(shapes[1]*scale_window[1]),int(shapes[0]*scale_window[0]))\n",
    "                cv2.imshow('image', img)\n",
    "                interrupt = cv2.waitKey(wait)\n",
    "                if interrupt & 0xFF == ord('q') or interrupt & 0xFF == ord('n'):\n",
    "                    break\n",
    "                \n",
    "                if interrupt & 0xFF == ord('c'):\n",
    "                    safe_write_image(img, dest_folder, 'img_'+str(cntr))\n",
    "                    cntr+=1\n",
    "                    \n",
    "        if interrupt & 0xFF == ord('q'):\n",
    "            break\n",
    "            \n",
    "    camera.release()\n",
    "    cv2.destroyAllWindows()\n",
    "    \n"
   ]
  },
  {
   "cell_type": "code",
   "execution_count": 4,
   "metadata": {
    "collapsed": true
   },
   "outputs": [],
   "source": [
    "cv2.destroyAllWindows()"
   ]
  },
  {
   "cell_type": "code",
   "execution_count": null,
   "metadata": {
    "collapsed": true
   },
   "outputs": [],
   "source": [
    "source_video_folder = 'C:/my_cv_work/data/long/'\n",
    "dest_folder = 'C:/my_cv_work/data/pics/long_file_scr/'\n",
    "extentions_list = ['.avi']\n",
    "scales = (1,1)\n",
    "#cut_images_from_video(source_video_folder, dest_folder, extentions_list, scale_window = scales, wait = 10)"
   ]
  },
  {
   "cell_type": "code",
   "execution_count": 5,
   "metadata": {
    "collapsed": true
   },
   "outputs": [],
   "source": [
    "def cut_positive_sample(source_folder, dest_folder, name_template, extentions_list, ext, log_file = 'cut_log.txt'):\n",
    "# утилита для вырезки положительных примеров из исходных изображений\n",
    "#\n",
    "# source_folder - папка с исходными изображениями\n",
    "# dest_folder - папка, куда складывать нарезанные файлы\n",
    "# name_template - шаблон имени файла\n",
    "# extensions_list - список расширений файлов, которые будут обрабатываться: ['.jpg', ...]\n",
    "# ext - расширение сохраняемых изображений: '.jpg'\n",
    "    if not os.path.exists(source_folder):\n",
    "        raise OSError('source path does not exist')\n",
    "\n",
    "    if not os.path.exists(dest_folder):\n",
    "        os.makedirs(dest_folder)\n",
    "        \n",
    "    # cut_files - перечень файлов в папке source_folder, которые уже были обработаны. Повторно не обрабатываются\n",
    "    # чтобы пройти по новой, нужно удалить имена обработанных файлов из файла log_file\n",
    "    cut_files = []\n",
    "    if os.path.isfile(source_folder+log_file):\n",
    "        with open(source_folder+log_file) as f:\n",
    "            content = f.readlines()\n",
    "            cut_files = [x.rstrip() for x in content]\n",
    "\n",
    "    with open(source_folder+log_file, 'a') as f:\n",
    "        fcounter = 0\n",
    "        from_center = False\n",
    "\n",
    "        for file in os.listdir(source_folder):\n",
    "            flag = False\n",
    "\n",
    "            for ext in extentions_list:\n",
    "                flag = flag or os.fsdecode(file).endswith(ext)\n",
    "\n",
    "            if (not file in cut_files) and flag:\n",
    "                img = cv2.imread(source_folder + file)\n",
    "                f.write(file+'\\n')\n",
    "\n",
    "                while(True):\n",
    "                    r = cv2.selectROI('win_roi', img, from_center)\n",
    "                    if r == (0,0,0,0):\n",
    "                        break\n",
    "                    imCrop = img[int(r[1]):int(r[1]+r[3]), int(r[0]):int(r[0]+r[2])]\n",
    "                    fcounter += 1\n",
    "                    safe_write_image(imCrop,dest_folder,'sample_'+str(fcounter),'.jpg')\n",
    "\n",
    "            interrupt = cv2.waitKey()\n",
    "\n",
    "            if interrupt & 0xFF == ord('q'):\n",
    "                break\n",
    "                                \n",
    "    cv2.destroyAllWindows()\n"
   ]
  },
  {
   "cell_type": "code",
   "execution_count": 6,
   "metadata": {
    "collapsed": true
   },
   "outputs": [],
   "source": [
    "def cut_sample_and_delete(\n",
    "    background_img, source_folder, dest_folder, cut_background_folder, \\\n",
    "    name_template, extentions_list, ext, log_file = 'cut_log.txt'\n",
    "):\n",
    "# вырезает сэмплы из изображений и заменяет их на те же участки из подложки background_image\n",
    "# background_img - изображение - подложка\n",
    "# source_folder - папка с исходными изображениями\n",
    "# dest_folder - папка, куда складывать нарезанные файлы\n",
    "# cut_background_folder - папка для изображений с удаленными положительными примерами\n",
    "# name_template - шаблон имени файла\n",
    "# extensions_list - список расширений файлов, которые будут обрабатываться: ['.jpg', ...]\n",
    "# ext - расширение сохраняемых изображений: '.jpg'\n",
    "    if not os.path.exists(source_folder):\n",
    "        raise OSError('source path does not exist')\n",
    "\n",
    "    if not os.path.exists(dest_folder):\n",
    "        os.makedirs(dest_folder)\n",
    "        \n",
    "    if not os.path.exists(cut_background_folder):\n",
    "        os.makedirs(cut_background_folder)\n",
    "        \n",
    "    # cut_files - перечень файлов в папке source_folder, которые уже были обработаны. Повторно не обрабатываются\n",
    "    # чтобы пройти по новой, нужно удалить имена обработанных файлов из файла log_file\n",
    "    cut_files = []\n",
    "    \n",
    "    # читаем изображение-подложку\n",
    "    bg_img = cv2.imread(background_img)\n",
    "    \n",
    "    if os.path.isfile(source_folder+log_file):\n",
    "        with open(source_folder+log_file) as f:\n",
    "            content = f.readlines()\n",
    "            cut_files = [x.rstrip() for x in content]\n",
    "\n",
    "    with open(source_folder+log_file, 'a') as f:\n",
    "        fcounter = 0\n",
    "        dcntr = 0\n",
    "        from_center = False\n",
    "\n",
    "        for file in os.listdir(source_folder):\n",
    "            flag = False\n",
    "\n",
    "            for ext in extentions_list:\n",
    "                flag = flag or os.fsdecode(file).endswith(ext)\n",
    "\n",
    "            if (not file in cut_files) and flag:\n",
    "                img = cv2.imread(source_folder + file)\n",
    "                mod_img = img.copy()\n",
    "                f.write(file+'\\n')\n",
    "                \n",
    "                cflag = False\n",
    "\n",
    "                while(True):\n",
    "                    r = cv2.selectROI('win_roi', img, from_center)\n",
    "                    if r == (0,0,0,0):\n",
    "                        if cflag:\n",
    "                            safe_write_image(mod_img, cut_background_folder, 'del_img'+str(dcntr), '.jpg')\n",
    "                        dcntr += 1\n",
    "                        break\n",
    "                    imCrop = img[int(r[1]):int(r[1]+r[3]), int(r[0]):int(r[0]+r[2])]\n",
    "                    imCrop_bg = bg_img[int(r[1]):int(r[1]+r[3]), int(r[0]):int(r[0]+r[2])]\n",
    "                    mod_img[int(r[1]):int(r[1]+r[3]), int(r[0]):int(r[0]+r[2])] = imCrop_bg\n",
    "                    fcounter += 1\n",
    "                    cflag = True\n",
    "                    safe_write_image(imCrop,dest_folder,'sample_'+str(fcounter),'.jpg')\n",
    "\n",
    "            interrupt = cv2.waitKey()\n",
    "\n",
    "            if interrupt & 0xFF == ord('q'):\n",
    "                break\n",
    "                                \n",
    "    cv2.destroyAllWindows() "
   ]
  },
  {
   "cell_type": "code",
   "execution_count": 8,
   "metadata": {
    "collapsed": true
   },
   "outputs": [],
   "source": [
    "background_img = 'C:/my_cv_work/data/pics/long_file_scr/img_115.jpg'\n",
    "source_folder = 'C:/my_cv_work/data/pics/long_file_scr/'\n",
    "dest_folder = 'C:/my_cv_work/data/pics/heads_high_quality/'\n",
    "cut_background_folder = 'C:/my_cv_work/data/pics/heads_high_quality/for_bg/'\n",
    "name_template = 'img_'\n",
    "extentions_list = ['.jpg']\n",
    "ext = '.jpg'\n",
    "\n",
    "cut_sample_and_delete(\n",
    "    background_img, source_folder, dest_folder, cut_background_folder, \\\n",
    "    name_template, extentions_list, ext, log_file = 'cut_log.txt'\n",
    ")"
   ]
  },
  {
   "cell_type": "code",
   "execution_count": null,
   "metadata": {
    "collapsed": true,
    "scrolled": true
   },
   "outputs": [],
   "source": [
    "# source_folder = 'C:/my_cv_work/data/pics/cam_1_src/'\n",
    "# dest_folder = 'C:/my_cv_work/data/pics/heads/'\n",
    "# name_template = 'img_'\n",
    "# extentions_list = ['.jpg']\n",
    "# ext = '.jpg'\n",
    "# cut_positive_sample(source_folder, dest_folder, name_template, extentions_list, ext, log_file = 'cut_log.txt')"
   ]
  },
  {
   "cell_type": "code",
   "execution_count": 134,
   "metadata": {
    "collapsed": true
   },
   "outputs": [],
   "source": [
    "def cut_region_from_collection(source_folder, dest_folder, extentions_list, name_template, roi_file = 'roi.txt', ext='.jpg'):\n",
    "# вырезает выделенную область из коллекции изображений и сохраняет их в DEST_FOLDER\n",
    "    if not os.path.exists(dest_folder):\n",
    "        os.makedirs(dest_folder)\n",
    "        \n",
    "    from_center = False\n",
    "        \n",
    "    # выбор изображения для вырезки области\n",
    "    for file in os.listdir(source_folder):\n",
    "        flag = False\n",
    "\n",
    "        for ext in extentions_list:\n",
    "            flag = flag or os.fsdecode(file).endswith(ext)\n",
    "            \n",
    "        if flag:\n",
    "            img = cv2.imread(source_folder+file)\n",
    "            r = cv2.selectROI('roi', img, from_center)\n",
    "            if r == (0,0,0,0):\n",
    "                continue\n",
    "            else:\n",
    "                with open(dest_folder+roi_file, 'w') as f:\n",
    "                    f.write('{} \\n'.format(img.shape))\n",
    "                    f.write('{} \\n'.format((int(r[1]),int(r[1]+r[3]),int(r[0]),int(r[0]+r[2]))))\n",
    "                cv2.destroyWindow('roi')\n",
    "                break\n",
    "                \n",
    "    fcounter = 0                        \n",
    "    for file in os.listdir(source_folder):\n",
    "        flag = False\n",
    "\n",
    "        for ext in extentions_list:\n",
    "            flag = flag or os.fsdecode(file).endswith(ext)\n",
    "            \n",
    "        if flag:\n",
    "            img = cv2.imread(source_folder+file)\n",
    "            cimg = img[int(r[1]):int(r[1]+r[3]), int(r[0]):int(r[0]+r[2])]\n",
    "            safe_write_image(cimg, dest_folder, name_template+str(fcounter), ext)\n",
    "            fcounter += 1"
   ]
  },
  {
   "cell_type": "code",
   "execution_count": 135,
   "metadata": {
    "collapsed": true
   },
   "outputs": [],
   "source": [
    "source_folder = 'C:/my_cv_work/data/pics/heads_2/noheads/'\n",
    "dest_folder = 'C:/my_cv_work/data/pics/heads_2/noheads/model_roi/'\n",
    "extentions_list = ['.jpg']\n",
    "name_template = 'roi_'\n",
    "cut_region_from_collection(source_folder, dest_folder, extentions_list, name_template)"
   ]
  },
  {
   "cell_type": "code",
   "execution_count": 101,
   "metadata": {
    "collapsed": true
   },
   "outputs": [],
   "source": [
    "# source_folder = 'C:/my_cv_work/data/pics/heads_2/noheads/test_cutter/'\n",
    "# dest_folder = 'C:/my_cv_work/data/pics/heads_2/noheads/test_cutter/roi/'\n",
    "# extentions_list = ['.jpg']\n",
    "# name_template = 'roi_'\n",
    "# cut_region_from_collection(source_folder, dest_folder, extentions_list, name_template)"
   ]
  },
  {
   "cell_type": "code",
   "execution_count": 193,
   "metadata": {
    "collapsed": true
   },
   "outputs": [],
   "source": [
    "def shift_x(img, shift):\n",
    "    shapes = img.shape\n",
    "    sh_x = shapes[1]\n",
    "    out = img.copy()\n",
    "    out[:, shift:] = img[:,:sh_x-shift]\n",
    "    out[:,:shift] = img[:,sh_x-shift:]\n",
    "    return out\n",
    "\n",
    "def shift_y(img, shift):\n",
    "    shapes = img.shape\n",
    "    sh_y = shapes[0]\n",
    "    out = img.copy()\n",
    "    out[shift:,:] = img[:sh_y-shift,:]\n",
    "    out[:shift,:] = img[sh_y-shift:,:]\n",
    "    return out\n",
    "\n",
    "def cut_negative_samples(img, winsize, step_x, step_y, dest_dir, name_template, ext='.jpg'):\n",
    "# разрезает изображение на сэмплы размера winsize и сохраняет их в папку dest_dir\n",
    "# img - исходное изображение\n",
    "# winsize (tuple (y,x)) - размер сэмпла < размера изображения\n",
    "# step_x - шаг по x, с которым будут нарезатьс сэмплы\n",
    "# step_y - шаг по y, с которым будут нарезаться сэмплы\n",
    "# name_template - шаблон имени сэмплов\n",
    "# ext - расширения файлов-сэмлов\n",
    "    cc=0\n",
    "    shapes = img.shape\n",
    "    win_y = winsize[0]\n",
    "    win_x = winsize[1]\n",
    "    for j in range(0, win_y+1, step_y):\n",
    "        if step_y <=0:\n",
    "            j = win_y+1\n",
    "        for i in range(0, win_x+1, step_x):\n",
    "            if step_x <=0:\n",
    "                i = win_x+1\n",
    "            curr_img = shift_x(shift_y(img,j), i)\n",
    "            for b_bound in range(win_y, shapes[0], win_y):\n",
    "                u_bound = b_bound - win_y\n",
    "                for r_bound in range(win_x, shapes[1], win_x):\n",
    "                    l_bound = r_bound - win_x\n",
    "                    cropped = img[u_bound:b_bound,l_bound:r_bound,:]\n",
    "                    name = name_template+str(cc)\n",
    "                    safe_write_image(cropped, dest_dir,name,ext)\n",
    "                    cc+=1\n",
    "                    \n",
    "def serial_cut_negative_samples(source_folder, dest_folder, winsize, step_x, step_y, name_template, extentions_list):\n",
    "# режет на сэмплы выбранные файлы в директории source_folder и складывает их в dest_folder\n",
    "# сэмплирование происходит по нажатию клавиши 'c'\n",
    "# выход - 'q'\n",
    "    fcounter = 0\n",
    "    for file in os.listdir(source_folder):\n",
    "        flag = False\n",
    "\n",
    "        for ext in extentions_list:\n",
    "            flag = flag or os.fsdecode(file).endswith(ext)\n",
    "\n",
    "        if flag:\n",
    "            img = cv2.imread(source_folder+file)\n",
    "            cv2.imshow('ex', img)\n",
    "            interrupt = cv2.waitKey()\n",
    "\n",
    "            if interrupt & 0xFF == ord('q'):\n",
    "                break\n",
    "\n",
    "            if interrupt & 0xFF == ord('c'):\n",
    "                cut_negative_samples(img, winsize, step_x, step_y, dest_folder, name_template, '.jpg')\n",
    "\n",
    "    cv2.destroyAllWindows()\n",
    "    \n"
   ]
  },
  {
   "cell_type": "code",
   "execution_count": 103,
   "metadata": {
    "collapsed": true
   },
   "outputs": [],
   "source": [
    "def cut_image_into_winsize(img, winsize):\n",
    "# разрезает изображение img на изображения размера winsize (nx,ny,:)\n",
    "    shapes = img.shape\n",
    "    win_x = winsize[0]\n",
    "    win_y = winsize[1]\n",
    "    nx = shapes[1]//win_x\n",
    "    ny = shapes[0]//win_y\n",
    "    if np.ndim(img) == 3:\n",
    "        out_ary = np.zeros((nx*ny,win_y, win_x, shapes[2]), dtype=np.uint8)\n",
    "    else:\n",
    "        out_ary = np.zeros((nx*ny,win_y, win_x), dtype=np.uint8)\n",
    "    cc = 0\n",
    "    for b_bound in range(win_y, shapes[0], win_y):\n",
    "        u_bound = b_bound - win_y\n",
    "        for r_bound in range(win_x, shapes[1], win_x):\n",
    "            l_bound = r_bound - win_x\n",
    "            cropped = img[u_bound:b_bound,l_bound:r_bound]\n",
    "            out_ary[cc] = cropped\n",
    "            cc += 1\n",
    "    return out_ary "
   ]
  },
  {
   "cell_type": "code",
   "execution_count": 233,
   "metadata": {
    "collapsed": true
   },
   "outputs": [],
   "source": [
    "def kullback_leibler_divergence(p, q):\n",
    "    p = np.asarray(p)\n",
    "    q = np.asarray(q)\n",
    "    filt = np.logical_and(p !=0, q!=0)\n",
    "    return np.sum(p[filt]*np.log2(p[filt]/q[filt]))\n",
    "\n",
    "def lbp_similar(a, b, threshold=0.07, method='default', n_points=8, radius=1, verbose=True):\n",
    "    if b.shape != a.shape:\n",
    "        raise TypeError\n",
    "    lbp_a = local_binary_pattern(a, n_points, radius, method)\n",
    "    lbp_b = local_binary_pattern(b, n_points, radius, method)\n",
    "    n_bins = n_points+2\n",
    "    hist_a, _ = np.histogram(lbp_a, normed=True, bins=n_bins, range=(0, n_bins))\n",
    "    hist_b, _ = np.histogram(lbp_b, normed=True, bins=n_bins, range=(0, n_bins))\n",
    "    score = abs(kullback_leibler_divergence(hist_a, hist_b))\n",
    "#     if verbose:\n",
    "#         print(score, threshold)\n",
    "    return score <= threshold"
   ]
  },
  {
   "cell_type": "code",
   "execution_count": 162,
   "metadata": {
    "collapsed": true
   },
   "outputs": [],
   "source": [
    "def make_histogram_of_sobel_grad(img, n_bins=16, ksize_=3):\n",
    "    grad_x = cv2.Sobel(img, cv2.CV_64F, dx=1, dy=0, ksize=ksize_)\n",
    "    grad_y = cv2.Sobel(img, cv2.CV_64F, dx=0, dy=1, ksize=ksize_)\n",
    "    img_g, img_theta = cv2.cartToPolar(grad_x, grad_y)\n",
    "    hist, _ = np.histogram(img_theta.flatten(), bins=n_bins, range=(0, 2*np.pi), weights=img_g.flatten(),normed=True)\n",
    "    return hist\n",
    "    \n",
    "def sobel_similar(a, b, threshold=0.1, n_bins_=16, ksize__=3):\n",
    "    if b.shape != a.shape:\n",
    "        raise TypeError\n",
    "\n",
    "    hist_a = make_histogram_of_sobel_grad(a, n_bins=n_bins_, ksize_=ksize__)\n",
    "    hist_b = make_histogram_of_sobel_grad(b, n_bins=n_bins_, ksize_=ksize__)\n",
    "    score = abs(kullback_leibler_divergence(hist_a, hist_b))\n",
    "    #print(score)\n",
    "    return score <= threshold"
   ]
  },
  {
   "cell_type": "code",
   "execution_count": 157,
   "metadata": {
    "collapsed": true
   },
   "outputs": [],
   "source": [
    "img1 = cv2.imread('C:/my_cv_work/data/pics/heads_2/noheads/model_roi/main.jpg')\n",
    "img2 = cv2.imread('C:/my_cv_work/data/pics/heads_2/noheads/model_roi/roi_0.jpg')\n",
    "img1 = cv2.cvtColor(img1, cv2.COLOR_BGR2GRAY)\n",
    "img2 = cv2.cvtColor(img2, cv2.COLOR_BGR2GRAY)\n",
    "ary1 = cut_image_into_winsize(img1, (48,48))\n",
    "ary2 = cut_image_into_winsize(img2, (48,48))"
   ]
  },
  {
   "cell_type": "code",
   "execution_count": 158,
   "metadata": {},
   "outputs": [
    {
     "name": "stdout",
     "output_type": "stream",
     "text": [
      "0.00784914943482\n",
      "True\n",
      "0.0138740032185\n",
      "True\n",
      "0.00968722056351\n",
      "True\n",
      "0.0183303255781\n",
      "True\n",
      "0.00916983032942\n",
      "True\n",
      "0.0185809606847\n",
      "True\n",
      "2.9413164956\n",
      "False\n"
     ]
    }
   ],
   "source": [
    "for i in range(ary1.shape[0]):\n",
    "    cc = np.concatenate((ary1[i], ary2[i]))\n",
    "    print(sobel_similar(ary1[i], ary2[i], n_bins_ = 16))\n",
    "    cv2.imshow('ex', cc)\n",
    "    interrupt = cv2.waitKey()\n",
    "\n",
    "    if interrupt & 0xFF == ord('q'):\n",
    "        cv2.destroyAllWindows()\n",
    "        break"
   ]
  },
  {
   "cell_type": "code",
   "execution_count": 173,
   "metadata": {
    "collapsed": true
   },
   "outputs": [],
   "source": [
    "def get_unique_samples(\n",
    "    main_sample_ary, cut_img_ary, threshold_ = 0.1, method='sobel', sobel_bins=16, sobel_ksize=3, \\\n",
    "    lbp_method='default', lbp_npoints=8, lbp_radius=1\n",
    "):\n",
    "    uniques_ary = []\n",
    "    winsize = main_sample_ary[0].shape[0:2]\n",
    "    n_img = main_sample_ary.shape[0]\n",
    "    if main_sample_ary.shape != cut_img_ary.shape:\n",
    "        raise TypeError\n",
    "\n",
    "    for i in range(n_img):\n",
    "        main_sample = main_sample_ary[i]\n",
    "        test_sample = cut_img_ary[i]\n",
    "        if method == 'sobel':\n",
    "            similar = sobel_similar(\n",
    "                main_sample, test_sample, threshold=threshold_, n_bins_=sobel_bins, ksize__=sobel_ksize\n",
    "            )\n",
    "        elif method == 'lbp':\n",
    "            similar = lbp_similar(\n",
    "                main_sample, test_sample, threshold=threshold_, method=lbp_method, n_points=lbp_npoints, radius=lbp_radius\n",
    "            )\n",
    "        else:\n",
    "            raise TypeError\n",
    "        if not similar:\n",
    "            uniques_ary.append(test_sample)\n",
    "\n",
    "    return uniques_ary"
   ]
  },
  {
   "cell_type": "code",
   "execution_count": 164,
   "metadata": {},
   "outputs": [
    {
     "data": {
      "text/plain": [
       "51"
      ]
     },
     "execution_count": 164,
     "metadata": {},
     "output_type": "execute_result"
    }
   ],
   "source": [
    "l = get_unique_samples(ary1, img2)\n",
    "len(l)"
   ]
  },
  {
   "cell_type": "code",
   "execution_count": 241,
   "metadata": {
    "collapsed": true
   },
   "outputs": [],
   "source": [
    "def serial_cut_no_duplicates(\n",
    "    source_folder, dest_folder, main_file,  winsize, step_x, step_y, name_template, extentions_list,\\\n",
    "    threshold_ = 0.1, method='sobel', sobel_bins=16, sobel_ksize=3,\\\n",
    "    lbp_method='default', lbp_npoints=8, lbp_radius=1\\\n",
    "):\n",
    "    cc=0\n",
    "    cfile = 0\n",
    "    main_img = cv2.imread(source_folder+main_file, flags=cv2.IMREAD_GRAYSCALE)\n",
    "    shapes = main_img.shape\n",
    "    win_y = winsize[0]\n",
    "    win_x = winsize[1]\n",
    "    for j in range(0, win_y+1, step_y):\n",
    "        for i in range(0, win_x+1, step_x):\n",
    "            curr_img = shift_x(shift_y(main_img,j), i)\n",
    "            main_img_ary = cut_image_into_winsize(curr_img, winsize)\n",
    "            for z in range(main_img_ary.shape[0]):\n",
    "                safe_write_image(main_img_ary[z], dest_folder, 'main_'+name_template+str(cc))\n",
    "                cc +=1\n",
    "            \n",
    "            for file in os.listdir(source_folder):\n",
    "                if os.fsdecode(file) != main_file and os.fsdecode(file).endswith('.jpg'):\n",
    "                    cfile +=1\n",
    "                    img = cv2.imread(source_folder+file, flags=cv2.IMREAD_GRAYSCALE)\n",
    "                    cimg = shift_x(shift_y(img,j), i)\n",
    "                    ctimg = cut_image_into_winsize(cimg, winsize)\n",
    "                    uniques = get_unique_samples(main_img_ary, ctimg, threshold_=threshold_, method=method)\n",
    "                    print(len(uniques), file, cfile)\n",
    "                    for img_ in uniques:\n",
    "                        safe_write_image(img_, dest_folder, name_template+str(cc))\n",
    "                        cc +=1  "
   ]
  },
  {
   "cell_type": "code",
   "execution_count": null,
   "metadata": {
    "collapsed": true
   },
   "outputs": [],
   "source": [
    "source_folder = 'C:/my_cv_work/data/pics/heads_2/noheads/model_roi/'\n",
    "dest_folder = 'C:/my_cv_work/data/pics/heads_2/noheads/model_roi/samples_108_108/'\n",
    "main_file = 'main.jpg'\n",
    "winsize = (108,108)\n",
    "step_x = 24\n",
    "step_y = 24\n",
    "name_template = 'sample_'\n",
    "extentions_list = ['.jpg']\n",
    "serial_cut_no_duplicates(source_folder, dest_folder, main_file,  winsize, step_x, step_y, name_template, extentions_list, method='lbp',threshold_=0.3)"
   ]
  },
  {
   "cell_type": "code",
   "execution_count": 192,
   "metadata": {
    "collapsed": true
   },
   "outputs": [],
   "source": [
    "# main_sample_ary = cut_image_into_winsize(img1, (100,100))\n",
    "# diff_ary = get_unique_samples(main_sample_ary, img2)\n",
    "# print(len(diff_ary))\n",
    "# for img in diff_ary:\n",
    "#     cv2.imshow('ex', img)\n",
    "#     interrupt=cv2.waitKey()\n",
    "#     if interrupt & 0xFF == ord('q'):\n",
    "#      cv2.destroyAllWindows()\n",
    "#         break\n",
    "cv2.destroyAllWindows()"
   ]
  },
  {
   "cell_type": "code",
   "execution_count": 123,
   "metadata": {
    "collapsed": true
   },
   "outputs": [],
   "source": [
    "def del_heads(source_folder, dest_folder, log_file, extentions_list):\n",
    "    from_center = False\n",
    "    fcounter = 0\n",
    "    with open(source_folder+log_file, 'a') as f:\n",
    "        for file in os.listdir(source_folder):\n",
    "            flag = False\n",
    "\n",
    "            for ext in extentions_list:\n",
    "                flag = flag or os.fsdecode(file).endswith(ext)\n",
    "\n",
    "            if flag:\n",
    "                write_flag = False\n",
    "                simg = cv2.imread(source_folder + file)\n",
    "                img = simg.copy()\n",
    "                f.write(file+'\\n')\n",
    "\n",
    "                while(True):\n",
    "                    r = cv2.selectROI('win_roi', img, from_center)\n",
    "                    if r == (0,0,0,0):\n",
    "                        break\n",
    "                    img[int(r[1]):int(r[1]+r[3]), int(r[0]):int(r[0]+r[2])] = 255\n",
    "                    write_flag = True\n",
    "\n",
    "                if write_flag:\n",
    "                    safe_write_image(img,dest_folder,'sample_'+str(fcounter),'.jpg')\n",
    "                    fcounter += 1\n",
    "\n",
    "                interrupt = cv2.waitKey()\n",
    "\n",
    "                if interrupt & 0xFF == ord('n'):\n",
    "                    break\n",
    "\n",
    "    cv2.destroyAllWindows()"
   ]
  },
  {
   "cell_type": "code",
   "execution_count": 10,
   "metadata": {
    "collapsed": true
   },
   "outputs": [],
   "source": [
    "? cv2.resize"
   ]
  },
  {
   "cell_type": "code",
   "execution_count": 12,
   "metadata": {
    "collapsed": true
   },
   "outputs": [],
   "source": [
    "def img_resizer(source_folder, dest_folder, final_size, extentions_list):\n",
    "    for file in os.listdir(source_folder):\n",
    "            flag = False\n",
    "\n",
    "            for ext in extentions_list:\n",
    "                flag = flag or os.fsdecode(file).endswith(ext)\n",
    "\n",
    "            if flag:\n",
    "                img = cv2.imread(os.path.join(source_folder,file))\n",
    "                img = cv2.resize(img,final_size)\n",
    "                cv2.imwrite(os.path.join(dest_folder,file),img)"
   ]
  },
  {
   "cell_type": "code",
   "execution_count": 21,
   "metadata": {
    "collapsed": true
   },
   "outputs": [],
   "source": [
    "source_folder = 'C:\\my_cv_work\\data\\pics\\people_from_long_sorted\\\\rest'\n",
    "extentions_list=['.jpg', '.jpeg']\n",
    "final_size = (60,120)\n",
    "#for i in range(1,31):\n",
    "src = source_folder #os.path.join(source_folder, str(i))\n",
    "dst=src\n",
    "img_resizer(src,dst,final_size,extentions_list)"
   ]
  },
  {
   "cell_type": "code",
   "execution_count": 8,
   "metadata": {
    "collapsed": true
   },
   "outputs": [],
   "source": [
    "def safe_renamer(source_folder, name_template, extentions_list, ext):\n",
    "    cntr = 0\n",
    "    for file in os.listdir(source_folder):\n",
    "        flag = False\n",
    "\n",
    "        for ext in extentions_list:\n",
    "            flag = flag or os.fsdecode(file).endswith(ext)\n",
    "\n",
    "        if flag:\n",
    "            src_name = os.path.join(source_folder,os.fsdecode(file))\n",
    "            templ = name_template+str(cntr)+ext\n",
    "            out_name = os.path.join(source_folder, templ)\n",
    "            cntr += 1\n",
    "            try:\n",
    "                os.rename(src_name, out_name)\n",
    "            except FileExistsError:\n",
    "                pass"
   ]
  },
  {
   "cell_type": "code",
   "execution_count": 15,
   "metadata": {
    "collapsed": true
   },
   "outputs": [],
   "source": [
    "source_folder = 'C:/my_cv_work/data/pics/people_from_long_sorted/rest'\n",
    "extentions_list = ['.jpg', '.jpeg']\n",
    "ext = '.jpg'\n",
    "#for i in range(1,31):\n",
    "name_template = 'pers_rest_'\n",
    "safe_renamer(source_folder, name_template, extentions_list, ext)"
   ]
  },
  {
   "cell_type": "code",
   "execution_count": 138,
   "metadata": {
    "collapsed": true
   },
   "outputs": [],
   "source": [
    "def grayscaler(source_folder, dest_folder, extentions_list, ext):\n",
    "    for file in os.listdir(source_folder):\n",
    "        flag = False\n",
    "\n",
    "        for ext in extentions_list:\n",
    "            flag = flag or os.fsdecode(file).endswith(ext)\n",
    "\n",
    "        if flag:\n",
    "            img = cv2.imread(source_folder+file)\n",
    "            img = cv2.cvtColor(img, cv2.COLOR_BGR2GRAY)\n",
    "            cv2.imwrite(dest_folder+file, img)"
   ]
  },
  {
   "cell_type": "code",
   "execution_count": 246,
   "metadata": {
    "collapsed": true
   },
   "outputs": [],
   "source": [
    "source_folder = 'D:/cv_data/cascade_training/try_3/positives/'\n",
    "dest_folder = source_folder\n",
    "grayscaler(source_folder, dest_folder, ['.jpg'], '')"
   ]
  },
  {
   "cell_type": "code",
   "execution_count": 250,
   "metadata": {
    "collapsed": true
   },
   "outputs": [],
   "source": [
    "def negative_samples_file_creator(current_dir, neg_dir, neg_fname):\n",
    "    with open(current_dir+neg_fname, 'w') as f:\n",
    "        for file in os.listdir(neg_dir):\n",
    "            f.write(neg_dir+file+'\\n')"
   ]
  },
  {
   "cell_type": "code",
   "execution_count": 251,
   "metadata": {
    "collapsed": true
   },
   "outputs": [],
   "source": [
    "current_dir = 'D:/cv_data/cascade_training/try_3/'\n",
    "neg_dir = 'D:/cv_data/cascade_training/try_3/negatives/'\n",
    "neg_fname = 'negatives.txt'\n",
    "negative_samples_file_creator(current_dir, neg_dir, neg_fname)"
   ]
  },
  {
   "cell_type": "code",
   "execution_count": 252,
   "metadata": {
    "collapsed": true
   },
   "outputs": [],
   "source": [
    "def positive_samples_file_creator(current_dir, pos_dir, pos_fname = 'positives.txt'):\n",
    "    with open(current_dir+pos_fname, 'w') as f:\n",
    "        for file in os.listdir(pos_dir):\n",
    "            shapes = cv2.imread(pos_dir+file).shape\n",
    "            string = pos_dir+file + ' 1 0 0 '+str(shapes[1])+' '+str(shapes[0])+'\\n'\n",
    "            f.write(string)"
   ]
  },
  {
   "cell_type": "code",
   "execution_count": 253,
   "metadata": {
    "collapsed": true
   },
   "outputs": [],
   "source": [
    "pos_dir = 'D:/cv_data/cascade_training/try_3/positives/'\n",
    "positive_samples_file_creator(current_dir, pos_dir)"
   ]
  },
  {
   "cell_type": "code",
   "execution_count": null,
   "metadata": {
    "collapsed": true
   },
   "outputs": [],
   "source": [
    "img_resizer('C:/my_cv_work/neural_classifier/try_1/negatives/','C:/my_cv_work/neural_classifier/try_1/negatives/resized/' , (48,48), ['.jpg'])"
   ]
  },
  {
   "cell_type": "code",
   "execution_count": 255,
   "metadata": {
    "collapsed": true
   },
   "outputs": [],
   "source": [
    "? dict.setdefault"
   ]
  },
  {
   "cell_type": "code",
   "execution_count": 265,
   "metadata": {
    "collapsed": true
   },
   "outputs": [],
   "source": [
    "def resolution_counter(source_dir):\n",
    "    diff_shape = {}\n",
    "    for file in os.listdir(source_dir):\n",
    "        if os.fsdecode(file).endswith('.jpg'):\n",
    "            img = cv2.imread(source_dir+file, flags=cv2.IMREAD_GRAYSCALE)\n",
    "            shapes = img.shape\n",
    "            if not shapes in diff_shape.keys():\n",
    "                diff_shape.setdefault(shapes, 1)\n",
    "            else:\n",
    "                diff_shape[shapes] += 1\n",
    "    pprint.pprint(diff_shape)"
   ]
  },
  {
   "cell_type": "code",
   "execution_count": 266,
   "metadata": {},
   "outputs": [
    {
     "name": "stdout",
     "output_type": "stream",
     "text": [
      "{(21, 21): 1,\n",
      " (23, 21): 1,\n",
      " (23, 22): 1,\n",
      " (23, 25): 1,\n",
      " (24, 20): 1,\n",
      " (24, 22): 1,\n",
      " (24, 23): 1,\n",
      " (24, 26): 1,\n",
      " (25, 20): 1,\n",
      " (25, 21): 3,\n",
      " (25, 23): 1,\n",
      " (25, 24): 2,\n",
      " (26, 19): 1,\n",
      " (26, 21): 3,\n",
      " (26, 22): 2,\n",
      " (26, 23): 4,\n",
      " (26, 24): 8,\n",
      " (26, 25): 3,\n",
      " (26, 26): 1,\n",
      " (26, 28): 2,\n",
      " (26, 33): 1,\n",
      " (27, 22): 3,\n",
      " (27, 23): 1,\n",
      " (27, 24): 4,\n",
      " (27, 25): 3,\n",
      " (27, 26): 5,\n",
      " (27, 27): 2,\n",
      " (27, 29): 1,\n",
      " (27, 30): 1,\n",
      " (27, 32): 1,\n",
      " (28, 21): 4,\n",
      " (28, 22): 4,\n",
      " (28, 23): 5,\n",
      " (28, 24): 14,\n",
      " (28, 25): 8,\n",
      " (28, 26): 6,\n",
      " (28, 27): 4,\n",
      " (28, 28): 5,\n",
      " (28, 30): 1,\n",
      " (28, 31): 1,\n",
      " (28, 32): 1,\n",
      " (28, 33): 1,\n",
      " (29, 21): 2,\n",
      " (29, 22): 3,\n",
      " (29, 23): 6,\n",
      " (29, 24): 6,\n",
      " (29, 25): 8,\n",
      " (29, 26): 9,\n",
      " (29, 27): 12,\n",
      " (29, 28): 9,\n",
      " (29, 29): 3,\n",
      " (29, 31): 1,\n",
      " (29, 32): 3,\n",
      " (29, 35): 1,\n",
      " (30, 22): 4,\n",
      " (30, 23): 8,\n",
      " (30, 24): 7,\n",
      " (30, 25): 14,\n",
      " (30, 26): 15,\n",
      " (30, 27): 13,\n",
      " (30, 28): 14,\n",
      " (30, 29): 6,\n",
      " (30, 30): 6,\n",
      " (30, 31): 3,\n",
      " (30, 32): 1,\n",
      " (30, 33): 1,\n",
      " (30, 34): 3,\n",
      " (30, 35): 3,\n",
      " (30, 36): 1,\n",
      " (31, 23): 5,\n",
      " (31, 24): 8,\n",
      " (31, 25): 10,\n",
      " (31, 26): 12,\n",
      " (31, 27): 15,\n",
      " (31, 28): 9,\n",
      " (31, 29): 5,\n",
      " (31, 30): 7,\n",
      " (31, 31): 4,\n",
      " (31, 32): 3,\n",
      " (31, 34): 2,\n",
      " (31, 35): 2,\n",
      " (31, 37): 1,\n",
      " (32, 23): 3,\n",
      " (32, 24): 3,\n",
      " (32, 25): 11,\n",
      " (32, 26): 14,\n",
      " (32, 27): 7,\n",
      " (32, 28): 17,\n",
      " (32, 29): 13,\n",
      " (32, 30): 8,\n",
      " (32, 31): 9,\n",
      " (32, 32): 7,\n",
      " (32, 33): 2,\n",
      " (32, 34): 2,\n",
      " (32, 36): 2,\n",
      " (32, 37): 1,\n",
      " (33, 22): 1,\n",
      " (33, 24): 4,\n",
      " (33, 25): 5,\n",
      " (33, 26): 7,\n",
      " (33, 27): 7,\n",
      " (33, 28): 6,\n",
      " (33, 29): 8,\n",
      " (33, 30): 8,\n",
      " (33, 31): 3,\n",
      " (33, 32): 9,\n",
      " (33, 33): 7,\n",
      " (33, 34): 2,\n",
      " (33, 35): 1,\n",
      " (33, 36): 3,\n",
      " (33, 37): 1,\n",
      " (33, 38): 1,\n",
      " (33, 39): 1,\n",
      " (34, 23): 1,\n",
      " (34, 24): 1,\n",
      " (34, 25): 4,\n",
      " (34, 26): 5,\n",
      " (34, 27): 3,\n",
      " (34, 28): 8,\n",
      " (34, 29): 21,\n",
      " (34, 30): 12,\n",
      " (34, 31): 20,\n",
      " (34, 32): 11,\n",
      " (34, 33): 2,\n",
      " (34, 34): 4,\n",
      " (34, 35): 5,\n",
      " (34, 36): 1,\n",
      " (34, 38): 1,\n",
      " (34, 39): 2,\n",
      " (34, 40): 2,\n",
      " (34, 41): 1,\n",
      " (35, 23): 1,\n",
      " (35, 25): 2,\n",
      " (35, 26): 3,\n",
      " (35, 27): 4,\n",
      " (35, 28): 11,\n",
      " (35, 29): 7,\n",
      " (35, 30): 7,\n",
      " (35, 31): 8,\n",
      " (35, 32): 9,\n",
      " (35, 33): 8,\n",
      " (35, 34): 7,\n",
      " (35, 35): 4,\n",
      " (35, 36): 2,\n",
      " (35, 37): 5,\n",
      " (35, 38): 1,\n",
      " (35, 40): 1,\n",
      " (35, 41): 1,\n",
      " (35, 43): 1,\n",
      " (36, 24): 1,\n",
      " (36, 25): 1,\n",
      " (36, 26): 4,\n",
      " (36, 27): 1,\n",
      " (36, 28): 5,\n",
      " (36, 29): 11,\n",
      " (36, 30): 8,\n",
      " (36, 31): 17,\n",
      " (36, 32): 8,\n",
      " (36, 33): 10,\n",
      " (36, 34): 10,\n",
      " (36, 35): 3,\n",
      " (36, 36): 5,\n",
      " (36, 37): 2,\n",
      " (36, 38): 4,\n",
      " (36, 39): 4,\n",
      " (36, 40): 4,\n",
      " (36, 42): 4,\n",
      " (36, 43): 1,\n",
      " (36, 44): 1,\n",
      " (37, 26): 1,\n",
      " (37, 27): 1,\n",
      " (37, 28): 2,\n",
      " (37, 29): 2,\n",
      " (37, 30): 7,\n",
      " (37, 31): 5,\n",
      " (37, 32): 18,\n",
      " (37, 33): 11,\n",
      " (37, 34): 8,\n",
      " (37, 35): 7,\n",
      " (37, 36): 7,\n",
      " (37, 38): 4,\n",
      " (37, 39): 1,\n",
      " (37, 40): 1,\n",
      " (37, 42): 1,\n",
      " (37, 43): 2,\n",
      " (38, 26): 1,\n",
      " (38, 28): 1,\n",
      " (38, 29): 3,\n",
      " (38, 30): 6,\n",
      " (38, 31): 9,\n",
      " (38, 32): 9,\n",
      " (38, 33): 12,\n",
      " (38, 34): 11,\n",
      " (38, 35): 8,\n",
      " (38, 36): 8,\n",
      " (38, 37): 5,\n",
      " (38, 38): 4,\n",
      " (38, 39): 1,\n",
      " (38, 40): 3,\n",
      " (38, 41): 3,\n",
      " (38, 42): 2,\n",
      " (38, 43): 3,\n",
      " (38, 44): 2,\n",
      " (38, 45): 1,\n",
      " (38, 46): 1,\n",
      " (39, 29): 2,\n",
      " (39, 30): 1,\n",
      " (39, 31): 3,\n",
      " (39, 32): 10,\n",
      " (39, 33): 8,\n",
      " (39, 34): 14,\n",
      " (39, 35): 9,\n",
      " (39, 36): 4,\n",
      " (39, 37): 8,\n",
      " (39, 38): 5,\n",
      " (39, 39): 1,\n",
      " (39, 40): 4,\n",
      " (39, 41): 5,\n",
      " (39, 42): 1,\n",
      " (39, 44): 3,\n",
      " (40, 29): 4,\n",
      " (40, 30): 2,\n",
      " (40, 31): 2,\n",
      " (40, 32): 7,\n",
      " (40, 33): 7,\n",
      " (40, 34): 9,\n",
      " (40, 35): 9,\n",
      " (40, 36): 13,\n",
      " (40, 37): 8,\n",
      " (40, 38): 6,\n",
      " (40, 39): 10,\n",
      " (40, 40): 4,\n",
      " (40, 41): 1,\n",
      " (40, 42): 6,\n",
      " (40, 43): 2,\n",
      " (40, 44): 2,\n",
      " (40, 45): 2,\n",
      " (41, 30): 1,\n",
      " (41, 32): 4,\n",
      " (41, 33): 3,\n",
      " (41, 34): 8,\n",
      " (41, 35): 7,\n",
      " (41, 36): 12,\n",
      " (41, 37): 3,\n",
      " (41, 38): 11,\n",
      " (41, 39): 5,\n",
      " (41, 40): 6,\n",
      " (41, 41): 2,\n",
      " (41, 42): 1,\n",
      " (41, 43): 4,\n",
      " (41, 44): 3,\n",
      " (41, 45): 3,\n",
      " (42, 31): 1,\n",
      " (42, 32): 1,\n",
      " (42, 33): 6,\n",
      " (42, 34): 4,\n",
      " (42, 35): 7,\n",
      " (42, 36): 10,\n",
      " (42, 37): 6,\n",
      " (42, 38): 9,\n",
      " (42, 39): 9,\n",
      " (42, 40): 8,\n",
      " (42, 41): 3,\n",
      " (42, 42): 3,\n",
      " (42, 43): 5,\n",
      " (42, 44): 2,\n",
      " (42, 48): 1,\n",
      " (43, 30): 1,\n",
      " (43, 32): 1,\n",
      " (43, 34): 1,\n",
      " (43, 35): 7,\n",
      " (43, 36): 3,\n",
      " (43, 37): 5,\n",
      " (43, 38): 4,\n",
      " (43, 39): 8,\n",
      " (43, 40): 6,\n",
      " (43, 41): 2,\n",
      " (43, 42): 4,\n",
      " (43, 43): 1,\n",
      " (43, 44): 1,\n",
      " (44, 32): 2,\n",
      " (44, 33): 1,\n",
      " (44, 34): 4,\n",
      " (44, 35): 2,\n",
      " (44, 36): 6,\n",
      " (44, 37): 7,\n",
      " (44, 38): 9,\n",
      " (44, 39): 5,\n",
      " (44, 40): 5,\n",
      " (44, 41): 6,\n",
      " (44, 42): 8,\n",
      " (44, 43): 3,\n",
      " (44, 44): 1,\n",
      " (44, 45): 4,\n",
      " (44, 46): 1,\n",
      " (44, 47): 1,\n",
      " (44, 48): 1,\n",
      " (45, 30): 2,\n",
      " (45, 31): 1,\n",
      " (45, 36): 3,\n",
      " (45, 37): 3,\n",
      " (45, 38): 8,\n",
      " (45, 39): 5,\n",
      " (45, 40): 7,\n",
      " (45, 41): 3,\n",
      " (45, 42): 4,\n",
      " (45, 43): 5,\n",
      " (45, 44): 3,\n",
      " (45, 45): 2,\n",
      " (45, 46): 1,\n",
      " (45, 49): 1,\n",
      " (46, 32): 1,\n",
      " (46, 33): 1,\n",
      " (46, 35): 2,\n",
      " (46, 36): 3,\n",
      " (46, 37): 5,\n",
      " (46, 38): 3,\n",
      " (46, 39): 4,\n",
      " (46, 40): 4,\n",
      " (46, 41): 4,\n",
      " (46, 42): 3,\n",
      " (46, 43): 3,\n",
      " (46, 45): 2,\n",
      " (46, 46): 1,\n",
      " (46, 48): 1,\n",
      " (46, 49): 1,\n",
      " (47, 32): 1,\n",
      " (47, 34): 1,\n",
      " (47, 35): 1,\n",
      " (47, 36): 1,\n",
      " (47, 37): 2,\n",
      " (47, 38): 1,\n",
      " (47, 39): 2,\n",
      " (47, 40): 3,\n",
      " (47, 41): 5,\n",
      " (47, 42): 1,\n",
      " (47, 43): 2,\n",
      " (47, 44): 1,\n",
      " (47, 45): 2,\n",
      " (47, 47): 1,\n",
      " (48, 36): 1,\n",
      " (48, 37): 2,\n",
      " (48, 38): 1,\n",
      " (48, 39): 1,\n",
      " (48, 40): 3,\n",
      " (48, 41): 2,\n",
      " (48, 42): 2,\n",
      " (48, 43): 5,\n",
      " (48, 44): 3,\n",
      " (48, 45): 2,\n",
      " (49, 36): 1,\n",
      " (49, 39): 2,\n",
      " (49, 40): 2,\n",
      " (49, 41): 1,\n",
      " (49, 42): 1,\n",
      " (49, 44): 3,\n",
      " (49, 45): 2,\n",
      " (50, 36): 1,\n",
      " (50, 40): 1,\n",
      " (50, 41): 1,\n",
      " (50, 42): 1,\n",
      " (50, 43): 2,\n",
      " (50, 44): 1,\n",
      " (51, 36): 1,\n",
      " (51, 42): 1,\n",
      " (51, 43): 1,\n",
      " (51, 44): 1,\n",
      " (51, 46): 1,\n",
      " (52, 41): 1,\n",
      " (52, 43): 1,\n",
      " (52, 48): 1,\n",
      " (53, 43): 1,\n",
      " (53, 44): 2,\n",
      " (53, 47): 1,\n",
      " (53, 48): 1}\n"
     ]
    }
   ],
   "source": [
    "source_dir = 'D:/cv_data/cascade_training/try_3/positives/'\n",
    "resolution_counter(source_dir)"
   ]
  },
  {
   "cell_type": "code",
   "execution_count": 264,
   "metadata": {
    "collapsed": true
   },
   "outputs": [],
   "source": [
    "? pprint"
   ]
  },
  {
   "cell_type": "code",
   "execution_count": 271,
   "metadata": {},
   "outputs": [
    {
     "data": {
      "text/plain": [
       "False"
      ]
     },
     "execution_count": 271,
     "metadata": {},
     "output_type": "execute_result"
    }
   ],
   "source": [
    "(31,29) < (30,30)"
   ]
  },
  {
   "cell_type": "code",
   "execution_count": 30,
   "metadata": {
    "collapsed": true
   },
   "outputs": [],
   "source": [
    "from keras.preprocessing.image import ImageDataGenerator, array_to_img, img_to_array, load_img\n",
    "\n",
    "datagen = ImageDataGenerator(\n",
    "        rotation_range=10,\n",
    "        width_shift_range=0.1,\n",
    "        height_shift_range=0.1,\n",
    "        shear_range=0.1,\n",
    "        zoom_range=0.1,\n",
    "        horizontal_flip=True,\n",
    "        fill_mode='nearest')\n",
    "\n",
    "img = load_img('C:/my_cv_work/data/pics/people_from_long_sorted/1/pers_1_0.jpeg')  # this is a PIL image\n",
    "x = img_to_array(img)  # this is a Numpy array with shape (3, 150, 150)\n",
    "x = x.reshape((1,) + x.shape)  # this is a Numpy array with shape (1, 3, 150, 150)\n",
    "\n",
    "# the .flow() command below generates batches of randomly transformed images\n",
    "# and saves the results to the `preview/` directory\n",
    "i = 0\n",
    "for batch in datagen.flow(x, batch_size=32, save_prefix = 'pers_1',\n",
    "                          save_to_dir='C:/my_cv_work/data/pics/people_from_long_sorted/1/preview', save_format='jpeg'):\n",
    "    i += 1\n",
    "    if i > 1:\n",
    "        break  # otherwise the generator would loop indefinitely"
   ]
  },
  {
   "cell_type": "code",
   "execution_count": 45,
   "metadata": {
    "collapsed": true
   },
   "outputs": [],
   "source": [
    "data_path = 'C:\\\\my_cv_work\\\\data\\\\pics\\\\people_from_long_sorted\\\\1'\n",
    "save_dir = 'C:\\\\my_cv_work\\\\data\\\\pics\\\\people_from_long_sorted\\\\1\\\\aug'"
   ]
  },
  {
   "cell_type": "code",
   "execution_count": 46,
   "metadata": {
    "collapsed": true
   },
   "outputs": [],
   "source": [
    "datagen = ImageDataGenerator(\n",
    "        rotation_range=10,\n",
    "        width_shift_range=0.1,\n",
    "        height_shift_range=0.1,\n",
    "        shear_range=0.1,\n",
    "        zoom_range=0.1,\n",
    "        horizontal_flip=True,\n",
    "        fill_mode='nearest')"
   ]
  },
  {
   "cell_type": "code",
   "execution_count": 47,
   "metadata": {},
   "outputs": [
    {
     "name": "stdout",
     "output_type": "stream",
     "text": [
      "Found 0 images belonging to 1 classes.\n"
     ]
    },
    {
     "ename": "ZeroDivisionError",
     "evalue": "integer division or modulo by zero",
     "output_type": "error",
     "traceback": [
      "\u001b[1;31m---------------------------------------------------------------------------\u001b[0m",
      "\u001b[1;31mZeroDivisionError\u001b[0m                         Traceback (most recent call last)",
      "\u001b[1;32m<ipython-input-47-9073cda75485>\u001b[0m in \u001b[0;36m<module>\u001b[1;34m()\u001b[0m\n\u001b[0;32m      4\u001b[0m         \u001b[0mtarget_size\u001b[0m\u001b[1;33m=\u001b[0m\u001b[1;33m(\u001b[0m\u001b[1;36m120\u001b[0m\u001b[1;33m,\u001b[0m \u001b[1;36m60\u001b[0m\u001b[1;33m)\u001b[0m\u001b[1;33m,\u001b[0m  \u001b[1;31m# all images will be resized to 150x150\u001b[0m\u001b[1;33m\u001b[0m\u001b[0m\n\u001b[0;32m      5\u001b[0m         \u001b[0mbatch_size\u001b[0m\u001b[1;33m=\u001b[0m\u001b[1;36m16\u001b[0m\u001b[1;33m,\u001b[0m\u001b[1;33m\u001b[0m\u001b[0m\n\u001b[1;32m----> 6\u001b[1;33m         save_to_dir=save_dir):\n\u001b[0m\u001b[0;32m      7\u001b[0m     \u001b[0mi\u001b[0m\u001b[1;33m+=\u001b[0m\u001b[1;36m1\u001b[0m\u001b[1;33m\u001b[0m\u001b[0m\n\u001b[0;32m      8\u001b[0m     \u001b[1;32mif\u001b[0m \u001b[0mi\u001b[0m\u001b[1;33m>\u001b[0m\u001b[1;36m1\u001b[0m\u001b[1;33m:\u001b[0m\u001b[1;33m\u001b[0m\u001b[0m\n",
      "\u001b[1;32mC:\\ProgramData\\Anaconda3\\lib\\site-packages\\keras\\preprocessing\\image.py\u001b[0m in \u001b[0;36m__next__\u001b[1;34m(self, *args, **kwargs)\u001b[0m\n\u001b[0;32m    735\u001b[0m \u001b[1;33m\u001b[0m\u001b[0m\n\u001b[0;32m    736\u001b[0m     \u001b[1;32mdef\u001b[0m \u001b[0m__next__\u001b[0m\u001b[1;33m(\u001b[0m\u001b[0mself\u001b[0m\u001b[1;33m,\u001b[0m \u001b[1;33m*\u001b[0m\u001b[0margs\u001b[0m\u001b[1;33m,\u001b[0m \u001b[1;33m**\u001b[0m\u001b[0mkwargs\u001b[0m\u001b[1;33m)\u001b[0m\u001b[1;33m:\u001b[0m\u001b[1;33m\u001b[0m\u001b[0m\n\u001b[1;32m--> 737\u001b[1;33m         \u001b[1;32mreturn\u001b[0m \u001b[0mself\u001b[0m\u001b[1;33m.\u001b[0m\u001b[0mnext\u001b[0m\u001b[1;33m(\u001b[0m\u001b[1;33m*\u001b[0m\u001b[0margs\u001b[0m\u001b[1;33m,\u001b[0m \u001b[1;33m**\u001b[0m\u001b[0mkwargs\u001b[0m\u001b[1;33m)\u001b[0m\u001b[1;33m\u001b[0m\u001b[0m\n\u001b[0m\u001b[0;32m    738\u001b[0m \u001b[1;33m\u001b[0m\u001b[0m\n\u001b[0;32m    739\u001b[0m \u001b[1;33m\u001b[0m\u001b[0m\n",
      "\u001b[1;32mC:\\ProgramData\\Anaconda3\\lib\\site-packages\\keras\\preprocessing\\image.py\u001b[0m in \u001b[0;36mnext\u001b[1;34m(self)\u001b[0m\n\u001b[0;32m   1021\u001b[0m         \"\"\"\n\u001b[0;32m   1022\u001b[0m         \u001b[1;32mwith\u001b[0m \u001b[0mself\u001b[0m\u001b[1;33m.\u001b[0m\u001b[0mlock\u001b[0m\u001b[1;33m:\u001b[0m\u001b[1;33m\u001b[0m\u001b[0m\n\u001b[1;32m-> 1023\u001b[1;33m             \u001b[0mindex_array\u001b[0m\u001b[1;33m,\u001b[0m \u001b[0mcurrent_index\u001b[0m\u001b[1;33m,\u001b[0m \u001b[0mcurrent_batch_size\u001b[0m \u001b[1;33m=\u001b[0m \u001b[0mnext\u001b[0m\u001b[1;33m(\u001b[0m\u001b[0mself\u001b[0m\u001b[1;33m.\u001b[0m\u001b[0mindex_generator\u001b[0m\u001b[1;33m)\u001b[0m\u001b[1;33m\u001b[0m\u001b[0m\n\u001b[0m\u001b[0;32m   1024\u001b[0m         \u001b[1;31m# The transformation of images is not under thread lock\u001b[0m\u001b[1;33m\u001b[0m\u001b[1;33m\u001b[0m\u001b[0m\n\u001b[0;32m   1025\u001b[0m         \u001b[1;31m# so it can be done in parallel\u001b[0m\u001b[1;33m\u001b[0m\u001b[1;33m\u001b[0m\u001b[0m\n",
      "\u001b[1;32mC:\\ProgramData\\Anaconda3\\lib\\site-packages\\keras\\preprocessing\\image.py\u001b[0m in \u001b[0;36m_flow_index\u001b[1;34m(self, n, batch_size, shuffle, seed)\u001b[0m\n\u001b[0;32m    718\u001b[0m                     \u001b[0mindex_array\u001b[0m \u001b[1;33m=\u001b[0m \u001b[0mnp\u001b[0m\u001b[1;33m.\u001b[0m\u001b[0mrandom\u001b[0m\u001b[1;33m.\u001b[0m\u001b[0mpermutation\u001b[0m\u001b[1;33m(\u001b[0m\u001b[0mn\u001b[0m\u001b[1;33m)\u001b[0m\u001b[1;33m\u001b[0m\u001b[0m\n\u001b[0;32m    719\u001b[0m \u001b[1;33m\u001b[0m\u001b[0m\n\u001b[1;32m--> 720\u001b[1;33m             \u001b[0mcurrent_index\u001b[0m \u001b[1;33m=\u001b[0m \u001b[1;33m(\u001b[0m\u001b[0mself\u001b[0m\u001b[1;33m.\u001b[0m\u001b[0mbatch_index\u001b[0m \u001b[1;33m*\u001b[0m \u001b[0mbatch_size\u001b[0m\u001b[1;33m)\u001b[0m \u001b[1;33m%\u001b[0m \u001b[0mn\u001b[0m\u001b[1;33m\u001b[0m\u001b[0m\n\u001b[0m\u001b[0;32m    721\u001b[0m             \u001b[1;32mif\u001b[0m \u001b[0mn\u001b[0m \u001b[1;33m>\u001b[0m \u001b[0mcurrent_index\u001b[0m \u001b[1;33m+\u001b[0m \u001b[0mbatch_size\u001b[0m\u001b[1;33m:\u001b[0m\u001b[1;33m\u001b[0m\u001b[0m\n\u001b[0;32m    722\u001b[0m                 \u001b[0mcurrent_batch_size\u001b[0m \u001b[1;33m=\u001b[0m \u001b[0mbatch_size\u001b[0m\u001b[1;33m\u001b[0m\u001b[0m\n",
      "\u001b[1;31mZeroDivisionError\u001b[0m: integer division or modulo by zero"
     ]
    }
   ],
   "source": [
    "i=0\n",
    "for batch in datagen.flow_from_directory(\n",
    "        directory=data_path,  # this is the target directory\n",
    "        target_size=(120, 60),  # all images will be resized to 150x150\n",
    "        batch_size=16,\n",
    "        save_to_dir=save_dir):\n",
    "    i+=1\n",
    "    if i>1:\n",
    "        break\n"
   ]
  },
  {
   "cell_type": "code",
   "execution_count": 49,
   "metadata": {
    "collapsed": true
   },
   "outputs": [],
   "source": [
    "import shutil\n",
    "src = 'C:\\\\my_cv_work\\\\data\\\\pics\\\\people_from_long_sorted'\n",
    "root_dest = 'C:\\\\my_cv_work\\\\data\\\\pics\\\\people_from_long_sorted\\\\little_examples'\n",
    "for i in range (1,31):\n",
    "    csrc = os.path.join(src,str(i))\n",
    "    nfiles = len(os.listdir(csrc))\n",
    "    if nfiles <100:\n",
    "        dest = os.path.join(root_dest, str(i))\n",
    "        os.makedirs(dest)\n",
    "        for file in os.listdir(csrc):\n",
    "            shutil.copy2(os.path.join(csrc, file),dest)"
   ]
  },
  {
   "cell_type": "code",
   "execution_count": 53,
   "metadata": {
    "collapsed": true
   },
   "outputs": [],
   "source": [
    "def gen_samples(source_dir, dest_dir, target_number_of_samples, datagen):\n",
    "    nfiles = len(os.listdir(source_dir))\n",
    "    nepoch = target_number_of_samples // nfiles\n",
    "    for file in os.listdir(source_dir):\n",
    "        img = load_img(os.path.join(source_dir, file))  # this is a PIL image\n",
    "        x = img_to_array(img)  # this is a Numpy array with shape (3, 150, 150)\n",
    "        x = x.reshape((1,) + x.shape)\n",
    "        i = 1\n",
    "        for batch in datagen.flow(x, batch_size=1, save_prefix = 'pers',\n",
    "            save_to_dir=dest_dir, save_format='jpeg'):\n",
    "            i += 1\n",
    "            if i > nepoch:\n",
    "                break  # otherwise the generator would loop indefinitely"
   ]
  },
  {
   "cell_type": "code",
   "execution_count": 54,
   "metadata": {
    "collapsed": true
   },
   "outputs": [],
   "source": [
    "datagen = ImageDataGenerator(\n",
    "        rotation_range=10,\n",
    "        width_shift_range=0.1,\n",
    "        height_shift_range=0.1,\n",
    "        shear_range=0.1,\n",
    "        zoom_range=0.1,\n",
    "        horizontal_flip=True,\n",
    "        fill_mode='nearest')"
   ]
  },
  {
   "cell_type": "code",
   "execution_count": 70,
   "metadata": {
    "collapsed": true
   },
   "outputs": [],
   "source": [
    "root = 'C:\\\\my_cv_work\\\\data\\\\pics\\\\people_from_long_sorted_120x60\\\\little_examples'\n",
    "for _dir in os.listdir(root):\n",
    "    cdir = os.path.join(root,_dir)\n",
    "    gen_samples(cdir,cdir,120,datagen)"
   ]
  },
  {
   "cell_type": "code",
   "execution_count": 57,
   "metadata": {
    "collapsed": true
   },
   "outputs": [],
   "source": [
    "a=[1,2,3]"
   ]
  },
  {
   "cell_type": "code",
   "execution_count": 60,
   "metadata": {
    "collapsed": true
   },
   "outputs": [],
   "source": [
    "def keep_only_n(src_dir, nkeep):\n",
    "    while(len(os.listdir(src_dir))>nkeep):\n",
    "        flist = os.listdir(src_dir)\n",
    "        n=np.random.randint(0,len(flist)-1)\n",
    "        fdel=flist[n]\n",
    "        os.remove(os.path.join(src_dir,fdel))"
   ]
  },
  {
   "cell_type": "code",
   "execution_count": 71,
   "metadata": {
    "collapsed": true
   },
   "outputs": [],
   "source": [
    "root='C:\\\\my_cv_work\\\\data\\\\pics\\\\people_for_model'\n",
    "for d in os.listdir(root):\n",
    "    keep_only_n(os.path.join(root,d),120)"
   ]
  },
  {
   "cell_type": "code",
   "execution_count": 72,
   "metadata": {},
   "outputs": [
    {
     "name": "stdout",
     "output_type": "stream",
     "text": [
      "1 120\n",
      "10 120\n",
      "11 120\n",
      "12 120\n",
      "13 120\n",
      "14 120\n",
      "15 120\n",
      "16 120\n",
      "17 120\n",
      "18 120\n",
      "19 120\n",
      "2 120\n",
      "20 120\n",
      "21 120\n",
      "22 120\n",
      "23 120\n",
      "24 120\n",
      "25 120\n",
      "26 120\n",
      "27 120\n",
      "28 120\n",
      "29 120\n",
      "3 120\n",
      "30 120\n",
      "4 120\n",
      "5 120\n",
      "6 120\n",
      "7 120\n",
      "8 120\n",
      "9 120\n"
     ]
    }
   ],
   "source": [
    "root='C:\\\\my_cv_work\\\\data\\\\pics\\\\people_for_model'\n",
    "for d in os.listdir(root):\n",
    "    print(d,len(os.listdir(os.path.join(root,d))))"
   ]
  },
  {
   "cell_type": "code",
   "execution_count": 77,
   "metadata": {
    "collapsed": true
   },
   "outputs": [],
   "source": [
    "train_dir='C:\\\\my_cv_work\\\\data\\\\pics\\\\people_for_model\\\\train'\n",
    "test_dir='C:\\\\my_cv_work\\\\data\\\\pics\\\\people_for_model\\\\test'\n",
    "ftrain=os.listdir(train_dir)\n",
    "for f in ftrain:\n",
    "    dest_f=os.path.join(test_dir,f)\n",
    "    os.mkdir(dest_f)\n",
    "    while(len(os.listdir(os.path.join(train_dir,f)))>100):\n",
    "        flist=os.listdir(os.path.join(train_dir,f))\n",
    "        n=np.random.randint(0,len(flist)-1)\n",
    "        file=os.path.join(train_dir,f,flist[n])\n",
    "        shutil.copy2(file,dest_f)\n",
    "        os.remove(file)\n",
    "        "
   ]
  },
  {
   "cell_type": "code",
   "execution_count": null,
   "metadata": {
    "collapsed": true
   },
   "outputs": [],
   "source": []
  }
 ],
 "metadata": {
  "kernelspec": {
   "display_name": "Python 3",
   "language": "python",
   "name": "python3"
  },
  "language_info": {
   "codemirror_mode": {
    "name": "ipython",
    "version": 3
   },
   "file_extension": ".py",
   "mimetype": "text/x-python",
   "name": "python",
   "nbconvert_exporter": "python",
   "pygments_lexer": "ipython3",
   "version": "3.6.1"
  }
 },
 "nbformat": 4,
 "nbformat_minor": 2
}
